{
 "cells": [
  {
   "cell_type": "markdown",
   "id": "encouraging-maldives",
   "metadata": {},
   "source": [
    "The nature of data below reflects the type of data produced from the NOAA.\n",
    "For example, some have \"SNOW\" as key, some don't. And there are possibilities of others like that you may not know before hand. Therefore, your code must make provision for that in advance.\n",
    "\n",
    "1. First, you will have to check through the data and list out the keys, which will serve as columns of your data after processed. \n",
    "\n",
    "2. Second, you will have to conclude if you're extracting all key-value, or just some. For example, are you extracting just name, class, and status, or all: name, class, age. status, sport.\n",
    "\n",
    "3. After you complete 1 and 2, then you write seperate functions to extract all data you conclude on in 2 individually. Because of the inconsistency you should write them following this provision."
   ]
  },
  {
   "cell_type": "code",
   "execution_count": 15,
   "id": "close-parallel",
   "metadata": {},
   "outputs": [],
   "source": [
    "students_details = [\n",
    "{\"name\": \"Adeoluwa Adegbagi\", \"class\": \"primary 4\", \"age\": 12, \"status\": \"scholar\"},\n",
    "{\"name\": \"Abeke Abeni\", \"class\": \"primary 3\",\"sport\":\"football\", \"age\": 10},\n",
    "{\"name\": \"Adeleke Iyanda\", \"class\": \"primary 5\", \"age\": 15}\n",
    "]"
   ]
  },
  {
   "cell_type": "code",
   "execution_count": 16,
   "id": "prerequisite-limitation",
   "metadata": {},
   "outputs": [],
   "source": [
    "def extract_name(students_details):\n",
    "    names = []\n",
    "    for dictionary in students_details:\n",
    "        if 'name' in dictionary:\n",
    "            names.append(dictionary['name'])\n",
    "        else:\n",
    "            names.append(None)\n",
    "    return names"
   ]
  },
  {
   "cell_type": "code",
   "execution_count": 17,
   "id": "polish-fashion",
   "metadata": {},
   "outputs": [],
   "source": [
    "list_of_names = extract_name(students_details)"
   ]
  },
  {
   "cell_type": "markdown",
   "id": "advisory-italian",
   "metadata": {},
   "source": [
    "This is to show what we got:"
   ]
  },
  {
   "cell_type": "code",
   "execution_count": 18,
   "id": "random-charger",
   "metadata": {},
   "outputs": [
    {
     "name": "stdout",
     "output_type": "stream",
     "text": [
      "['Adeoluwa Adegbagi', 'Abeke Abeni', 'Adeleke Iyanda']\n"
     ]
    }
   ],
   "source": [
    "print(list_of_names)"
   ]
  },
  {
   "cell_type": "code",
   "execution_count": 51,
   "id": "dominant-union",
   "metadata": {},
   "outputs": [],
   "source": []
  },
  {
   "cell_type": "code",
   "execution_count": 1,
   "id": "analyzed-return",
   "metadata": {},
   "outputs": [],
   "source": [
    "students_details = [\n",
    "{\"name\": \"Adeoluwa Adegbagi\", \"class\": \"primary 4\"},\n",
    "{\"name\": \"Abeke Abeni\", \"class\": \"primary 6\"},\n",
    "{\"name\": \"Adeleke Iyanda\", \"class\": \"primary 7\"}\n",
    "]"
   ]
  },
  {
   "cell_type": "code",
   "execution_count": 2,
   "id": "synthetic-blues",
   "metadata": {},
   "outputs": [],
   "source": [
    "def print_name_and_class(name,clas):\n",
    "    print(name,clas)"
   ]
  },
  {
   "cell_type": "code",
   "execution_count": 3,
   "id": "enormous-investigation",
   "metadata": {},
   "outputs": [],
   "source": [
    "def extract_name_to_print(students_details):\n",
    "    for dictionary in students_details:\n",
    "        if 'name' in dictionary and 'class' in dictionary:\n",
    "          print_name_and_class(dictionary['name'],dictionary['class'])\n",
    "          #print(dictionary['name'],dictionary['class'])"
   ]
  },
  {
   "cell_type": "code",
   "execution_count": 3,
   "id": "nonprofit-server",
   "metadata": {},
   "outputs": [],
   "source": []
  },
  {
   "cell_type": "code",
   "execution_count": 4,
   "id": "surface-whale",
   "metadata": {},
   "outputs": [
    {
     "name": "stdout",
     "output_type": "stream",
     "text": [
      "Adeoluwa Adegbagi primary 4\n",
      "Abeke Abeni primary 6\n",
      "Adeleke Iyanda primary 7\n"
     ]
    }
   ],
   "source": [
    "extract_name_to_print(students_details)"
   ]
  },
  {
   "cell_type": "code",
   "execution_count": null,
   "id": "approximate-celebrity",
   "metadata": {},
   "outputs": [],
   "source": []
  },
  {
   "cell_type": "code",
   "execution_count": null,
   "id": "beautiful-shakespeare",
   "metadata": {},
   "outputs": [],
   "source": []
  },
  {
   "cell_type": "code",
   "execution_count": 52,
   "id": "representative-forward",
   "metadata": {},
   "outputs": [
    {
     "data": {
      "text/plain": [
       "['Adeoluwa Adegbagi', 'Abeke Abeni', 'Adeleke Iyanda']"
      ]
     },
     "execution_count": 52,
     "metadata": {},
     "output_type": "execute_result"
    }
   ],
   "source": [
    "extract_name(students_details)"
   ]
  },
  {
   "cell_type": "code",
   "execution_count": 6,
   "id": "infrared-benchmark",
   "metadata": {},
   "outputs": [],
   "source": [
    "def extract_details(students_details):\n",
    "    names = []\n",
    "    classes = []\n",
    "    age = []\n",
    "    for dictionary in students_details:\n",
    "        for key in dictionary:\n",
    "            if key == \"name\":\n",
    "                names.append(dictionary[key])\n",
    "            elif key == \"class\":\n",
    "                classes.append(dictionary[key])\n",
    "            elif key == \"age\":\n",
    "                age.append(dictionary[key])\n",
    "    return names,classes,age"
   ]
  },
  {
   "cell_type": "code",
   "execution_count": 9,
   "id": "explicit-registration",
   "metadata": {},
   "outputs": [],
   "source": [
    "details_list = extract_details(students_details)"
   ]
  },
  {
   "cell_type": "code",
   "execution_count": 12,
   "id": "involved-humanity",
   "metadata": {},
   "outputs": [
    {
     "data": {
      "text/plain": [
       "(['Adeoluwa Adegbagi', 'Abeke Abeni', 'Adeleke Iyanda'],\n",
       " ['primary 4', 'primary 3', 'primary 5'],\n",
       " [12, 10, 15])"
      ]
     },
     "execution_count": 12,
     "metadata": {},
     "output_type": "execute_result"
    }
   ],
   "source": [
    "details_list"
   ]
  },
  {
   "cell_type": "code",
   "execution_count": 10,
   "id": "accessory-highland",
   "metadata": {},
   "outputs": [],
   "source": [
    "import pandas as pd"
   ]
  },
  {
   "cell_type": "code",
   "execution_count": null,
   "id": "working-average",
   "metadata": {},
   "outputs": [],
   "source": []
  },
  {
   "cell_type": "code",
   "execution_count": 14,
   "id": "acknowledged-prophet",
   "metadata": {},
   "outputs": [
    {
     "data": {
      "text/html": [
       "<div>\n",
       "<style scoped>\n",
       "    .dataframe tbody tr th:only-of-type {\n",
       "        vertical-align: middle;\n",
       "    }\n",
       "\n",
       "    .dataframe tbody tr th {\n",
       "        vertical-align: top;\n",
       "    }\n",
       "\n",
       "    .dataframe thead th {\n",
       "        text-align: right;\n",
       "    }\n",
       "</style>\n",
       "<table border=\"1\" class=\"dataframe\">\n",
       "  <thead>\n",
       "    <tr style=\"text-align: right;\">\n",
       "      <th></th>\n",
       "      <th>name</th>\n",
       "      <th>classes</th>\n",
       "      <th>age</th>\n",
       "    </tr>\n",
       "  </thead>\n",
       "  <tbody>\n",
       "    <tr>\n",
       "      <th>0</th>\n",
       "      <td>Adeoluwa Adegbagi</td>\n",
       "      <td>Abeke Abeni</td>\n",
       "      <td>Adeleke Iyanda</td>\n",
       "    </tr>\n",
       "    <tr>\n",
       "      <th>1</th>\n",
       "      <td>primary 4</td>\n",
       "      <td>primary 3</td>\n",
       "      <td>primary 5</td>\n",
       "    </tr>\n",
       "    <tr>\n",
       "      <th>2</th>\n",
       "      <td>12</td>\n",
       "      <td>10</td>\n",
       "      <td>15</td>\n",
       "    </tr>\n",
       "  </tbody>\n",
       "</table>\n",
       "</div>"
      ],
      "text/plain": [
       "                name      classes             age\n",
       "0  Adeoluwa Adegbagi  Abeke Abeni  Adeleke Iyanda\n",
       "1          primary 4    primary 3       primary 5\n",
       "2                 12           10              15"
      ]
     },
     "execution_count": 14,
     "metadata": {},
     "output_type": "execute_result"
    }
   ],
   "source": [
    "details_dataframe.head()"
   ]
  },
  {
   "cell_type": "code",
   "execution_count": null,
   "id": "occasional-groove",
   "metadata": {},
   "outputs": [],
   "source": [
    "import requests\n",
    "import bs4\n",
    "from bs4 import BeautifulSoup"
   ]
  },
  {
   "cell_type": "code",
   "execution_count": null,
   "id": "recognized-cooper",
   "metadata": {},
   "outputs": [],
   "source": [
    "URL = \"https://www.ncei.noaa.gov/access/services/data/v1?dataset=daily-summaries&stations=USC00457180,USC00390043&startDate=1941-12-07T09:31:20z&endDate=1945-07-12&format=json\""
   ]
  },
  {
   "cell_type": "code",
   "execution_count": null,
   "id": "grand-headset",
   "metadata": {},
   "outputs": [],
   "source": [
    "page = requests.get(URL)"
   ]
  },
  {
   "cell_type": "code",
   "execution_count": null,
   "id": "martial-stock",
   "metadata": {},
   "outputs": [],
   "source": [
    "formated_page = BeautifulSoup(page.text, \"html.parser\")"
   ]
  },
  {
   "cell_type": "code",
   "execution_count": null,
   "id": "correct-pepper",
   "metadata": {},
   "outputs": [],
   "source": [
    "print(formated_page.prettify())"
   ]
  },
  {
   "cell_type": "code",
   "execution_count": null,
   "id": "executed-angle",
   "metadata": {},
   "outputs": [],
   "source": [
    "loaded_remote = load_data_from_remote (URL)"
   ]
  },
  {
   "cell_type": "code",
   "execution_count": null,
   "id": "ranking-acoustic",
   "metadata": {},
   "outputs": [],
   "source": [
    "len(loaded_remote['rows'])"
   ]
  },
  {
   "cell_type": "code",
   "execution_count": null,
   "id": "regulation-edwards",
   "metadata": {},
   "outputs": [],
   "source": [
    "#Slicing data for exploration\n",
    "vulData_json['rows'][0]"
   ]
  },
  {
   "cell_type": "code",
   "execution_count": null,
   "id": "improving-economics",
   "metadata": {},
   "outputs": [],
   "source": [
    "vulData_json['rows'][0]['stdcode'][0]"
   ]
  },
  {
   "cell_type": "code",
   "execution_count": null,
   "id": "polar-delivery",
   "metadata": {},
   "outputs": [],
   "source": [
    "vulData_json['rows'][0]['references']"
   ]
  },
  {
   "cell_type": "code",
   "execution_count": null,
   "id": "fitting-buddy",
   "metadata": {},
   "outputs": [],
   "source": [
    "for cvs in vulData_json['rows'][0]['cvss']:\n",
    "    print (vulData_json['rows'][0]['cvss']['privilegesrequired'])"
   ]
  },
  {
   "cell_type": "code",
   "execution_count": null,
   "id": "mexican-breath",
   "metadata": {},
   "outputs": [],
   "source": []
  }
 ],
 "metadata": {
  "kernelspec": {
   "display_name": "Python 3",
   "language": "python",
   "name": "python3"
  },
  "language_info": {
   "codemirror_mode": {
    "name": "ipython",
    "version": 3
   },
   "file_extension": ".py",
   "mimetype": "text/x-python",
   "name": "python",
   "nbconvert_exporter": "python",
   "pygments_lexer": "ipython3",
   "version": "3.7.9"
  }
 },
 "nbformat": 4,
 "nbformat_minor": 5
}
