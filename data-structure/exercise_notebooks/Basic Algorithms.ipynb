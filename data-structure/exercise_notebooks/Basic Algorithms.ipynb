{
 "cells": [
  {
   "cell_type": "code",
   "execution_count": 1,
   "id": "463929bf",
   "metadata": {},
   "outputs": [],
   "source": [
    "#Function to return the number of maximum value in an array\n",
    "def get_maximum(arr):\n",
    "    max_num = 0\n",
    "    for num in arr:\n",
    "        if num > max_num:\n",
    "            max_num = num\n",
    "    return max_num"
   ]
  },
  {
   "cell_type": "code",
   "execution_count": 2,
   "id": "f1cc68f4",
   "metadata": {},
   "outputs": [],
   "source": [
    "test_arr = [3,9,2,6,1,0,5]"
   ]
  },
  {
   "cell_type": "code",
   "execution_count": 3,
   "id": "3da1eb2a",
   "metadata": {},
   "outputs": [
    {
     "name": "stdout",
     "output_type": "stream",
     "text": [
      "9\n"
     ]
    }
   ],
   "source": [
    "print(get_maximum(test_arr))"
   ]
  },
  {
   "cell_type": "code",
   "execution_count": 4,
   "id": "bb858446",
   "metadata": {},
   "outputs": [
    {
     "data": {
      "text/plain": [
       "9"
      ]
     },
     "execution_count": 4,
     "metadata": {},
     "output_type": "execute_result"
    }
   ],
   "source": [
    "get_maximum(test_arr)"
   ]
  },
  {
   "cell_type": "code",
   "execution_count": null,
   "id": "5b9c0374",
   "metadata": {},
   "outputs": [],
   "source": []
  },
  {
   "cell_type": "code",
   "execution_count": null,
   "id": "4ae3525c",
   "metadata": {},
   "outputs": [],
   "source": []
  },
  {
   "cell_type": "code",
   "execution_count": null,
   "id": "5ea4b1e1",
   "metadata": {},
   "outputs": [],
   "source": []
  }
 ],
 "metadata": {
  "kernelspec": {
   "display_name": "Python 3",
   "language": "python",
   "name": "python3"
  },
  "language_info": {
   "codemirror_mode": {
    "name": "ipython",
    "version": 3
   },
   "file_extension": ".py",
   "mimetype": "text/x-python",
   "name": "python",
   "nbconvert_exporter": "python",
   "pygments_lexer": "ipython3",
   "version": "3.7.9"
  }
 },
 "nbformat": 4,
 "nbformat_minor": 5
}
