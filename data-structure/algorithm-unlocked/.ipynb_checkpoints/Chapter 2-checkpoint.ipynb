{
 "cells": [
  {
   "cell_type": "code",
   "execution_count": 1,
   "id": "95c628df",
   "metadata": {},
   "outputs": [],
   "source": [
    "# This notebook serves note taking purpose as I read through and digest Cormen's \"Algorithm Unlocked\""
   ]
  },
  {
   "cell_type": "code",
   "execution_count": 2,
   "id": "54089fd9",
   "metadata": {},
   "outputs": [],
   "source": []
  },
  {
   "cell_type": "code",
   "execution_count": 9,
   "id": "669a6589",
   "metadata": {},
   "outputs": [],
   "source": [
    "# Page 12 - First described algorithm about searching an array for a particulaur value. Given an array, we want to know which\n",
    "# entry, if any holds a particualr value.\n",
    "# For illustration, a function that takes a value and a list and return the index of of the value if found in the list.\n",
    "\n",
    "# Solution 1 - Linear Search\n",
    "\n",
    "def value_index(val, arr):\n",
    "    not_found = \"Not found\"\n",
    "    if val in arr:\n",
    "        return arr.index(val)\n",
    "    else:\n",
    "        return f\"{not_found}\""
   ]
  },
  {
   "cell_type": "code",
   "execution_count": 10,
   "id": "0591b6a4",
   "metadata": {},
   "outputs": [
    {
     "data": {
      "text/plain": [
       "2"
      ]
     },
     "execution_count": 10,
     "metadata": {},
     "output_type": "execute_result"
    }
   ],
   "source": [
    "arr = [4,6,8,9]\n",
    "val = 8\n",
    "value_index(val, arr) # In this solution, we assume that val occurs only once in the array. What if it occurs more than once?"
   ]
  },
  {
   "cell_type": "code",
   "execution_count": 26,
   "id": "669ab516",
   "metadata": {},
   "outputs": [],
   "source": [
    "# I need to circle back on this\n",
    "\n",
    "def value_index_multiple(val, arr):\n",
    "    not_found = \"Not found at all\"\n",
    "    value_index_list = []\n",
    "    for val_ in arr:\n",
    "        if val_ == val:\n",
    "            value_index_list.append(arr.index(val))\n",
    "            continue\n",
    "    return value_index_list"
   ]
  },
  {
   "cell_type": "code",
   "execution_count": 27,
   "id": "097d50f5",
   "metadata": {},
   "outputs": [
    {
     "data": {
      "text/plain": [
       "[4, 4]"
      ]
     },
     "execution_count": 27,
     "metadata": {},
     "output_type": "execute_result"
    }
   ],
   "source": [
    "value_index_multiple(3, [4,9,7,2,3,5,6,3])"
   ]
  },
  {
   "cell_type": "code",
   "execution_count": 28,
   "id": "1c158031",
   "metadata": {},
   "outputs": [],
   "source": [
    "# Page 13 - A = the list, n = no of items to be searched, x = the value being searched\n",
    "\n",
    "def linear_search(A, n, x):\n",
    "    idx = 0 # n <= length of A-1 if the index starts from 0\n",
    "    ans = \"Not found\"\n",
    "    while idx <= n:\n",
    "        if x == A[idx]:\n",
    "            ans = idx\n",
    "        idx += 1\n",
    "    return f\"{ans}\""
   ]
  },
  {
   "cell_type": "code",
   "execution_count": 30,
   "id": "07eb29e1",
   "metadata": {},
   "outputs": [
    {
     "data": {
      "text/plain": [
       "'7'"
      ]
     },
     "execution_count": 30,
     "metadata": {},
     "output_type": "execute_result"
    }
   ],
   "source": [
    "A = [4,9,7,2,3,5,6,3]\n",
    "n = 7\n",
    "x = 3\n",
    "linear_search(A, n, x)"
   ]
  },
  {
   "cell_type": "code",
   "execution_count": null,
   "id": "91d2f33f",
   "metadata": {},
   "outputs": [],
   "source": [
    "# On page 14"
   ]
  },
  {
   "cell_type": "code",
   "execution_count": null,
   "id": "c3379cec",
   "metadata": {},
   "outputs": [],
   "source": []
  }
 ],
 "metadata": {
  "kernelspec": {
   "display_name": "Python 3 (ipykernel)",
   "language": "python",
   "name": "python3"
  },
  "language_info": {
   "codemirror_mode": {
    "name": "ipython",
    "version": 3
   },
   "file_extension": ".py",
   "mimetype": "text/x-python",
   "name": "python",
   "nbconvert_exporter": "python",
   "pygments_lexer": "ipython3",
   "version": "3.10.5"
  }
 },
 "nbformat": 4,
 "nbformat_minor": 5
}
