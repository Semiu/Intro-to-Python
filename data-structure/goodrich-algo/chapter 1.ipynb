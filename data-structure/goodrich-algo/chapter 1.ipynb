{
 "cells": [
  {
   "cell_type": "code",
   "execution_count": 7,
   "id": "bf808d4b",
   "metadata": {},
   "outputs": [
    {
     "name": "stdout",
     "output_type": "stream",
     "text": [
      "Welcome to the GPA calculator\n",
      "Please enter all your letter grades. one per line.\n",
      "Enter a blank line to designate the end\n",
      "4.0\n",
      "Unknown grade '4.0' being ignored\n",
      "A+\n",
      "B-\n",
      "F\n",
      "C\n",
      "\n",
      "Your GPA is 2.08\n"
     ]
    }
   ],
   "source": [
    "# Preview of a Python program - page 3\n",
    "\n",
    "print ('Welcome to the GPA calculator')\n",
    "print ('Please enter all your letter grades. one per line.')\n",
    "print ('Enter a blank line to designate the end')\n",
    "\n",
    "# map from letter grade to point value\n",
    "points = {'A+': 4.0, 'A': 4.0, 'A-': 3.67, 'B+': 3.33, 'B': 3.0, 'B-': 2.67, 'C+': 2.33, 'C': 2.0, 'C': 1.67, 'D+': 1.33, \n",
    "          'D': 1.0, 'F': 0.0}\n",
    "\n",
    "num_courses = 0\n",
    "total_points = 0\n",
    "\n",
    "done = False # To keep the input stream open till an empty line is entered\n",
    "\n",
    "while not done:\n",
    "    grade = input()\n",
    "    if grade == \"\":\n",
    "        done = True # terminate with an empty line \n",
    "    elif grade not in points:\n",
    "        print(\"Unknown grade '{0}' being ignored\".format(grade))\n",
    "    else:\n",
    "        num_courses += 1\n",
    "        total_points += points[grade]\n",
    "        \n",
    "if num_courses > 0:\n",
    "    print('Your GPA is {0:.3}'.format(total_points/num_courses))"
   ]
  },
  {
   "cell_type": "code",
   "execution_count": null,
   "id": "0fe84159",
   "metadata": {},
   "outputs": [],
   "source": []
  },
  {
   "cell_type": "code",
   "execution_count": null,
   "id": "6774d834",
   "metadata": {},
   "outputs": [],
   "source": []
  }
 ],
 "metadata": {
  "kernelspec": {
   "display_name": "Python 3 (ipykernel)",
   "language": "python",
   "name": "python3"
  },
  "language_info": {
   "codemirror_mode": {
    "name": "ipython",
    "version": 3
   },
   "file_extension": ".py",
   "mimetype": "text/x-python",
   "name": "python",
   "nbconvert_exporter": "python",
   "pygments_lexer": "ipython3",
   "version": "3.10.5"
  }
 },
 "nbformat": 4,
 "nbformat_minor": 5
}
