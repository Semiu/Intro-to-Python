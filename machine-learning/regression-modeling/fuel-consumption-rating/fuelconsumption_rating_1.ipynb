{
  "nbformat": 4,
  "nbformat_minor": 0,
  "metadata": {
    "colab": {
      "provenance": []
    },
    "kernelspec": {
      "name": "python3",
      "display_name": "Python 3"
    },
    "language_info": {
      "name": "python"
    }
  },
  "cells": [
    {
      "cell_type": "markdown",
      "source": [
        "This notebook contains scripts for the data cleaning stage of the machine learning process."
      ],
      "metadata": {
        "id": "YPP_pjcRNDHm"
      }
    },
    {
      "cell_type": "markdown",
      "source": [
        "Steps to train a model - These refer to generic steps. The specific ones to train a model for the dataset of this problem would be provided seperately. After the model training process\n",
        "\n",
        "Step 1. Exploratory data analysis: \n",
        "\n",
        "a. to identify the target data type (discrete or continous). This helps in identifying the type of ML task it is. That is, whether it is a regression problem or a classification problem.\n",
        "\n",
        "b. to identify the data distribution to determine if it is balanced or imbalanced. This helps in the choice of cross validation techniques, and whether to undersample or over sample, or use technique such as SMOTE (Synthetic Minority Oversampling technique. The choice of evaluation technique can also be determined by the data distribution.\n",
        "\n",
        "c. to identify neccesary data cleansing and wrangling that should be done. Examples are the required data transformations. The categorical data to be transformed to numerical. Also is to determine the presence of missing values.\n",
        "\n",
        "Step 2: Data Cleaning and Wrangling\n",
        "\n",
        "A messy, noisy and unclean data is taken for cleaning where there the missing values are treated, the categorical data are also transformed to numerical data. In essence, based on the feedback from the EDA, appropriate steps are taken to ensure that the data is in a good shape and model training fit.\n",
        "\n",
        "The two steps above are important for pre model training.\n",
        "\n",
        "Step 3: Model Training\n",
        "\n",
        "For the baseline model (a preliminarily trained model - without any feature enginering and hyperparamter tuning method)\n",
        "\n",
        "a. An appropriate cross validation technique (to ensure that the model does not overfit) is picked.\n",
        "\n",
        "b. Appropriate machine learning algorithm(s)/model(s) is/are picked.\n",
        "\n",
        "c. Appropriate evaluation techniques are picked.\n",
        "\n",
        "d. The data is scaled/normalized to ensure that every feature has uniform contributing power to the target class.\n",
        "\n",
        "e. Train the model with the cleaned and normalized data\n",
        "\n",
        "f. Evaluate the model.\n",
        "\n",
        "Step 4: Model Improvement\n",
        "\n",
        "Improving a model concentrates on feature selection/engineering and hyper parameter tuning.\n",
        "\n",
        "For feature selection/engineering:\n",
        "\n",
        "a. Use low variance and high correlation to remove features. \n",
        "\n",
        "b. Tree models provide feature importance ranking method to see how the feature importance ranks. Discretionary selection of features can be done based on the importance ranking information\n",
        "\n",
        "c. Use dimensionality reduction technique such as Principal Component Analysis to derive principal components/features from too many features\n",
        "\n",
        "d. Domain knowledge can also be leveraged to determine the important features to be retained for model training.\n",
        "\n",
        "For hyper paramater tuning:\n",
        "\n",
        "a. Grid search\n",
        "b. Random search\n",
        "c. Evolutionary optimization\n",
        "d. Bayesian optimization\n",
        "e. Gradient-based optimization\n",
        "\n",
        "Then, evaluate the model performances, compare, and select the best performing one for final model training."
      ],
      "metadata": {
        "id": "R9uc1eevooDI"
      }
    },
    {
      "cell_type": "markdown",
      "source": [
        "Specific steps to train this model:\n",
        "\n",
        "1. Data inspection - \n",
        "\n",
        "The data is manually inspected to look for any need for manual re-arrangement that would make file reading more straightforward. It was observed that the headings are in two rows and also a feature (FUEL CONSUMPTION) is multi-variate, so to speak. Headings are modifiied to become of a single row. Also, the three variables pointing to FUEL CONSUMPTION are made to become independent features, in their separate columns. \n",
        "\n",
        "The presence of categorical data is also noticed and would be considered during the data cleaning and wrangling.\n",
        "\n",
        "Lastly, identifying the target variable, \"CO2 EMISSIONS\", shows that the ML problem us a regression task - to predict a feature on a continuous scale.\n",
        "\n",
        "2. Exploring for preprocessing - \n",
        "\n",
        "This is to identify missing values, categorical variables that needed to be mapped to numerical values, and ordinal data to be handled."
      ],
      "metadata": {
        "id": "L6IxYl4_n09J"
      }
    },
    {
      "cell_type": "code",
      "source": [
        "filepath = \"/content/drive/MyDrive/MY2010-2014 Fuel Consumption Ratings 5-cycle (Dataset) - MY2010-2014 Fuel Consumption Ratings 5-cycle (Dataset).csv\" # The path to the data file"
      ],
      "metadata": {
        "id": "sg2WJxJygfSA"
      },
      "execution_count": 14,
      "outputs": []
    },
    {
      "cell_type": "code",
      "source": [
        "import chardet\n",
        "with open(filepath, 'rb') as file: # There was a preliminary errors while reading the dataset due to the encoding style. This code is to identify the type of encoding used for the file.\n",
        "  print(chardet.detect(file.read()))"
      ],
      "metadata": {
        "colab": {
          "base_uri": "https://localhost:8080/"
        },
        "id": "m1fJ3HZ3oxuV",
        "outputId": "5cb9ed73-386c-4ebf-8507-3193edc8f73c"
      },
      "execution_count": null,
      "outputs": [
        {
          "output_type": "stream",
          "name": "stdout",
          "text": [
            "{'encoding': 'ISO-8859-1', 'confidence': 0.73, 'language': ''}\n"
          ]
        }
      ]
    },
    {
      "cell_type": "code",
      "source": [
        "# Import libaries needed for our modeling\n",
        "import pandas as pd"
      ],
      "metadata": {
        "id": "QClQ2LlFjaqf"
      },
      "execution_count": 15,
      "outputs": []
    },
    {
      "cell_type": "code",
      "source": [
        "def csv_to_df (path):\n",
        "  \"\"\"\n",
        "  This function takes in filepath of the csv file and returns it data frame\n",
        "  \"\"\"\n",
        "  data_columns = [\"MODEL (YEAR)\", \"MAKE\", \"MODEL\", \"VEHICLE CLASS\", \"ENGINE SIZE (L)\", \"CYLINDERS\", \"TRANSMISSION\", \"FUEL TYPE\", \"CITY (L/100 km)\", \"HWY (L/100 km)\", \"COMB (L/100 km)\", \"COMB (mpg)\", \"CO2 EMISSIONS\"] # The columns to be read. This is important when the data sheet contains irrelevant columns\n",
        "  df = pd.read_csv(path, low_memory=False, usecols = data_columns, encoding='ISO-8859-1') # This encoding parameter is identified earlier\n",
        "  return df"
      ],
      "metadata": {
        "id": "MQLCKpP9jata"
      },
      "execution_count": 16,
      "outputs": []
    },
    {
      "cell_type": "code",
      "source": [
        "fuel_conspt_rating = csv_to_df(filepath) # Call the function to load the dataset into a dataframe"
      ],
      "metadata": {
        "id": "dZfR3udUgfba"
      },
      "execution_count": 17,
      "outputs": []
    },
    {
      "cell_type": "code",
      "source": [
        "fuel_conspt_rating.head(5) # Show the first five rows of the dataset"
      ],
      "metadata": {
        "colab": {
          "base_uri": "https://localhost:8080/",
          "height": 206
        },
        "id": "WFeMY8-Igfek",
        "outputId": "ac05e8d1-bad4-486e-99d3-978017b2d481"
      },
      "execution_count": 18,
      "outputs": [
        {
          "output_type": "execute_result",
          "data": {
            "text/plain": [
              "  MODEL (YEAR)   MAKE          MODEL VEHICLE CLASS  ENGINE SIZE (L)  \\\n",
              "0         2010  ACURA            CSX       COMPACT              2.0   \n",
              "1         2010  ACURA            CSX       COMPACT              2.0   \n",
              "2         2010  ACURA            CSX       COMPACT              2.0   \n",
              "3         2010  ACURA        MDX AWD           SUV              3.7   \n",
              "4         2010  ACURA  RDX AWD TURBO           SUV              2.3   \n",
              "\n",
              "   CYLINDERS TRANSMISSION FUEL TYPE  CITY (L/100 km)  HWY (L/100 km)  \\\n",
              "0        4.0          AS5         X             10.9             7.8   \n",
              "1        4.0           M5         X             10.0             7.6   \n",
              "2        4.0           M6         Z             11.6             8.1   \n",
              "3        6.0          AS6         Z             14.8            11.3   \n",
              "4        4.0          AS5         Z             13.2            10.3   \n",
              "\n",
              "   COMB (L/100 km)  COMB (mpg)  CO2 EMISSIONS  \n",
              "0              9.5        30.0          219.0  \n",
              "1              8.9        32.0          205.0  \n",
              "2             10.0        28.0          230.0  \n",
              "3             13.2        21.0          304.0  \n",
              "4             11.9        24.0          274.0  "
            ],
            "text/html": [
              "\n",
              "  <div id=\"df-4c849486-43fe-472e-be10-64f5b336fc3b\">\n",
              "    <div class=\"colab-df-container\">\n",
              "      <div>\n",
              "<style scoped>\n",
              "    .dataframe tbody tr th:only-of-type {\n",
              "        vertical-align: middle;\n",
              "    }\n",
              "\n",
              "    .dataframe tbody tr th {\n",
              "        vertical-align: top;\n",
              "    }\n",
              "\n",
              "    .dataframe thead th {\n",
              "        text-align: right;\n",
              "    }\n",
              "</style>\n",
              "<table border=\"1\" class=\"dataframe\">\n",
              "  <thead>\n",
              "    <tr style=\"text-align: right;\">\n",
              "      <th></th>\n",
              "      <th>MODEL (YEAR)</th>\n",
              "      <th>MAKE</th>\n",
              "      <th>MODEL</th>\n",
              "      <th>VEHICLE CLASS</th>\n",
              "      <th>ENGINE SIZE (L)</th>\n",
              "      <th>CYLINDERS</th>\n",
              "      <th>TRANSMISSION</th>\n",
              "      <th>FUEL TYPE</th>\n",
              "      <th>CITY (L/100 km)</th>\n",
              "      <th>HWY (L/100 km)</th>\n",
              "      <th>COMB (L/100 km)</th>\n",
              "      <th>COMB (mpg)</th>\n",
              "      <th>CO2 EMISSIONS</th>\n",
              "    </tr>\n",
              "  </thead>\n",
              "  <tbody>\n",
              "    <tr>\n",
              "      <th>0</th>\n",
              "      <td>2010</td>\n",
              "      <td>ACURA</td>\n",
              "      <td>CSX</td>\n",
              "      <td>COMPACT</td>\n",
              "      <td>2.0</td>\n",
              "      <td>4.0</td>\n",
              "      <td>AS5</td>\n",
              "      <td>X</td>\n",
              "      <td>10.9</td>\n",
              "      <td>7.8</td>\n",
              "      <td>9.5</td>\n",
              "      <td>30.0</td>\n",
              "      <td>219.0</td>\n",
              "    </tr>\n",
              "    <tr>\n",
              "      <th>1</th>\n",
              "      <td>2010</td>\n",
              "      <td>ACURA</td>\n",
              "      <td>CSX</td>\n",
              "      <td>COMPACT</td>\n",
              "      <td>2.0</td>\n",
              "      <td>4.0</td>\n",
              "      <td>M5</td>\n",
              "      <td>X</td>\n",
              "      <td>10.0</td>\n",
              "      <td>7.6</td>\n",
              "      <td>8.9</td>\n",
              "      <td>32.0</td>\n",
              "      <td>205.0</td>\n",
              "    </tr>\n",
              "    <tr>\n",
              "      <th>2</th>\n",
              "      <td>2010</td>\n",
              "      <td>ACURA</td>\n",
              "      <td>CSX</td>\n",
              "      <td>COMPACT</td>\n",
              "      <td>2.0</td>\n",
              "      <td>4.0</td>\n",
              "      <td>M6</td>\n",
              "      <td>Z</td>\n",
              "      <td>11.6</td>\n",
              "      <td>8.1</td>\n",
              "      <td>10.0</td>\n",
              "      <td>28.0</td>\n",
              "      <td>230.0</td>\n",
              "    </tr>\n",
              "    <tr>\n",
              "      <th>3</th>\n",
              "      <td>2010</td>\n",
              "      <td>ACURA</td>\n",
              "      <td>MDX AWD</td>\n",
              "      <td>SUV</td>\n",
              "      <td>3.7</td>\n",
              "      <td>6.0</td>\n",
              "      <td>AS6</td>\n",
              "      <td>Z</td>\n",
              "      <td>14.8</td>\n",
              "      <td>11.3</td>\n",
              "      <td>13.2</td>\n",
              "      <td>21.0</td>\n",
              "      <td>304.0</td>\n",
              "    </tr>\n",
              "    <tr>\n",
              "      <th>4</th>\n",
              "      <td>2010</td>\n",
              "      <td>ACURA</td>\n",
              "      <td>RDX AWD TURBO</td>\n",
              "      <td>SUV</td>\n",
              "      <td>2.3</td>\n",
              "      <td>4.0</td>\n",
              "      <td>AS5</td>\n",
              "      <td>Z</td>\n",
              "      <td>13.2</td>\n",
              "      <td>10.3</td>\n",
              "      <td>11.9</td>\n",
              "      <td>24.0</td>\n",
              "      <td>274.0</td>\n",
              "    </tr>\n",
              "  </tbody>\n",
              "</table>\n",
              "</div>\n",
              "      <button class=\"colab-df-convert\" onclick=\"convertToInteractive('df-4c849486-43fe-472e-be10-64f5b336fc3b')\"\n",
              "              title=\"Convert this dataframe to an interactive table.\"\n",
              "              style=\"display:none;\">\n",
              "        \n",
              "  <svg xmlns=\"http://www.w3.org/2000/svg\" height=\"24px\"viewBox=\"0 0 24 24\"\n",
              "       width=\"24px\">\n",
              "    <path d=\"M0 0h24v24H0V0z\" fill=\"none\"/>\n",
              "    <path d=\"M18.56 5.44l.94 2.06.94-2.06 2.06-.94-2.06-.94-.94-2.06-.94 2.06-2.06.94zm-11 1L8.5 8.5l.94-2.06 2.06-.94-2.06-.94L8.5 2.5l-.94 2.06-2.06.94zm10 10l.94 2.06.94-2.06 2.06-.94-2.06-.94-.94-2.06-.94 2.06-2.06.94z\"/><path d=\"M17.41 7.96l-1.37-1.37c-.4-.4-.92-.59-1.43-.59-.52 0-1.04.2-1.43.59L10.3 9.45l-7.72 7.72c-.78.78-.78 2.05 0 2.83L4 21.41c.39.39.9.59 1.41.59.51 0 1.02-.2 1.41-.59l7.78-7.78 2.81-2.81c.8-.78.8-2.07 0-2.86zM5.41 20L4 18.59l7.72-7.72 1.47 1.35L5.41 20z\"/>\n",
              "  </svg>\n",
              "      </button>\n",
              "      \n",
              "  <style>\n",
              "    .colab-df-container {\n",
              "      display:flex;\n",
              "      flex-wrap:wrap;\n",
              "      gap: 12px;\n",
              "    }\n",
              "\n",
              "    .colab-df-convert {\n",
              "      background-color: #E8F0FE;\n",
              "      border: none;\n",
              "      border-radius: 50%;\n",
              "      cursor: pointer;\n",
              "      display: none;\n",
              "      fill: #1967D2;\n",
              "      height: 32px;\n",
              "      padding: 0 0 0 0;\n",
              "      width: 32px;\n",
              "    }\n",
              "\n",
              "    .colab-df-convert:hover {\n",
              "      background-color: #E2EBFA;\n",
              "      box-shadow: 0px 1px 2px rgba(60, 64, 67, 0.3), 0px 1px 3px 1px rgba(60, 64, 67, 0.15);\n",
              "      fill: #174EA6;\n",
              "    }\n",
              "\n",
              "    [theme=dark] .colab-df-convert {\n",
              "      background-color: #3B4455;\n",
              "      fill: #D2E3FC;\n",
              "    }\n",
              "\n",
              "    [theme=dark] .colab-df-convert:hover {\n",
              "      background-color: #434B5C;\n",
              "      box-shadow: 0px 1px 3px 1px rgba(0, 0, 0, 0.15);\n",
              "      filter: drop-shadow(0px 1px 2px rgba(0, 0, 0, 0.3));\n",
              "      fill: #FFFFFF;\n",
              "    }\n",
              "  </style>\n",
              "\n",
              "      <script>\n",
              "        const buttonEl =\n",
              "          document.querySelector('#df-4c849486-43fe-472e-be10-64f5b336fc3b button.colab-df-convert');\n",
              "        buttonEl.style.display =\n",
              "          google.colab.kernel.accessAllowed ? 'block' : 'none';\n",
              "\n",
              "        async function convertToInteractive(key) {\n",
              "          const element = document.querySelector('#df-4c849486-43fe-472e-be10-64f5b336fc3b');\n",
              "          const dataTable =\n",
              "            await google.colab.kernel.invokeFunction('convertToInteractive',\n",
              "                                                     [key], {});\n",
              "          if (!dataTable) return;\n",
              "\n",
              "          const docLinkHtml = 'Like what you see? Visit the ' +\n",
              "            '<a target=\"_blank\" href=https://colab.research.google.com/notebooks/data_table.ipynb>data table notebook</a>'\n",
              "            + ' to learn more about interactive tables.';\n",
              "          element.innerHTML = '';\n",
              "          dataTable['output_type'] = 'display_data';\n",
              "          await google.colab.output.renderOutput(dataTable, element);\n",
              "          const docLink = document.createElement('div');\n",
              "          docLink.innerHTML = docLinkHtml;\n",
              "          element.appendChild(docLink);\n",
              "        }\n",
              "      </script>\n",
              "    </div>\n",
              "  </div>\n",
              "  "
            ]
          },
          "metadata": {},
          "execution_count": 18
        }
      ]
    },
    {
      "cell_type": "code",
      "source": [
        "fuel_conspt_rating.shape # The shape of the dataframe shows that it has 5384 rows and 13 columns"
      ],
      "metadata": {
        "colab": {
          "base_uri": "https://localhost:8080/"
        },
        "id": "SylfSssTgfht",
        "outputId": "8aaf9c1e-c047-4860-8fb3-1afafdcf65ae"
      },
      "execution_count": 19,
      "outputs": [
        {
          "output_type": "execute_result",
          "data": {
            "text/plain": [
              "(5384, 13)"
            ]
          },
          "metadata": {},
          "execution_count": 19
        }
      ]
    },
    {
      "cell_type": "code",
      "source": [
        "fuel_conspt_rating.isnull().sum() # Check for missing values "
      ],
      "metadata": {
        "colab": {
          "base_uri": "https://localhost:8080/"
        },
        "id": "Yt7DzhxDC8gq",
        "outputId": "00cf6791-d53a-4a3f-a473-5384ff74d462"
      },
      "execution_count": 20,
      "outputs": [
        {
          "output_type": "execute_result",
          "data": {
            "text/plain": [
              "MODEL (YEAR)       16\n",
              "MAKE                6\n",
              "MODEL              25\n",
              "VEHICLE CLASS      25\n",
              "ENGINE SIZE (L)    25\n",
              "CYLINDERS          25\n",
              "TRANSMISSION       25\n",
              "FUEL TYPE          25\n",
              "CITY (L/100 km)    25\n",
              "HWY (L/100 km)     25\n",
              "COMB (L/100 km)    25\n",
              "COMB (mpg)         25\n",
              "CO2 EMISSIONS      25\n",
              "dtype: int64"
            ]
          },
          "metadata": {},
          "execution_count": 20
        }
      ]
    },
    {
      "cell_type": "code",
      "source": [
        "def treat_na(df):\n",
        "  \"\"\"\n",
        "  This function treats the missing values. It drops the rows with missing year and fill the numerical values with 0.0 and categorical values with \"None\"\n",
        "  \"\"\"\n",
        "  \n",
        "  categorical_cols = ['MAKE', 'MODEL', 'VEHICLE CLASS', 'TRANSMISSION', 'FUEL TYPE'] # These are columns with categorical data\n",
        "  numerical_cols = ['ENGINE SIZE (L)', 'CYLINDERS', 'CITY (L/100 km)', 'HWY (L/100 km)', 'COMB (L/100 km)', 'COMB (mpg)', 'CO2 EMISSIONS'] # These are numerical data\n",
        "  \n",
        "  \n",
        "\n",
        "  treated_df = df.dropna(subset = ['MODEL (YEAR)']) # Drop the missing value in the \n",
        "\n",
        "  for num_col in numerical_cols:\n",
        "    treated_df[num_col].fillna(0.0, inplace=True)\n",
        "\n",
        "  for cat_col in categorical_cols:\n",
        "    treated_df[cat_col].fillna(\"None\", inplace=True)\n",
        "\n",
        "  return treated_df"
      ],
      "metadata": {
        "id": "E-UcZ6CAgfpK"
      },
      "execution_count": 21,
      "outputs": []
    },
    {
      "cell_type": "code",
      "source": [
        "from google.colab import drive\n",
        "drive.mount('/content/drive')"
      ],
      "metadata": {
        "colab": {
          "base_uri": "https://localhost:8080/"
        },
        "id": "5kQs45gJQFV-",
        "outputId": "25cb9e40-3c51-456d-cb08-c1718e2f062f"
      },
      "execution_count": 1,
      "outputs": [
        {
          "output_type": "stream",
          "name": "stdout",
          "text": [
            "Mounted at /content/drive\n"
          ]
        }
      ]
    },
    {
      "cell_type": "code",
      "source": [
        "fuel_conspt_rating_treated = treat_na(fuel_conspt_rating) # fuel_conspt_rating_treated here is the dataframe without missing values"
      ],
      "metadata": {
        "id": "uWWCGvoRgfr6",
        "colab": {
          "base_uri": "https://localhost:8080/"
        },
        "outputId": "dabde246-6c1c-40fb-9791-da76278340fa"
      },
      "execution_count": 22,
      "outputs": [
        {
          "output_type": "stream",
          "name": "stderr",
          "text": [
            "/usr/local/lib/python3.7/dist-packages/pandas/core/generic.py:6392: SettingWithCopyWarning: \n",
            "A value is trying to be set on a copy of a slice from a DataFrame\n",
            "\n",
            "See the caveats in the documentation: https://pandas.pydata.org/pandas-docs/stable/user_guide/indexing.html#returning-a-view-versus-a-copy\n",
            "  return self._update_inplace(result)\n"
          ]
        }
      ]
    },
    {
      "cell_type": "code",
      "source": [
        "fuel_conspt_rating_treated.isnull().sum() # To confirm is there are still missing values"
      ],
      "metadata": {
        "colab": {
          "base_uri": "https://localhost:8080/"
        },
        "id": "EaVNbK1wgfvR",
        "outputId": "eabe0e58-6c3a-4df1-8fa0-063fea215a51"
      },
      "execution_count": null,
      "outputs": [
        {
          "output_type": "execute_result",
          "data": {
            "text/plain": [
              "MODEL (YEAR)       0\n",
              "MAKE               0\n",
              "MODEL              0\n",
              "VEHICLE CLASS      0\n",
              "ENGINE SIZE (L)    0\n",
              "CYLINDERS          0\n",
              "TRANSMISSION       0\n",
              "FUEL TYPE          0\n",
              "CITY (L/100 km)    0\n",
              "HWY (L/100 km)     0\n",
              "COMB (L/100 km)    0\n",
              "COMB (mpg)         0\n",
              "CO2 EMISSIONS      0\n",
              "dtype: int64"
            ]
          },
          "metadata": {},
          "execution_count": 12
        }
      ]
    },
    {
      "cell_type": "code",
      "source": [
        "def class_map_column(df, col_name):\n",
        "  \"\"\"\n",
        "  This function takes the col_name of the categorical columns and maps it with a numerical value.\n",
        "  \"\"\"\n",
        "  unique_col_data = set()\n",
        "  unique_col_data_dict = {}\n",
        "  val_idx = 1\n",
        "\n",
        "  for (idx, row) in df.iterrows():\n",
        "    val = row[col_name]\n",
        "    if val not in unique_col_data:\n",
        "      unique_col_data.add(val)\n",
        "      unique_col_data_dict[val] = val_idx\n",
        "      df.loc[idx, [col_name]] = val_idx\n",
        "      val_idx += 1\n",
        "    else:\n",
        "      df.loc[idx, [col_name]] = unique_col_data_dict.get(val)\n",
        "\n",
        "  return df"
      ],
      "metadata": {
        "id": "pySKVB1mgfxg"
      },
      "execution_count": 24,
      "outputs": []
    },
    {
      "cell_type": "code",
      "source": [
        "def class_map_all_columns (df):\n",
        "  \"\"\"\n",
        "  The function for mapping all the categorical columns\n",
        "  \"\"\"\n",
        "  categorical_cols = ['MAKE', 'MODEL', 'VEHICLE CLASS', 'TRANSMISSION', 'FUEL TYPE'] \n",
        "\n",
        "  for col_name in categorical_cols:\n",
        "    df = class_map_column(df, col_name)\n",
        "\n",
        "  return df\n"
      ],
      "metadata": {
        "id": "9F5AV8N8gf1o"
      },
      "execution_count": 25,
      "outputs": []
    },
    {
      "cell_type": "code",
      "source": [
        "fuel_conspt_rating_treated = class_map_all_columns (fuel_conspt_rating_treated) # fuel_conspt_rating_treated here is the dataframe with the categorical columns mapped"
      ],
      "metadata": {
        "colab": {
          "base_uri": "https://localhost:8080/"
        },
        "id": "BmbKhBuiVPDV",
        "outputId": "f795faee-c0b7-4995-88b1-8c2ced62869c"
      },
      "execution_count": 26,
      "outputs": [
        {
          "output_type": "stream",
          "name": "stderr",
          "text": [
            "/usr/local/lib/python3.7/dist-packages/pandas/core/indexing.py:1817: SettingWithCopyWarning: \n",
            "A value is trying to be set on a copy of a slice from a DataFrame.\n",
            "Try using .loc[row_indexer,col_indexer] = value instead\n",
            "\n",
            "See the caveats in the documentation: https://pandas.pydata.org/pandas-docs/stable/user_guide/indexing.html#returning-a-view-versus-a-copy\n",
            "  self._setitem_single_column(loc, value, pi)\n"
          ]
        }
      ]
    },
    {
      "cell_type": "code",
      "source": [
        "# It is observed, again, at this stage that some MODEL YEAR data has string values. These are neccesarily needed to be removed\n",
        "data_columns = [\"MODEL (YEAR)\", \"MAKE\", \"MODEL\", \"VEHICLE CLASS\", \"ENGINE SIZE (L)\", \"CYLINDERS\", \"TRANSMISSION\", \"FUEL TYPE\", \"CITY (L/100 km)\", \"HWY (L/100 km)\", \"COMB (L/100 km)\", \"COMB (mpg)\", \"CO2 EMISSIONS\"]\n",
        "fuel_conspt_rating_final = (fuel_conspt_rating_treated.drop(data_columns, axis=1).join(fuel_conspt_rating_treated[data_columns].apply(pd.to_numeric, errors='coerce')))\n",
        "\n",
        "fuel_conspt_rating_final = fuel_conspt_rating_final[fuel_conspt_rating_final[data_columns].notnull().all(axis=1)]"
      ],
      "metadata": {
        "id": "2kpznTgIVm2c"
      },
      "execution_count": 29,
      "outputs": []
    },
    {
      "cell_type": "code",
      "source": [],
      "metadata": {
        "id": "yznjcQnfVm9c"
      },
      "execution_count": null,
      "outputs": []
    },
    {
      "cell_type": "code",
      "source": [
        "def save_to_csv (df, savefilepath):\n",
        "  df.to_csv(savefilepath, encoding='utf-8', index=None)"
      ],
      "metadata": {
        "id": "ggxuipGYVP1j"
      },
      "execution_count": 30,
      "outputs": []
    },
    {
      "cell_type": "code",
      "source": [
        "savefilepath = \"/content/drive/MyDrive/cleaned-MY2010-2014 Fuel Consumption Ratings 5-cycle (Dataset).csv\"\n",
        "save_to_csv (fuel_conspt_rating_final, savefilepath)"
      ],
      "metadata": {
        "id": "IWMAo2j4YrAq"
      },
      "execution_count": 31,
      "outputs": []
    },
    {
      "cell_type": "code",
      "source": [
        "from google.colab import drive\n",
        "drive.mount('/content/drive', force_remount=True)"
      ],
      "metadata": {
        "colab": {
          "base_uri": "https://localhost:8080/"
        },
        "id": "T_McJ5PCgBMo",
        "outputId": "04f122f8-f606-4509-b9fe-b447451a7cc9"
      },
      "execution_count": null,
      "outputs": [
        {
          "output_type": "stream",
          "name": "stdout",
          "text": [
            "Mounted at /content/drive\n"
          ]
        }
      ]
    },
    {
      "cell_type": "code",
      "source": [],
      "metadata": {
        "id": "iY1DCtNwnOeE"
      },
      "execution_count": null,
      "outputs": []
    }
  ]
}