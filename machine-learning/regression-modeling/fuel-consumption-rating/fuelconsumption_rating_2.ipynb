{
  "nbformat": 4,
  "nbformat_minor": 0,
  "metadata": {
    "colab": {
      "provenance": []
    },
    "kernelspec": {
      "name": "python3",
      "display_name": "Python 3"
    },
    "language_info": {
      "name": "python"
    }
  },
  "cells": [
    {
      "cell_type": "markdown",
      "source": [
        "This is a continuation from the preproprocessing stage which can be found [here](https://colab.research.google.com/drive/1EO5_t9hXskUuCCZlR2fgIYA7cvdhPy7o#scrollTo=pySKVB1mgfxg)"
      ],
      "metadata": {
        "id": "1HS9PzJsSE1c"
      }
    },
    {
      "cell_type": "code",
      "source": [
        "clean_data_path = \"/content/drive/MyDrive/cleaned-MY2010-2014 Fuel Consumption Ratings 5-cycle (Dataset).csv\" # Path to access the cleaned data set from the prepeocessing"
      ],
      "metadata": {
        "id": "_XFodd01SxXH"
      },
      "execution_count": 20,
      "outputs": []
    },
    {
      "cell_type": "code",
      "source": [
        "# Import libaries needed for our modeling\n",
        "import pandas as pd"
      ],
      "metadata": {
        "id": "taZmE_VmSzrG"
      },
      "execution_count": 2,
      "outputs": []
    },
    {
      "cell_type": "code",
      "execution_count": 3,
      "metadata": {
        "id": "e06mGjrqEw8g"
      },
      "outputs": [],
      "source": [
        "def csv_to_df (path):\n",
        "  \"\"\"\n",
        "  This function takes in filepath of the csv file and returns it data frame\n",
        "  \"\"\"\n",
        "  data_columns = [\"MODEL (YEAR)\", \"MAKE\", \"MODEL\", \"VEHICLE CLASS\", \"ENGINE SIZE (L)\", \"CYLINDERS\", \"TRANSMISSION\", \"FUEL TYPE\", \"CITY (L/100 km)\", \"HWY (L/100 km)\", \"COMB (L/100 km)\", \"COMB (mpg)\", \"CO2 EMISSIONS\"] # The columns to be read. This is important when the data sheet contains irrelevant columns\n",
        "  df = pd.read_csv(path, low_memory=False, usecols = data_columns) \n",
        "  return df"
      ]
    },
    {
      "cell_type": "code",
      "source": [
        "clean_data = csv_to_df (clean_data_path) # Call the function to get the data frame of the cleaned data\n",
        "clean_data.head(5) # Show to see first five rows of the dataset"
      ],
      "metadata": {
        "colab": {
          "base_uri": "https://localhost:8080/",
          "height": 206
        },
        "id": "22Q1W-eMSxT8",
        "outputId": "65123806-39da-4681-ff2e-37465970ff56"
      },
      "execution_count": 4,
      "outputs": [
        {
          "output_type": "execute_result",
          "data": {
            "text/plain": [
              "   MODEL (YEAR)  MAKE  MODEL  VEHICLE CLASS  ENGINE SIZE (L)  CYLINDERS  \\\n",
              "0        2010.0     1      1              1              2.0        4.0   \n",
              "1        2010.0     1      1              1              2.0        4.0   \n",
              "2        2010.0     1      1              1              2.0        4.0   \n",
              "3        2010.0     1      2              2              3.7        6.0   \n",
              "4        2010.0     1      3              2              2.3        4.0   \n",
              "\n",
              "   TRANSMISSION  FUEL TYPE  CITY (L/100 km)  HWY (L/100 km)  COMB (L/100 km)  \\\n",
              "0             1          1             10.9             7.8              9.5   \n",
              "1             2          1             10.0             7.6              8.9   \n",
              "2             3          2             11.6             8.1             10.0   \n",
              "3             4          2             14.8            11.3             13.2   \n",
              "4             1          2             13.2            10.3             11.9   \n",
              "\n",
              "   COMB (mpg)  CO2 EMISSIONS  \n",
              "0        30.0          219.0  \n",
              "1        32.0          205.0  \n",
              "2        28.0          230.0  \n",
              "3        21.0          304.0  \n",
              "4        24.0          274.0  "
            ],
            "text/html": [
              "\n",
              "  <div id=\"df-e3331663-ee84-44ce-a49a-a8eda4cdb463\">\n",
              "    <div class=\"colab-df-container\">\n",
              "      <div>\n",
              "<style scoped>\n",
              "    .dataframe tbody tr th:only-of-type {\n",
              "        vertical-align: middle;\n",
              "    }\n",
              "\n",
              "    .dataframe tbody tr th {\n",
              "        vertical-align: top;\n",
              "    }\n",
              "\n",
              "    .dataframe thead th {\n",
              "        text-align: right;\n",
              "    }\n",
              "</style>\n",
              "<table border=\"1\" class=\"dataframe\">\n",
              "  <thead>\n",
              "    <tr style=\"text-align: right;\">\n",
              "      <th></th>\n",
              "      <th>MODEL (YEAR)</th>\n",
              "      <th>MAKE</th>\n",
              "      <th>MODEL</th>\n",
              "      <th>VEHICLE CLASS</th>\n",
              "      <th>ENGINE SIZE (L)</th>\n",
              "      <th>CYLINDERS</th>\n",
              "      <th>TRANSMISSION</th>\n",
              "      <th>FUEL TYPE</th>\n",
              "      <th>CITY (L/100 km)</th>\n",
              "      <th>HWY (L/100 km)</th>\n",
              "      <th>COMB (L/100 km)</th>\n",
              "      <th>COMB (mpg)</th>\n",
              "      <th>CO2 EMISSIONS</th>\n",
              "    </tr>\n",
              "  </thead>\n",
              "  <tbody>\n",
              "    <tr>\n",
              "      <th>0</th>\n",
              "      <td>2010.0</td>\n",
              "      <td>1</td>\n",
              "      <td>1</td>\n",
              "      <td>1</td>\n",
              "      <td>2.0</td>\n",
              "      <td>4.0</td>\n",
              "      <td>1</td>\n",
              "      <td>1</td>\n",
              "      <td>10.9</td>\n",
              "      <td>7.8</td>\n",
              "      <td>9.5</td>\n",
              "      <td>30.0</td>\n",
              "      <td>219.0</td>\n",
              "    </tr>\n",
              "    <tr>\n",
              "      <th>1</th>\n",
              "      <td>2010.0</td>\n",
              "      <td>1</td>\n",
              "      <td>1</td>\n",
              "      <td>1</td>\n",
              "      <td>2.0</td>\n",
              "      <td>4.0</td>\n",
              "      <td>2</td>\n",
              "      <td>1</td>\n",
              "      <td>10.0</td>\n",
              "      <td>7.6</td>\n",
              "      <td>8.9</td>\n",
              "      <td>32.0</td>\n",
              "      <td>205.0</td>\n",
              "    </tr>\n",
              "    <tr>\n",
              "      <th>2</th>\n",
              "      <td>2010.0</td>\n",
              "      <td>1</td>\n",
              "      <td>1</td>\n",
              "      <td>1</td>\n",
              "      <td>2.0</td>\n",
              "      <td>4.0</td>\n",
              "      <td>3</td>\n",
              "      <td>2</td>\n",
              "      <td>11.6</td>\n",
              "      <td>8.1</td>\n",
              "      <td>10.0</td>\n",
              "      <td>28.0</td>\n",
              "      <td>230.0</td>\n",
              "    </tr>\n",
              "    <tr>\n",
              "      <th>3</th>\n",
              "      <td>2010.0</td>\n",
              "      <td>1</td>\n",
              "      <td>2</td>\n",
              "      <td>2</td>\n",
              "      <td>3.7</td>\n",
              "      <td>6.0</td>\n",
              "      <td>4</td>\n",
              "      <td>2</td>\n",
              "      <td>14.8</td>\n",
              "      <td>11.3</td>\n",
              "      <td>13.2</td>\n",
              "      <td>21.0</td>\n",
              "      <td>304.0</td>\n",
              "    </tr>\n",
              "    <tr>\n",
              "      <th>4</th>\n",
              "      <td>2010.0</td>\n",
              "      <td>1</td>\n",
              "      <td>3</td>\n",
              "      <td>2</td>\n",
              "      <td>2.3</td>\n",
              "      <td>4.0</td>\n",
              "      <td>1</td>\n",
              "      <td>2</td>\n",
              "      <td>13.2</td>\n",
              "      <td>10.3</td>\n",
              "      <td>11.9</td>\n",
              "      <td>24.0</td>\n",
              "      <td>274.0</td>\n",
              "    </tr>\n",
              "  </tbody>\n",
              "</table>\n",
              "</div>\n",
              "      <button class=\"colab-df-convert\" onclick=\"convertToInteractive('df-e3331663-ee84-44ce-a49a-a8eda4cdb463')\"\n",
              "              title=\"Convert this dataframe to an interactive table.\"\n",
              "              style=\"display:none;\">\n",
              "        \n",
              "  <svg xmlns=\"http://www.w3.org/2000/svg\" height=\"24px\"viewBox=\"0 0 24 24\"\n",
              "       width=\"24px\">\n",
              "    <path d=\"M0 0h24v24H0V0z\" fill=\"none\"/>\n",
              "    <path d=\"M18.56 5.44l.94 2.06.94-2.06 2.06-.94-2.06-.94-.94-2.06-.94 2.06-2.06.94zm-11 1L8.5 8.5l.94-2.06 2.06-.94-2.06-.94L8.5 2.5l-.94 2.06-2.06.94zm10 10l.94 2.06.94-2.06 2.06-.94-2.06-.94-.94-2.06-.94 2.06-2.06.94z\"/><path d=\"M17.41 7.96l-1.37-1.37c-.4-.4-.92-.59-1.43-.59-.52 0-1.04.2-1.43.59L10.3 9.45l-7.72 7.72c-.78.78-.78 2.05 0 2.83L4 21.41c.39.39.9.59 1.41.59.51 0 1.02-.2 1.41-.59l7.78-7.78 2.81-2.81c.8-.78.8-2.07 0-2.86zM5.41 20L4 18.59l7.72-7.72 1.47 1.35L5.41 20z\"/>\n",
              "  </svg>\n",
              "      </button>\n",
              "      \n",
              "  <style>\n",
              "    .colab-df-container {\n",
              "      display:flex;\n",
              "      flex-wrap:wrap;\n",
              "      gap: 12px;\n",
              "    }\n",
              "\n",
              "    .colab-df-convert {\n",
              "      background-color: #E8F0FE;\n",
              "      border: none;\n",
              "      border-radius: 50%;\n",
              "      cursor: pointer;\n",
              "      display: none;\n",
              "      fill: #1967D2;\n",
              "      height: 32px;\n",
              "      padding: 0 0 0 0;\n",
              "      width: 32px;\n",
              "    }\n",
              "\n",
              "    .colab-df-convert:hover {\n",
              "      background-color: #E2EBFA;\n",
              "      box-shadow: 0px 1px 2px rgba(60, 64, 67, 0.3), 0px 1px 3px 1px rgba(60, 64, 67, 0.15);\n",
              "      fill: #174EA6;\n",
              "    }\n",
              "\n",
              "    [theme=dark] .colab-df-convert {\n",
              "      background-color: #3B4455;\n",
              "      fill: #D2E3FC;\n",
              "    }\n",
              "\n",
              "    [theme=dark] .colab-df-convert:hover {\n",
              "      background-color: #434B5C;\n",
              "      box-shadow: 0px 1px 3px 1px rgba(0, 0, 0, 0.15);\n",
              "      filter: drop-shadow(0px 1px 2px rgba(0, 0, 0, 0.3));\n",
              "      fill: #FFFFFF;\n",
              "    }\n",
              "  </style>\n",
              "\n",
              "      <script>\n",
              "        const buttonEl =\n",
              "          document.querySelector('#df-e3331663-ee84-44ce-a49a-a8eda4cdb463 button.colab-df-convert');\n",
              "        buttonEl.style.display =\n",
              "          google.colab.kernel.accessAllowed ? 'block' : 'none';\n",
              "\n",
              "        async function convertToInteractive(key) {\n",
              "          const element = document.querySelector('#df-e3331663-ee84-44ce-a49a-a8eda4cdb463');\n",
              "          const dataTable =\n",
              "            await google.colab.kernel.invokeFunction('convertToInteractive',\n",
              "                                                     [key], {});\n",
              "          if (!dataTable) return;\n",
              "\n",
              "          const docLinkHtml = 'Like what you see? Visit the ' +\n",
              "            '<a target=\"_blank\" href=https://colab.research.google.com/notebooks/data_table.ipynb>data table notebook</a>'\n",
              "            + ' to learn more about interactive tables.';\n",
              "          element.innerHTML = '';\n",
              "          dataTable['output_type'] = 'display_data';\n",
              "          await google.colab.output.renderOutput(dataTable, element);\n",
              "          const docLink = document.createElement('div');\n",
              "          docLink.innerHTML = docLinkHtml;\n",
              "          element.appendChild(docLink);\n",
              "        }\n",
              "      </script>\n",
              "    </div>\n",
              "  </div>\n",
              "  "
            ]
          },
          "metadata": {},
          "execution_count": 4
        }
      ]
    },
    {
      "cell_type": "markdown",
      "source": [
        "Answering question 2:\n",
        "\n",
        "Using all the numerical continous variables to build a model that predicts CO2 emission."
      ],
      "metadata": {
        "id": "9bZgyDKV_fYg"
      }
    },
    {
      "cell_type": "code",
      "source": [
        "all_training_columns = [tf for tf in clean_data.columns if tf not in ('CO2 EMISSIONS')] # Possible columns that can be used for the training\n",
        "categorical_cols = ['MAKE', 'MODEL', 'VEHICLE CLASS', 'TRANSMISSION', 'FUEL TYPE'] # These are columns with categorical data\n",
        "numerical_cols = ['ENGINE SIZE (L)', 'CYLINDERS', 'CITY (L/100 km)', 'HWY (L/100 km)', 'COMB (L/100 km)', 'COMB (mpg)'] # These are numerical data"
      ],
      "metadata": {
        "id": "QQrth-SPSxRu"
      },
      "execution_count": 5,
      "outputs": []
    },
    {
      "cell_type": "code",
      "source": [
        "numerical_data_df = clean_data.drop(columns=categorical_cols) # Drop the categorical columns from the data frame. Now, left with the numerical columns and the target column\n",
        "numerical_data_df.head(5) # Show to see the data frame is modified"
      ],
      "metadata": {
        "colab": {
          "base_uri": "https://localhost:8080/",
          "height": 206
        },
        "id": "Bp21PvcuCZne",
        "outputId": "de8cb326-5cb1-4864-e036-82d28a711559"
      },
      "execution_count": 6,
      "outputs": [
        {
          "output_type": "execute_result",
          "data": {
            "text/plain": [
              "   MODEL (YEAR)  ENGINE SIZE (L)  CYLINDERS  CITY (L/100 km)  HWY (L/100 km)  \\\n",
              "0        2010.0              2.0        4.0             10.9             7.8   \n",
              "1        2010.0              2.0        4.0             10.0             7.6   \n",
              "2        2010.0              2.0        4.0             11.6             8.1   \n",
              "3        2010.0              3.7        6.0             14.8            11.3   \n",
              "4        2010.0              2.3        4.0             13.2            10.3   \n",
              "\n",
              "   COMB (L/100 km)  COMB (mpg)  CO2 EMISSIONS  \n",
              "0              9.5        30.0          219.0  \n",
              "1              8.9        32.0          205.0  \n",
              "2             10.0        28.0          230.0  \n",
              "3             13.2        21.0          304.0  \n",
              "4             11.9        24.0          274.0  "
            ],
            "text/html": [
              "\n",
              "  <div id=\"df-f58e308b-272f-4982-8caf-6d695eea6b29\">\n",
              "    <div class=\"colab-df-container\">\n",
              "      <div>\n",
              "<style scoped>\n",
              "    .dataframe tbody tr th:only-of-type {\n",
              "        vertical-align: middle;\n",
              "    }\n",
              "\n",
              "    .dataframe tbody tr th {\n",
              "        vertical-align: top;\n",
              "    }\n",
              "\n",
              "    .dataframe thead th {\n",
              "        text-align: right;\n",
              "    }\n",
              "</style>\n",
              "<table border=\"1\" class=\"dataframe\">\n",
              "  <thead>\n",
              "    <tr style=\"text-align: right;\">\n",
              "      <th></th>\n",
              "      <th>MODEL (YEAR)</th>\n",
              "      <th>ENGINE SIZE (L)</th>\n",
              "      <th>CYLINDERS</th>\n",
              "      <th>CITY (L/100 km)</th>\n",
              "      <th>HWY (L/100 km)</th>\n",
              "      <th>COMB (L/100 km)</th>\n",
              "      <th>COMB (mpg)</th>\n",
              "      <th>CO2 EMISSIONS</th>\n",
              "    </tr>\n",
              "  </thead>\n",
              "  <tbody>\n",
              "    <tr>\n",
              "      <th>0</th>\n",
              "      <td>2010.0</td>\n",
              "      <td>2.0</td>\n",
              "      <td>4.0</td>\n",
              "      <td>10.9</td>\n",
              "      <td>7.8</td>\n",
              "      <td>9.5</td>\n",
              "      <td>30.0</td>\n",
              "      <td>219.0</td>\n",
              "    </tr>\n",
              "    <tr>\n",
              "      <th>1</th>\n",
              "      <td>2010.0</td>\n",
              "      <td>2.0</td>\n",
              "      <td>4.0</td>\n",
              "      <td>10.0</td>\n",
              "      <td>7.6</td>\n",
              "      <td>8.9</td>\n",
              "      <td>32.0</td>\n",
              "      <td>205.0</td>\n",
              "    </tr>\n",
              "    <tr>\n",
              "      <th>2</th>\n",
              "      <td>2010.0</td>\n",
              "      <td>2.0</td>\n",
              "      <td>4.0</td>\n",
              "      <td>11.6</td>\n",
              "      <td>8.1</td>\n",
              "      <td>10.0</td>\n",
              "      <td>28.0</td>\n",
              "      <td>230.0</td>\n",
              "    </tr>\n",
              "    <tr>\n",
              "      <th>3</th>\n",
              "      <td>2010.0</td>\n",
              "      <td>3.7</td>\n",
              "      <td>6.0</td>\n",
              "      <td>14.8</td>\n",
              "      <td>11.3</td>\n",
              "      <td>13.2</td>\n",
              "      <td>21.0</td>\n",
              "      <td>304.0</td>\n",
              "    </tr>\n",
              "    <tr>\n",
              "      <th>4</th>\n",
              "      <td>2010.0</td>\n",
              "      <td>2.3</td>\n",
              "      <td>4.0</td>\n",
              "      <td>13.2</td>\n",
              "      <td>10.3</td>\n",
              "      <td>11.9</td>\n",
              "      <td>24.0</td>\n",
              "      <td>274.0</td>\n",
              "    </tr>\n",
              "  </tbody>\n",
              "</table>\n",
              "</div>\n",
              "      <button class=\"colab-df-convert\" onclick=\"convertToInteractive('df-f58e308b-272f-4982-8caf-6d695eea6b29')\"\n",
              "              title=\"Convert this dataframe to an interactive table.\"\n",
              "              style=\"display:none;\">\n",
              "        \n",
              "  <svg xmlns=\"http://www.w3.org/2000/svg\" height=\"24px\"viewBox=\"0 0 24 24\"\n",
              "       width=\"24px\">\n",
              "    <path d=\"M0 0h24v24H0V0z\" fill=\"none\"/>\n",
              "    <path d=\"M18.56 5.44l.94 2.06.94-2.06 2.06-.94-2.06-.94-.94-2.06-.94 2.06-2.06.94zm-11 1L8.5 8.5l.94-2.06 2.06-.94-2.06-.94L8.5 2.5l-.94 2.06-2.06.94zm10 10l.94 2.06.94-2.06 2.06-.94-2.06-.94-.94-2.06-.94 2.06-2.06.94z\"/><path d=\"M17.41 7.96l-1.37-1.37c-.4-.4-.92-.59-1.43-.59-.52 0-1.04.2-1.43.59L10.3 9.45l-7.72 7.72c-.78.78-.78 2.05 0 2.83L4 21.41c.39.39.9.59 1.41.59.51 0 1.02-.2 1.41-.59l7.78-7.78 2.81-2.81c.8-.78.8-2.07 0-2.86zM5.41 20L4 18.59l7.72-7.72 1.47 1.35L5.41 20z\"/>\n",
              "  </svg>\n",
              "      </button>\n",
              "      \n",
              "  <style>\n",
              "    .colab-df-container {\n",
              "      display:flex;\n",
              "      flex-wrap:wrap;\n",
              "      gap: 12px;\n",
              "    }\n",
              "\n",
              "    .colab-df-convert {\n",
              "      background-color: #E8F0FE;\n",
              "      border: none;\n",
              "      border-radius: 50%;\n",
              "      cursor: pointer;\n",
              "      display: none;\n",
              "      fill: #1967D2;\n",
              "      height: 32px;\n",
              "      padding: 0 0 0 0;\n",
              "      width: 32px;\n",
              "    }\n",
              "\n",
              "    .colab-df-convert:hover {\n",
              "      background-color: #E2EBFA;\n",
              "      box-shadow: 0px 1px 2px rgba(60, 64, 67, 0.3), 0px 1px 3px 1px rgba(60, 64, 67, 0.15);\n",
              "      fill: #174EA6;\n",
              "    }\n",
              "\n",
              "    [theme=dark] .colab-df-convert {\n",
              "      background-color: #3B4455;\n",
              "      fill: #D2E3FC;\n",
              "    }\n",
              "\n",
              "    [theme=dark] .colab-df-convert:hover {\n",
              "      background-color: #434B5C;\n",
              "      box-shadow: 0px 1px 3px 1px rgba(0, 0, 0, 0.15);\n",
              "      filter: drop-shadow(0px 1px 2px rgba(0, 0, 0, 0.3));\n",
              "      fill: #FFFFFF;\n",
              "    }\n",
              "  </style>\n",
              "\n",
              "      <script>\n",
              "        const buttonEl =\n",
              "          document.querySelector('#df-f58e308b-272f-4982-8caf-6d695eea6b29 button.colab-df-convert');\n",
              "        buttonEl.style.display =\n",
              "          google.colab.kernel.accessAllowed ? 'block' : 'none';\n",
              "\n",
              "        async function convertToInteractive(key) {\n",
              "          const element = document.querySelector('#df-f58e308b-272f-4982-8caf-6d695eea6b29');\n",
              "          const dataTable =\n",
              "            await google.colab.kernel.invokeFunction('convertToInteractive',\n",
              "                                                     [key], {});\n",
              "          if (!dataTable) return;\n",
              "\n",
              "          const docLinkHtml = 'Like what you see? Visit the ' +\n",
              "            '<a target=\"_blank\" href=https://colab.research.google.com/notebooks/data_table.ipynb>data table notebook</a>'\n",
              "            + ' to learn more about interactive tables.';\n",
              "          element.innerHTML = '';\n",
              "          dataTable['output_type'] = 'display_data';\n",
              "          await google.colab.output.renderOutput(dataTable, element);\n",
              "          const docLink = document.createElement('div');\n",
              "          docLink.innerHTML = docLinkHtml;\n",
              "          element.appendChild(docLink);\n",
              "        }\n",
              "      </script>\n",
              "    </div>\n",
              "  </div>\n",
              "  "
            ]
          },
          "metadata": {},
          "execution_count": 6
        }
      ]
    },
    {
      "cell_type": "markdown",
      "source": [
        "Model training - without Scaling (Before feature selection)"
      ],
      "metadata": {
        "id": "tTwKUWIqOwAd"
      }
    },
    {
      "cell_type": "code",
      "source": [
        "from sklearn.model_selection import train_test_split\n",
        "from sklearn.linear_model import LinearRegression\n",
        "target = 'CO2 EMISSIONS'\n",
        "numerical_features = numerical_data_df.columns[numerical_data_df.columns != target]\n",
        "X = numerical_data_df[numerical_features].values\n",
        "y = numerical_data_df[target].values\n",
        "X_train, X_test, y_train, y_test = train_test_split(X, y, test_size = 0.3, random_state=123)\n",
        "\n",
        "ln_reg = LinearRegression()\n",
        "\n",
        "ln_reg.fit(X_train, y_train)\n",
        "\n",
        "y_train_pred = ln_reg.predict(X_train)\n",
        "\n",
        "y_test_pred = ln_reg.predict(X_test)"
      ],
      "metadata": {
        "id": "vpxLsV87CZkb"
      },
      "execution_count": 7,
      "outputs": []
    },
    {
      "cell_type": "markdown",
      "source": [
        "Model evaluation - without scaling "
      ],
      "metadata": {
        "id": "9mHm7g0Oddqi"
      }
    },
    {
      "cell_type": "code",
      "source": [
        "from sklearn.metrics import mean_squared_error\n",
        "mse_train = mean_squared_error(y_train, y_train_pred)\n",
        "mse_test = mean_squared_error(y_test, y_test_pred)\n",
        "print(f'MSE train: {mse_train: .2f}')\n",
        "print(f'MSE test: {mse_test: .2f}')"
      ],
      "metadata": {
        "id": "th8uw7UlCZcn",
        "colab": {
          "base_uri": "https://localhost:8080/"
        },
        "outputId": "4e4d2785-5204-401f-ab31-8b8d02aaee66"
      },
      "execution_count": 8,
      "outputs": [
        {
          "output_type": "stream",
          "name": "stdout",
          "text": [
            "MSE train:  508.34\n",
            "MSE test:  514.11\n"
          ]
        }
      ]
    },
    {
      "cell_type": "code",
      "source": [
        "from sklearn.metrics import  r2_score\n",
        "train_r2 = r2_score(y_train, y_train_pred)\n",
        "test_r2 = r2_score(y_test, y_test_pred)\n",
        "print(f'R^2 train: {train_r2:.3f}, R^2 test: {test_r2:.3f}')"
      ],
      "metadata": {
        "id": "6YrzeZWaCZTP",
        "colab": {
          "base_uri": "https://localhost:8080/"
        },
        "outputId": "7abb3fe5-1f2d-4496-eecf-914f82c45342"
      },
      "execution_count": 9,
      "outputs": [
        {
          "output_type": "stream",
          "name": "stdout",
          "text": [
            "R^2 train: 0.876, R^2 test: 0.878\n"
          ]
        }
      ]
    },
    {
      "cell_type": "markdown",
      "source": [
        "Model training -  With Scaling (Before feature selection)"
      ],
      "metadata": {
        "id": "pPDTyXQt9e69"
      }
    },
    {
      "cell_type": "code",
      "source": [
        "from sklearn.preprocessing import StandardScaler\n",
        "import numpy as np\n",
        "\n",
        "X_train, X_test, y_train, y_test = train_test_split(X, y, test_size = 0.3, random_state=123) # Spliting before scaling to prevent data leakage\n",
        "\n",
        "sc_X = StandardScaler()\n",
        "sc_y = StandardScaler()\n",
        "\n",
        "std_Xtrain = sc_X.fit_transform(X_train)\n",
        "std_Xtest = sc_X.fit_transform(X_test)\n",
        "std_ytrain = sc_y.fit_transform(y_train[:,np.newaxis]).flatten() # Scaler works with 2D array. Therefore, [:,np.newaxis] introduces the new dimension and .flatten() turns it back to 1D after scaling\n",
        "std_ytest = sc_y.fit_transform(y_test[:,np.newaxis]).flatten()\n",
        "\n",
        "ln_reg.fit(std_Xtrain, std_ytrain) # Still using the same LR initialized \n",
        "\n",
        "y_train_pred_std = ln_reg.predict(std_Xtrain)\n",
        "\n",
        "y_test_pred_std = ln_reg.predict(std_Xtest)"
      ],
      "metadata": {
        "id": "O3IFraYb9Kag"
      },
      "execution_count": 14,
      "outputs": []
    },
    {
      "cell_type": "markdown",
      "source": [
        "Model Evaluation -  With Scaling"
      ],
      "metadata": {
        "id": "iurp1wLU9pk1"
      }
    },
    {
      "cell_type": "code",
      "source": [
        "mse_train = mean_squared_error(std_ytrain, y_train_pred_std)\n",
        "mse_test = mean_squared_error(std_ytest, y_test_pred_std)\n",
        "print(f'MSE train: {mse_train: .2f}')\n",
        "print(f'MSE test: {mse_test: .2f}')"
      ],
      "metadata": {
        "colab": {
          "base_uri": "https://localhost:8080/"
        },
        "id": "slk4Gzks9KVF",
        "outputId": "0a086bbb-1131-4293-931d-7b7588af2671"
      },
      "execution_count": 15,
      "outputs": [
        {
          "output_type": "stream",
          "name": "stdout",
          "text": [
            "MSE train:  0.12\n",
            "MSE test:  0.12\n"
          ]
        }
      ]
    },
    {
      "cell_type": "code",
      "source": [
        "train_r2 = r2_score(std_ytrain, y_train_pred_std)\n",
        "test_r2 = r2_score(std_ytest, y_test_pred_std)\n",
        "print(f'R^2 train: {train_r2:.3f}, R^2 test: {test_r2:.3f}')"
      ],
      "metadata": {
        "colab": {
          "base_uri": "https://localhost:8080/"
        },
        "id": "iigQhy719KSX",
        "outputId": "3f56ce37-a3ce-4d36-be66-fd514ef6f6bf"
      },
      "execution_count": 16,
      "outputs": [
        {
          "output_type": "stream",
          "name": "stdout",
          "text": [
            "R^2 train: 0.876, R^2 test: 0.879\n"
          ]
        }
      ]
    },
    {
      "cell_type": "markdown",
      "source": [
        "Exploratory data analysis to guide selection of subsets of variables from the numerical columns for training the Linear Regression model."
      ],
      "metadata": {
        "id": "EPigYm2yB3wQ"
      }
    },
    {
      "cell_type": "code",
      "source": [
        "!pip install mlxtend"
      ],
      "metadata": {
        "id": "YOS6hK9hSxOz",
        "colab": {
          "base_uri": "https://localhost:8080/"
        },
        "outputId": "e1951d45-e238-44dd-afb9-a1eb4c6f3a77"
      },
      "execution_count": 31,
      "outputs": [
        {
          "output_type": "stream",
          "name": "stdout",
          "text": [
            "Looking in indexes: https://pypi.org/simple, https://us-python.pkg.dev/colab-wheels/public/simple/\n",
            "Requirement already satisfied: mlxtend in /usr/local/lib/python3.7/dist-packages (0.14.0)\n",
            "Requirement already satisfied: pandas>=0.17.1 in /usr/local/lib/python3.7/dist-packages (from mlxtend) (1.3.5)\n",
            "Requirement already satisfied: scipy>=0.17 in /usr/local/lib/python3.7/dist-packages (from mlxtend) (1.7.3)\n",
            "Requirement already satisfied: matplotlib>=1.5.1 in /usr/local/lib/python3.7/dist-packages (from mlxtend) (3.2.2)\n",
            "Requirement already satisfied: numpy>=1.10.4 in /usr/local/lib/python3.7/dist-packages (from mlxtend) (1.21.6)\n",
            "Requirement already satisfied: setuptools in /usr/local/lib/python3.7/dist-packages (from mlxtend) (57.4.0)\n",
            "Requirement already satisfied: scikit-learn>=0.18 in /usr/local/lib/python3.7/dist-packages (from mlxtend) (1.0.2)\n",
            "Requirement already satisfied: pyparsing!=2.0.4,!=2.1.2,!=2.1.6,>=2.0.1 in /usr/local/lib/python3.7/dist-packages (from matplotlib>=1.5.1->mlxtend) (3.0.9)\n",
            "Requirement already satisfied: python-dateutil>=2.1 in /usr/local/lib/python3.7/dist-packages (from matplotlib>=1.5.1->mlxtend) (2.8.2)\n",
            "Requirement already satisfied: kiwisolver>=1.0.1 in /usr/local/lib/python3.7/dist-packages (from matplotlib>=1.5.1->mlxtend) (1.4.4)\n",
            "Requirement already satisfied: cycler>=0.10 in /usr/local/lib/python3.7/dist-packages (from matplotlib>=1.5.1->mlxtend) (0.11.0)\n",
            "Requirement already satisfied: typing-extensions in /usr/local/lib/python3.7/dist-packages (from kiwisolver>=1.0.1->matplotlib>=1.5.1->mlxtend) (4.1.1)\n",
            "Requirement already satisfied: pytz>=2017.3 in /usr/local/lib/python3.7/dist-packages (from pandas>=0.17.1->mlxtend) (2022.6)\n",
            "Requirement already satisfied: six>=1.5 in /usr/local/lib/python3.7/dist-packages (from python-dateutil>=2.1->matplotlib>=1.5.1->mlxtend) (1.15.0)\n",
            "Requirement already satisfied: joblib>=0.11 in /usr/local/lib/python3.7/dist-packages (from scikit-learn>=0.18->mlxtend) (1.2.0)\n",
            "Requirement already satisfied: threadpoolctl>=2.0.0 in /usr/local/lib/python3.7/dist-packages (from scikit-learn>=0.18->mlxtend) (3.1.0)\n"
          ]
        }
      ]
    },
    {
      "cell_type": "code",
      "source": [
        "import matplotlib.pyplot as plt\n",
        "from mlxtend.plotting import scatterplotmatrix\n",
        "\n",
        "scatterplotmatrix(numerical_data_df.values, figsize=(12, 10), names = numerical_data_df.columns, alpha = 0.5) # Using the numerical columns dataframe\n",
        "\n",
        "plt.tight_layout()\n",
        "plt.show()"
      ],
      "metadata": {
        "id": "uNOdU-BNSxL1",
        "colab": {
          "base_uri": "https://localhost:8080/",
          "height": 729
        },
        "outputId": "99367c17-7a10-4454-f429-da2be0b97e40"
      },
      "execution_count": 35,
      "outputs": [
        {
          "output_type": "display_data",
          "data": {
            "text/plain": [
              "<Figure size 864x720 with 64 Axes>"
            ],
            "image/png": "[encoded data removed]"
          },
          "metadata": {
            "needs_background": "light"
          }
        }
      ]
    },
    {
      "cell_type": "code",
      "source": [
        "import seaborn as sn\n",
        "\n",
        "corr_mat = numerical_data_df.corr()\n",
        "sn.heatmap(corr_mat, annot=True)\n",
        "plt.show()"
      ],
      "metadata": {
        "colab": {
          "base_uri": "https://localhost:8080/",
          "height": 347
        },
        "id": "zUn1sy9s_Lbc",
        "outputId": "27f2a8d8-3f9a-49ae-c4c9-f2b865f8f09f"
      },
      "execution_count": 36,
      "outputs": [
        {
          "output_type": "display_data",
          "data": {
            "text/plain": [
              "<Figure size 432x288 with 2 Axes>"
            ],
            "image/png": "[encoded data removed]"
          },
          "metadata": {
            "needs_background": "light"
          }
        }
      ]
    },
    {
      "cell_type": "markdown",
      "source": [
        "The above visualizations are to show how the numerical features relate with one another. \n",
        "\n",
        "For the purpose of selecting variables that would best fit the Linear Regression model, features that fit into a linear relationship with CO2 Emissions, which is the target variable, would be selected.\n",
        "\n",
        "These features would be: ENGINE SIZE (L), CYLINDERS, CITY (L/100 km), HWY (L/100 km), and COMB (L/100 km). These features would exclusively be used in training the LR model."
      ],
      "metadata": {
        "id": "Cs-bZOFmpzLK"
      }
    },
    {
      "cell_type": "code",
      "source": [
        "non_linear_features = [\"MODEL (YEAR)\", \"COMB (mpg)\"]  # \n",
        "selected_data_df = numerical_data_df.drop(columns = non_linear_features) # Drop the features that do not have linear relationship with the target variable\n",
        "selected_data_df.head(5) # Show to see the data frame is modified"
      ],
      "metadata": {
        "id": "aEvr3fHkSxJP",
        "colab": {
          "base_uri": "https://localhost:8080/",
          "height": 206
        },
        "outputId": "5b9c09c5-ad04-444f-c660-fe28a9ac10dd"
      },
      "execution_count": 37,
      "outputs": [
        {
          "output_type": "execute_result",
          "data": {
            "text/plain": [
              "   ENGINE SIZE (L)  CYLINDERS  CITY (L/100 km)  HWY (L/100 km)  \\\n",
              "0              2.0        4.0             10.9             7.8   \n",
              "1              2.0        4.0             10.0             7.6   \n",
              "2              2.0        4.0             11.6             8.1   \n",
              "3              3.7        6.0             14.8            11.3   \n",
              "4              2.3        4.0             13.2            10.3   \n",
              "\n",
              "   COMB (L/100 km)  CO2 EMISSIONS  \n",
              "0              9.5          219.0  \n",
              "1              8.9          205.0  \n",
              "2             10.0          230.0  \n",
              "3             13.2          304.0  \n",
              "4             11.9          274.0  "
            ],
            "text/html": [
              "\n",
              "  <div id=\"df-0d7791b2-5d4e-426b-97d1-8a670d9d48dc\">\n",
              "    <div class=\"colab-df-container\">\n",
              "      <div>\n",
              "<style scoped>\n",
              "    .dataframe tbody tr th:only-of-type {\n",
              "        vertical-align: middle;\n",
              "    }\n",
              "\n",
              "    .dataframe tbody tr th {\n",
              "        vertical-align: top;\n",
              "    }\n",
              "\n",
              "    .dataframe thead th {\n",
              "        text-align: right;\n",
              "    }\n",
              "</style>\n",
              "<table border=\"1\" class=\"dataframe\">\n",
              "  <thead>\n",
              "    <tr style=\"text-align: right;\">\n",
              "      <th></th>\n",
              "      <th>ENGINE SIZE (L)</th>\n",
              "      <th>CYLINDERS</th>\n",
              "      <th>CITY (L/100 km)</th>\n",
              "      <th>HWY (L/100 km)</th>\n",
              "      <th>COMB (L/100 km)</th>\n",
              "      <th>CO2 EMISSIONS</th>\n",
              "    </tr>\n",
              "  </thead>\n",
              "  <tbody>\n",
              "    <tr>\n",
              "      <th>0</th>\n",
              "      <td>2.0</td>\n",
              "      <td>4.0</td>\n",
              "      <td>10.9</td>\n",
              "      <td>7.8</td>\n",
              "      <td>9.5</td>\n",
              "      <td>219.0</td>\n",
              "    </tr>\n",
              "    <tr>\n",
              "      <th>1</th>\n",
              "      <td>2.0</td>\n",
              "      <td>4.0</td>\n",
              "      <td>10.0</td>\n",
              "      <td>7.6</td>\n",
              "      <td>8.9</td>\n",
              "      <td>205.0</td>\n",
              "    </tr>\n",
              "    <tr>\n",
              "      <th>2</th>\n",
              "      <td>2.0</td>\n",
              "      <td>4.0</td>\n",
              "      <td>11.6</td>\n",
              "      <td>8.1</td>\n",
              "      <td>10.0</td>\n",
              "      <td>230.0</td>\n",
              "    </tr>\n",
              "    <tr>\n",
              "      <th>3</th>\n",
              "      <td>3.7</td>\n",
              "      <td>6.0</td>\n",
              "      <td>14.8</td>\n",
              "      <td>11.3</td>\n",
              "      <td>13.2</td>\n",
              "      <td>304.0</td>\n",
              "    </tr>\n",
              "    <tr>\n",
              "      <th>4</th>\n",
              "      <td>2.3</td>\n",
              "      <td>4.0</td>\n",
              "      <td>13.2</td>\n",
              "      <td>10.3</td>\n",
              "      <td>11.9</td>\n",
              "      <td>274.0</td>\n",
              "    </tr>\n",
              "  </tbody>\n",
              "</table>\n",
              "</div>\n",
              "      <button class=\"colab-df-convert\" onclick=\"convertToInteractive('df-0d7791b2-5d4e-426b-97d1-8a670d9d48dc')\"\n",
              "              title=\"Convert this dataframe to an interactive table.\"\n",
              "              style=\"display:none;\">\n",
              "        \n",
              "  <svg xmlns=\"http://www.w3.org/2000/svg\" height=\"24px\"viewBox=\"0 0 24 24\"\n",
              "       width=\"24px\">\n",
              "    <path d=\"M0 0h24v24H0V0z\" fill=\"none\"/>\n",
              "    <path d=\"M18.56 5.44l.94 2.06.94-2.06 2.06-.94-2.06-.94-.94-2.06-.94 2.06-2.06.94zm-11 1L8.5 8.5l.94-2.06 2.06-.94-2.06-.94L8.5 2.5l-.94 2.06-2.06.94zm10 10l.94 2.06.94-2.06 2.06-.94-2.06-.94-.94-2.06-.94 2.06-2.06.94z\"/><path d=\"M17.41 7.96l-1.37-1.37c-.4-.4-.92-.59-1.43-.59-.52 0-1.04.2-1.43.59L10.3 9.45l-7.72 7.72c-.78.78-.78 2.05 0 2.83L4 21.41c.39.39.9.59 1.41.59.51 0 1.02-.2 1.41-.59l7.78-7.78 2.81-2.81c.8-.78.8-2.07 0-2.86zM5.41 20L4 18.59l7.72-7.72 1.47 1.35L5.41 20z\"/>\n",
              "  </svg>\n",
              "      </button>\n",
              "      \n",
              "  <style>\n",
              "    .colab-df-container {\n",
              "      display:flex;\n",
              "      flex-wrap:wrap;\n",
              "      gap: 12px;\n",
              "    }\n",
              "\n",
              "    .colab-df-convert {\n",
              "      background-color: #E8F0FE;\n",
              "      border: none;\n",
              "      border-radius: 50%;\n",
              "      cursor: pointer;\n",
              "      display: none;\n",
              "      fill: #1967D2;\n",
              "      height: 32px;\n",
              "      padding: 0 0 0 0;\n",
              "      width: 32px;\n",
              "    }\n",
              "\n",
              "    .colab-df-convert:hover {\n",
              "      background-color: #E2EBFA;\n",
              "      box-shadow: 0px 1px 2px rgba(60, 64, 67, 0.3), 0px 1px 3px 1px rgba(60, 64, 67, 0.15);\n",
              "      fill: #174EA6;\n",
              "    }\n",
              "\n",
              "    [theme=dark] .colab-df-convert {\n",
              "      background-color: #3B4455;\n",
              "      fill: #D2E3FC;\n",
              "    }\n",
              "\n",
              "    [theme=dark] .colab-df-convert:hover {\n",
              "      background-color: #434B5C;\n",
              "      box-shadow: 0px 1px 3px 1px rgba(0, 0, 0, 0.15);\n",
              "      filter: drop-shadow(0px 1px 2px rgba(0, 0, 0, 0.3));\n",
              "      fill: #FFFFFF;\n",
              "    }\n",
              "  </style>\n",
              "\n",
              "      <script>\n",
              "        const buttonEl =\n",
              "          document.querySelector('#df-0d7791b2-5d4e-426b-97d1-8a670d9d48dc button.colab-df-convert');\n",
              "        buttonEl.style.display =\n",
              "          google.colab.kernel.accessAllowed ? 'block' : 'none';\n",
              "\n",
              "        async function convertToInteractive(key) {\n",
              "          const element = document.querySelector('#df-0d7791b2-5d4e-426b-97d1-8a670d9d48dc');\n",
              "          const dataTable =\n",
              "            await google.colab.kernel.invokeFunction('convertToInteractive',\n",
              "                                                     [key], {});\n",
              "          if (!dataTable) return;\n",
              "\n",
              "          const docLinkHtml = 'Like what you see? Visit the ' +\n",
              "            '<a target=\"_blank\" href=https://colab.research.google.com/notebooks/data_table.ipynb>data table notebook</a>'\n",
              "            + ' to learn more about interactive tables.';\n",
              "          element.innerHTML = '';\n",
              "          dataTable['output_type'] = 'display_data';\n",
              "          await google.colab.output.renderOutput(dataTable, element);\n",
              "          const docLink = document.createElement('div');\n",
              "          docLink.innerHTML = docLinkHtml;\n",
              "          element.appendChild(docLink);\n",
              "        }\n",
              "      </script>\n",
              "    </div>\n",
              "  </div>\n",
              "  "
            ]
          },
          "metadata": {},
          "execution_count": 37
        }
      ]
    },
    {
      "cell_type": "markdown",
      "source": [
        "Model training for selected features"
      ],
      "metadata": {
        "id": "7p7xMRGK86t0"
      }
    },
    {
      "cell_type": "code",
      "source": [
        "target = 'CO2 EMISSIONS'\n",
        "selected_features = selected_data_df.columns[selected_data_df.columns != target]\n",
        "X = selected_data_df[selected_features].values\n",
        "y = selected_data_df[target].values\n",
        "X_train, X_test, y_train, y_test = train_test_split(X, y, test_size = 0.3, random_state=123)\n",
        "\n",
        "ln_reg = LinearRegression()\n",
        "\n",
        "ln_reg.fit(X_train, y_train)\n",
        "\n",
        "y_train_pred = ln_reg.predict(X_train)\n",
        "\n",
        "y_test_pred = ln_reg.predict(X_test)"
      ],
      "metadata": {
        "id": "J9f8YpA6SxGf"
      },
      "execution_count": 38,
      "outputs": []
    },
    {
      "cell_type": "markdown",
      "source": [
        "Model evaluation - for selected features"
      ],
      "metadata": {
        "id": "hUk8d4r385hu"
      }
    },
    {
      "cell_type": "code",
      "source": [
        "train_r2 = r2_score(y_train, y_train_pred)\n",
        "test_r2 = r2_score(y_test, y_test_pred)\n",
        "print(f'R^2 train: {train_r2:.3f}, R^2 test: {test_r2:.3f}')"
      ],
      "metadata": {
        "id": "_XVZ8U2hSxDx",
        "colab": {
          "base_uri": "https://localhost:8080/"
        },
        "outputId": "d4fa32b4-a7af-4b50-b9a5-a39befad1a73"
      },
      "execution_count": 39,
      "outputs": [
        {
          "output_type": "stream",
          "name": "stdout",
          "text": [
            "R^2 train: 0.851, R^2 test: 0.859\n"
          ]
        }
      ]
    },
    {
      "cell_type": "markdown",
      "source": [
        "Contrary to expectation, the performance worsens, when the values of the R^2 are compared."
      ],
      "metadata": {
        "id": "ryYtaLjdLQ1N"
      }
    },
    {
      "cell_type": "markdown",
      "source": [
        "Answering Question 3:\n",
        "\n",
        "Determine whether there were noticeable improvements in the CO2 emission from year 2010 to 2014."
      ],
      "metadata": {
        "id": "FL7bi0jkLPcf"
      }
    },
    {
      "cell_type": "code",
      "source": [],
      "metadata": {
        "id": "g26aYUkaSxBL"
      },
      "execution_count": null,
      "outputs": []
    }
  ]
}