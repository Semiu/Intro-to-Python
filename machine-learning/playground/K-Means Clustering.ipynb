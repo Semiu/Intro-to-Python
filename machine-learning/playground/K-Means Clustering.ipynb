{
 "cells": [
  {
   "cell_type": "markdown",
   "id": "japanese-hunger",
   "metadata": {},
   "source": [
    "A data point belongs to the cluster that its centre is closest to it.\n",
    "\n",
    "The center of all data points is the mean of the data, the centroid in geometric term. `Xmean = sum(x1...xN)/N`\n",
    "\n",
    "A clustering algorithm centers on the two facts. Therefore,\n",
    "Ac (clustering algorithm):\n",
    "\n",
    "1. Initialize K (random points as centers of the clusters).\n",
    "2. While not converge, do:\n",
    "    * assign each point to the nearest cluster center\n",
    "    * recalculate each cluster from the points that belong to it"
   ]
  },
  {
   "cell_type": "markdown",
   "id": "hungry-kidney",
   "metadata": {},
   "source": [
    "Synthetic dataset `X = N * D\n",
    "                    N = Number of samples, D = Number of features`\n",
    "                    \n",
    "Cluster Identity `Y = N, containing integers from 0 to K-1 inclusive`"
   ]
  },
  {
   "cell_type": "code",
   "execution_count": null,
   "id": "informational-comparison",
   "metadata": {},
   "outputs": [],
   "source": [
    "#Libraries\n",
    "import numpy as np\n",
    "import matplotlib.pyplot as plt"
   ]
  },
  {
   "cell_type": "code",
   "execution_count": null,
   "id": "mineral-donna",
   "metadata": {},
   "outputs": [],
   "source": [
    "#Configurations\n",
    "D = 2 #dimensions\n",
    "K = 3 #clusters\n",
    "N = 300 #sample size"
   ]
  },
  {
   "cell_type": "code",
   "execution_count": null,
   "id": "agreed-handle",
   "metadata": {},
   "outputs": [],
   "source": [
    "#Data creation\n",
    "mu1 = np.array([0,0])\n",
    "mu2 = np.arrary([5,5])\n",
    "mu3 = np.array([0,5])\n",
    "\n",
    "X = np.zeros((N, D))\n",
    "X[:100, :] = np.random.randn(100, D)+ mu1\n",
    "X[100:200, :]"
   ]
  },
  {
   "cell_type": "code",
   "execution_count": null,
   "id": "fatal-auction",
   "metadata": {},
   "outputs": [],
   "source": [
    "Application of "
   ]
  },
  {
   "cell_type": "code",
   "execution_count": null,
   "id": "curious-replica",
   "metadata": {},
   "outputs": [],
   "source": []
  }
 ],
 "metadata": {
  "kernelspec": {
   "display_name": "Python 3",
   "language": "python",
   "name": "python3"
  },
  "language_info": {
   "codemirror_mode": {
    "name": "ipython",
    "version": 3
   },
   "file_extension": ".py",
   "mimetype": "text/x-python",
   "name": "python",
   "nbconvert_exporter": "python",
   "pygments_lexer": "ipython3",
   "version": "3.7.9"
  }
 },
 "nbformat": 4,
 "nbformat_minor": 5
}
