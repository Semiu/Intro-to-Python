{
 "cells": [
  {
   "cell_type": "markdown",
   "id": "3d342b3e",
   "metadata": {},
   "source": [
    "Eulerian path is talked about in a graph. This is a path that starts off in some node in the graph, moves along the edges, node to node, and passes all the edges exactly once, and ends at a node.\n",
    "When a node has an eulerian path, the start and end node in  most times will have odd degree, and other nodes with even degree. \n",
    "The exception is in an Eulerian tour. This is when the same node is the start and end point, therefore, it would have even degree, yet with an eulerian path."
   ]
  },
  {
   "cell_type": "markdown",
   "id": "8606396d",
   "metadata": {},
   "source": [
    "The degree of a node in a graph is the number of edges connected to that node"
   ]
  },
  {
   "cell_type": "code",
   "execution_count": null,
   "id": "1c5be114",
   "metadata": {},
   "outputs": [],
   "source": []
  },
  {
   "cell_type": "code",
   "execution_count": null,
   "id": "3446dff0",
   "metadata": {},
   "outputs": [],
   "source": []
  },
  {
   "cell_type": "code",
   "execution_count": null,
   "id": "744bed6e",
   "metadata": {},
   "outputs": [],
   "source": []
  }
 ],
 "metadata": {
  "kernelspec": {
   "display_name": "Python 3",
   "language": "python",
   "name": "python3"
  },
  "language_info": {
   "codemirror_mode": {
    "name": "ipython",
    "version": 3
   },
   "file_extension": ".py",
   "mimetype": "text/x-python",
   "name": "python",
   "nbconvert_exporter": "python",
   "pygments_lexer": "ipython3",
   "version": "3.7.9"
  }
 },
 "nbformat": 4,
 "nbformat_minor": 5
}
