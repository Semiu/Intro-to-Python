{
 "cells": [
  {
   "cell_type": "code",
   "execution_count": 48,
   "id": "3071f4e1",
   "metadata": {},
   "outputs": [],
   "source": [
    "#The request string for testing\n",
    "req = \"\"\"\n",
    "GET /hello.htm HTTP/1.1\n",
    "User-Agent: Mozilla/4.0 (compatible; MSIE5.01; Windows NT)\n",
    "Host: www.somesite.com\n",
    "Accept-Language: en-us\n",
    "Accept-Encoding: gzip, deflate\n",
    "Connection: Keep-Alive\n",
    "\"\"\""
   ]
  },
  {
   "cell_type": "code",
   "execution_count": 49,
   "id": "40d58e82",
   "metadata": {},
   "outputs": [],
   "source": [
    "#The convertRequest function\n",
    "\n",
    "def convertRequest(req):\n",
    "    \n",
    "    request = {} #Initialize a dictionary\n",
    "    \n",
    "    req_words = [x for x in req.split('\\n') if x != ''] #A multiline string to list, without whitespace\n",
    "    \n",
    "    first_line_items = [i for i in req_words[0].split(' ')] #The first item, which is always available, is further split\n",
    "    \n",
    "    request['method'] = first_line_items[0] #And assigned respectively\n",
    "    request['uri'] = first_line_items[1]\n",
    "    request['protocol'] = first_line_items[2]\n",
    "    \n",
    "    i = 1 #The other body, since we are not sure of their presence, and how many they will be. \n",
    "    while i <= len(req_words) - 1:\n",
    "        items = [j.lstrip() for j in req_words[i].split(':')] #Split each by : and the first element is the dictionary key, \n",
    "                                                                #Second element is the key's value.\n",
    "        request[items[0]] = items[1]\n",
    "        i += 1\n",
    "    \n",
    "    return request"
   ]
  },
  {
   "cell_type": "code",
   "execution_count": 50,
   "id": "c2d18151",
   "metadata": {},
   "outputs": [
    {
     "data": {
      "text/plain": [
       "{'method': 'GET',\n",
       " 'uri': '/hello.htm',\n",
       " 'protocol': 'HTTP/1.1',\n",
       " 'User-Agent': 'Mozilla/4.0 (compatible; MSIE5.01; Windows NT)',\n",
       " 'Host': 'www.somesite.com',\n",
       " 'Accept-Language': 'en-us',\n",
       " 'Accept-Encoding': 'gzip, deflate',\n",
       " 'Connection': 'Keep-Alive'}"
      ]
     },
     "execution_count": 50,
     "metadata": {},
     "output_type": "execute_result"
    }
   ],
   "source": [
    "convertRequest(req)"
   ]
  },
  {
   "cell_type": "code",
   "execution_count": null,
   "id": "3989b752",
   "metadata": {},
   "outputs": [],
   "source": []
  }
 ],
 "metadata": {
  "kernelspec": {
   "display_name": "Python 3 (ipykernel)",
   "language": "python",
   "name": "python3"
  },
  "language_info": {
   "codemirror_mode": {
    "name": "ipython",
    "version": 3
   },
   "file_extension": ".py",
   "mimetype": "text/x-python",
   "name": "python",
   "nbconvert_exporter": "python",
   "pygments_lexer": "ipython3",
   "version": "3.10.5"
  }
 },
 "nbformat": 4,
 "nbformat_minor": 5
}
