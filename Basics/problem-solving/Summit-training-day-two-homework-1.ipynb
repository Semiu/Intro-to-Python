{
 "cells": [
  {
   "cell_type": "code",
   "execution_count": 7,
   "id": "83c7f032",
   "metadata": {},
   "outputs": [
    {
     "name": "stdout",
     "output_type": "stream",
     "text": [
      "postfix evaluation: -4\n"
     ]
    }
   ],
   "source": [
    "#1 Evaluate a postfix expression from the user\n",
    "#Postfix expression - \n",
    "#Infix expression\n",
    "# Python program to evaluate value of a postfix expression\n",
    "\n",
    "# Class to convert the expression\n",
    "class Evaluate:\n",
    "    \n",
    "    # Constructor to initialize the class variables\n",
    "    def __init__(self, capacity):\n",
    "        self.top = -1\n",
    "        self.capacity = capacity\n",
    "        \n",
    "        # This array is used a stack\n",
    "        self.array = []\n",
    "        \n",
    "    # check if the stack is empty\n",
    "    def isEmpty(self):\n",
    "        return True if self.top == -1 else False\n",
    "    \n",
    "    # Return the value of the top of the stack\n",
    "    def peek(self):\n",
    "        return self.array[-1]\n",
    "    \n",
    "    # Pop the element from the stack\n",
    "    def pop(self):\n",
    "        if not self.isEmpty():\n",
    "            self.top -= 1\n",
    "            return self.array.pop()\n",
    "        else:\n",
    "            return \"$\"\n",
    "        \n",
    "    # Push the element to the stack\n",
    "    def push(self, op):\n",
    "        self.top += 1\n",
    "        self.array.append(op)\n",
    "\n",
    "\n",
    "    # The main function that converts given infix expression\n",
    "    # to postfix expression\n",
    "    def evaluatePostfix(self, exp):\n",
    "        # Iterate over the expression for conversion\n",
    "        for i in exp:\n",
    "            \n",
    "            # If the scanned character is an operand\n",
    "            # (number here) push it to the stack\n",
    "            if i.isdigit():\n",
    "                self.push(i)\n",
    "            \n",
    "            # If the scanned character is an operator,\n",
    "            # pop two elements from stack and apply it.\n",
    "            \n",
    "            else:\n",
    "                val1 = self.pop()\n",
    "                val2 = self.pop()\n",
    "                \n",
    "                self.push(str(eval(val2 + i + val1)))\n",
    "                \n",
    "        return int(self.pop())\n",
    "    \n",
    "    \n",
    "\n",
    "# Driver program to test above function\n",
    "exp = \"231*+9-\"\n",
    "\n",
    "obj = Evaluate(len(exp))\n",
    "\n",
    "print (\"postfix evaluation: %d\"%(obj.evaluatePostfix(exp)))"
   ]
  },
  {
   "cell_type": "code",
   "execution_count": 2,
   "id": "0c4a0471",
   "metadata": {},
   "outputs": [
    {
     "name": "stdout",
     "output_type": "stream",
     "text": [
      "Enter a positive integer: 9\n",
      "Enter a positive integer: 1\n",
      "Enter a positive integer: 3\n",
      "Enter a positive integer: 4\n",
      "Enter a positive integer: 6\n",
      "Enter a positive integer: 0\n",
      "1\n",
      "3\n",
      "4\n",
      "6\n",
      "9\n"
     ]
    }
   ],
   "source": [
    "#2 Read positive integers from the user until the input is zero(0)\n",
    "# Then print the sorted list without the zero\n",
    "\n",
    "#List to take the input\n",
    "num_list = []\n",
    "#initialize the loop termination\n",
    "i = 2\n",
    "#0 will terminate because it \n",
    "while i > 1 or i == 1:\n",
    "    user_input = int(input(\"Enter a positive positive integer: \"))\n",
    "    if user_input == 0:\n",
    "        break\n",
    "    else:\n",
    "        num_list.append(user_input)\n",
    "\n",
    "sorted_list = sorted(num_list)\n",
    "\n",
    "for num in sorted_list:\n",
    "    print(num)"
   ]
  },
  {
   "cell_type": "code",
   "execution_count": 11,
   "id": "1aa5286f",
   "metadata": {},
   "outputs": [
    {
     "name": "stdout",
     "output_type": "stream",
     "text": [
      "Enter any integer, positive or negative, or zero: 3\n",
      "Enter any integer, positive or negative, or zero: -4\n",
      "Enter any integer, positive or negative, or zero: 1\n",
      "Enter any integer, positive or negative, or zero: 0\n",
      "Enter any integer, positive or negative, or zero: -1\n",
      "Enter any integer, positive or negative, or zero: 0\n",
      "Enter any integer, positive or negative, or zero: -2\n",
      "Enter any integer, positive or negative, or zero: \n",
      "-4\n",
      "-1\n",
      "-2\n",
      "0\n",
      "0\n",
      "3\n",
      "1\n"
     ]
    }
   ],
   "source": [
    "#3 Read integer (positive and negative included) from the user until a blank space is entered\n",
    "# The print the items list according to how they were entered, per group (negative, zeros, then positives)\n",
    "\n",
    "#to determine the end of the loop\n",
    "to_continue = True\n",
    "\n",
    "#List to take the inputs, per group\n",
    "neg_list = []\n",
    "zero_list = []\n",
    "pos_list = []\n",
    "\n",
    "while to_continue:\n",
    "    #An exception catch because blank will return ValueError \n",
    "    try:\n",
    "        user_input = int(input(\"Enter any integer, positive or negative, or zero: \"))\n",
    "        \n",
    "        #This checks if its type int. Blank space will not return int\n",
    "        if type(user_input) == int:\n",
    "            if user_input < 0:\n",
    "                neg_list.append(user_input)\n",
    "            elif user_input == 0:\n",
    "                zero_list.append(user_input)\n",
    "            elif user_input > 0:\n",
    "                pos_list.append(user_input)\n",
    "                \n",
    "    #When the error comes, the while loop stops\n",
    "    except ValueError:\n",
    "        to_continue = False\n",
    "\n",
    "for neg_num in neg_list:\n",
    "    print(neg_num)\n",
    "for zero in zero_list:\n",
    "    print(zero)\n",
    "for pos_num in pos_list:\n",
    "    print(pos_num)"
   ]
  },
  {
   "cell_type": "code",
   "execution_count": 6,
   "id": "09882ed1",
   "metadata": {},
   "outputs": [
    {
     "name": "stdout",
     "output_type": "stream",
     "text": [
      "Enter any word: first\n",
      "Enter any word: second\n",
      "Enter any word: first\n",
      "Enter any word: third\\\n",
      "Enter any word: third\n",
      "Enter any word: second\n",
      "Enter any word: second\n",
      "Enter any word: \n",
      "second\n",
      "third\\\n",
      "first\n",
      "third\n"
     ]
    }
   ],
   "source": [
    "#4 Read words from the user until a blank space is entered\n",
    "# The print the sorted list without the zero\n",
    "\n",
    "#to determine the end of the loop\n",
    "to_continue = True\n",
    "\n",
    "#List to take the input\n",
    "word_list = []\n",
    "\n",
    "while to_continue:\n",
    "    user_input = input(\"Enter any word: \")\n",
    "    #This checks if there is a user input\n",
    "    if user_input:\n",
    "        word_list.append(user_input)\n",
    "    else:\n",
    "        to_continue = False\n",
    "#set operator returns only unique elements\n",
    "for word in set(word_list):\n",
    "    print(word)"
   ]
  },
  {
   "cell_type": "code",
   "execution_count": 4,
   "id": "c5ae286a",
   "metadata": {},
   "outputs": [
    {
     "name": "stdout",
     "output_type": "stream",
     "text": [
      "Ade\n",
      "Ayo\n",
      "Sade\n",
      "Kola\n"
     ]
    }
   ],
   "source": [
    "#5 Implement queue FIFO (First In, First Out) principle using list and its methods. \n",
    "# Use proper methods of list\n",
    "\n",
    "list_for_queue = []\n",
    "\n",
    "#Add items \n",
    "list_for_queue.append(\"Ade\") #first in\n",
    "list_for_queue.append(\"Ayo\") #second in\n",
    "list_for_queue.append(\"Sade\") #third in\n",
    "list_for_queue.append(\"Kola\") #Fourth in\n",
    "\n",
    "print(list_for_queue.pop(0)) #first out, first in\n",
    "print(list_for_queue.pop(0)) #second out, second in\n",
    "print(list_for_queue.pop(0)) #third out, \n",
    "print(list_for_queue.pop(0)) #fourth out"
   ]
  },
  {
   "cell_type": "code",
   "execution_count": 6,
   "id": "806c056d",
   "metadata": {},
   "outputs": [
    {
     "name": "stdout",
     "output_type": "stream",
     "text": [
      "Kola\n",
      "Sade\n",
      "Ayo\n",
      "Ade\n"
     ]
    }
   ],
   "source": [
    "#6 Implement queue LIFO (Last in, First Out) principle using list methods. \n",
    "# Methods like pop, append. \n",
    "\n",
    "list_for_stack = []\n",
    "\n",
    "#Add items \n",
    "list_for_stack.append(\"Ade\") #first in\n",
    "list_for_stack.append(\"Ayo\") #second in\n",
    "list_for_stack.append(\"Sade\") #third in\n",
    "list_for_stack.append(\"Kola\") #Fourth in\n",
    "\n",
    "print(list_for_stack.pop()) #first out, fourth in\n",
    "print(list_for_stack.pop()) #second out, third in\n",
    "print(list_for_stack.pop()) #third out, second in\n",
    "print(list_for_stack.pop()) #fourth out, first in"
   ]
  },
  {
   "cell_type": "code",
   "execution_count": null,
   "id": "1f78aa1b",
   "metadata": {},
   "outputs": [],
   "source": []
  }
 ],
 "metadata": {
  "kernelspec": {
   "display_name": "Python 3 (ipykernel)",
   "language": "python",
   "name": "python3"
  },
  "language_info": {
   "codemirror_mode": {
    "name": "ipython",
    "version": 3
   },
   "file_extension": ".py",
   "mimetype": "text/x-python",
   "name": "python",
   "nbconvert_exporter": "python",
   "pygments_lexer": "ipython3",
   "version": "3.10.5"
  }
 },
 "nbformat": 4,
 "nbformat_minor": 5
}
