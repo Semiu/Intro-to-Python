{
 "cells": [
  {
   "cell_type": "code",
   "execution_count": 31,
   "id": "9ada1d19",
   "metadata": {},
   "outputs": [],
   "source": [
    "#Binary - int to binary format method. It takes int and the number of bit(n)\n",
    "def binary(x,n):\n",
    "    return format(x, 'b').zfill(n)"
   ]
  },
  {
   "cell_type": "code",
   "execution_count": 32,
   "id": "faa02dde",
   "metadata": {},
   "outputs": [],
   "source": [
    "#Convert IP Address\n",
    "def convertIP(ipaddress):\n",
    "    \n",
    "    bin_list = [] #List to take the binary\n",
    "    units = [x for x in ipaddress.split('.')] #List comprehension by spliting the ipaddress by its dots\n",
    "    for unit in units:\n",
    "        bin_list.append(binary(int(unit),8)) #The binary method is called here and the return value appended to the list\n",
    "    \n",
    "    return '.'.join(bin_list) #The elements in the bin_list is joined to get the binary format string"
   ]
  },
  {
   "cell_type": "code",
   "execution_count": 33,
   "id": "745ce70e",
   "metadata": {},
   "outputs": [],
   "source": [
    "ipaddress = '192.168.1.1'"
   ]
  },
  {
   "cell_type": "code",
   "execution_count": 34,
   "id": "68ad1f02",
   "metadata": {},
   "outputs": [
    {
     "data": {
      "text/plain": [
       "'11000000.10101000.00000001.00000001'"
      ]
     },
     "execution_count": 34,
     "metadata": {},
     "output_type": "execute_result"
    }
   ],
   "source": [
    "convertIP(ipaddress)"
   ]
  },
  {
   "cell_type": "code",
   "execution_count": null,
   "id": "f6a1eb54",
   "metadata": {},
   "outputs": [],
   "source": []
  }
 ],
 "metadata": {
  "kernelspec": {
   "display_name": "Python 3 (ipykernel)",
   "language": "python",
   "name": "python3"
  },
  "language_info": {
   "codemirror_mode": {
    "name": "ipython",
    "version": 3
   },
   "file_extension": ".py",
   "mimetype": "text/x-python",
   "name": "python",
   "nbconvert_exporter": "python",
   "pygments_lexer": "ipython3",
   "version": "3.10.5"
  }
 },
 "nbformat": 4,
 "nbformat_minor": 5
}
