{
 "cells": [
  {
   "cell_type": "code",
   "execution_count": 2,
   "id": "0e102cf9",
   "metadata": {},
   "outputs": [
    {
     "data": {
      "text/plain": [
       "4"
      ]
     },
     "execution_count": 2,
     "metadata": {},
     "output_type": "execute_result"
    }
   ],
   "source": [
    "# Given a list to be sorted, find the Minimum number of swaps that would happen for the sorting to complete\n",
    "\n",
    "# Solution needs to be checked - tested for edge cases\n",
    "\n",
    "def min_swaps(the_list):\n",
    "    #initialize the number of times of swaps\n",
    "    swap = 0\n",
    "    #The loop through the index and element\n",
    "    for i in range(len(the_list)):\n",
    "        for j in range(len(the_list) - 1):\n",
    "            \n",
    "            # Sorting implementation\n",
    "            if the_list[j] > the_list[j+1]:\n",
    "                the_list[j+1] = the_list[j]\n",
    "                \n",
    "                # If swapping happens\n",
    "                swap += 1\n",
    "    \n",
    "    return swap\n",
    "\n",
    "        \n",
    "min_swaps([9,8,2,4,5])"
   ]
  }
 ],
 "metadata": {
  "kernelspec": {
   "display_name": "Python 3 (ipykernel)",
   "language": "python",
   "name": "python3"
  },
  "language_info": {
   "codemirror_mode": {
    "name": "ipython",
    "version": 3
   },
   "file_extension": ".py",
   "mimetype": "text/x-python",
   "name": "python",
   "nbconvert_exporter": "python",
   "pygments_lexer": "ipython3",
   "version": "3.10.5"
  }
 },
 "nbformat": 4,
 "nbformat_minor": 5
}
