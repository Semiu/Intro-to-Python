{
 "cells": [
  {
   "cell_type": "code",
   "execution_count": null,
   "id": "f222c8b6",
   "metadata": {},
   "outputs": [],
   "source": [
    "#1 To continue on day four homework sheet"
   ]
  },
  {
   "cell_type": "code",
   "execution_count": null,
   "id": "ce04f384",
   "metadata": {},
   "outputs": [],
   "source": [
    "#2 Implement binary_to_Decimal function that convert a binary string into a decimal.\n",
    "# Throw an exception if the input (string) "
   ]
  },
  {
   "cell_type": "code",
   "execution_count": null,
   "id": "1fd534dc",
   "metadata": {},
   "outputs": [],
   "source": [
    "# user defined exception called "
   ]
  },
  {
   "cell_type": "code",
   "execution_count": null,
   "id": "70148c46",
   "metadata": {},
   "outputs": [],
   "source": []
  },
  {
   "cell_type": "code",
   "execution_count": null,
   "id": "6f3fbcfb",
   "metadata": {},
   "outputs": [],
   "source": []
  },
  {
   "cell_type": "code",
   "execution_count": null,
   "id": "f935d368",
   "metadata": {},
   "outputs": [],
   "source": []
  },
  {
   "cell_type": "code",
   "execution_count": null,
   "id": "b091da1c",
   "metadata": {},
   "outputs": [],
   "source": []
  },
  {
   "cell_type": "code",
   "execution_count": null,
   "id": "73fab339",
   "metadata": {},
   "outputs": [],
   "source": []
  },
  {
   "cell_type": "code",
   "execution_count": null,
   "id": "30e650b8",
   "metadata": {},
   "outputs": [],
   "source": []
  }
 ],
 "metadata": {
  "kernelspec": {
   "display_name": "Python 3 (ipykernel)",
   "language": "python",
   "name": "python3"
  },
  "language_info": {
   "codemirror_mode": {
    "name": "ipython",
    "version": 3
   },
   "file_extension": ".py",
   "mimetype": "text/x-python",
   "name": "python",
   "nbconvert_exporter": "python",
   "pygments_lexer": "ipython3",
   "version": "3.10.5"
  }
 },
 "nbformat": 4,
 "nbformat_minor": 5
}
