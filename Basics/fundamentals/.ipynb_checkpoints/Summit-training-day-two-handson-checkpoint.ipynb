{
 "cells": [
  {
   "cell_type": "code",
   "execution_count": 1,
   "id": "bd524460",
   "metadata": {},
   "outputs": [
    {
     "name": "stdout",
     "output_type": "stream",
     "text": [
      "43\n"
     ]
    }
   ],
   "source": [
    "#Write a program to sum all items in a list\n",
    "list_to_sum = [4,6,2,19,5,7]\n",
    "the_sum = 0\n",
    "for num in list_to_sum:\n",
    "    the_sum += num\n",
    "print(the_sum)\n"
   ]
  },
  {
   "cell_type": "code",
   "execution_count": 3,
   "id": "83e5b01d",
   "metadata": {},
   "outputs": [
    {
     "name": "stdout",
     "output_type": "stream",
     "text": [
      "[2, 4, 5, 6, 7, 19]\n",
      "19\n",
      "2\n"
     ]
    }
   ],
   "source": [
    "#Get largest and smallest from a list\n",
    "#Assume it is an unsorted list\n",
    "unsorted_list = [4,6,2,19,5,7]\n",
    "sorted_version = sorted(unsorted_list)\n",
    "largest = sorted_version[-1] #last element of the list\n",
    "smallest = sorted_version[0] #first element of the list\n",
    "print(sorted_version)\n",
    "print(largest)\n",
    "print(smallest)"
   ]
  },
  {
   "cell_type": "code",
   "execution_count": 9,
   "id": "1b122682",
   "metadata": {},
   "outputs": [
    {
     "name": "stdout",
     "output_type": "stream",
     "text": [
      "[1, 4, 9, 16, 25, 676, 729, 784, 841, 900]\n"
     ]
    }
   ],
   "source": [
    "#A list of first and last five elements where the elements are square of numbers between 1 and 30 (both included)\n",
    "squares = []\n",
    "for num in range(1,30+1):\n",
    "    squares.append(num**2)\n",
    "    \n",
    "first_list = squares[:5]\n",
    "second_list = squares[-5:]\n",
    "\n",
    "print(first_list + second_list)"
   ]
  },
  {
   "cell_type": "code",
   "execution_count": 10,
   "id": "7fb69a93",
   "metadata": {},
   "outputs": [
    {
     "name": "stdout",
     "output_type": "stream",
     "text": [
      "3\n"
     ]
    }
   ],
   "source": [
    "#length pf a tuple\n",
    "t_uple = (7,8,9)\n",
    "print(len(t_uple))"
   ]
  },
  {
   "cell_type": "code",
   "execution_count": 11,
   "id": "41ad977a",
   "metadata": {},
   "outputs": [
    {
     "name": "stdout",
     "output_type": "stream",
     "text": [
      "('p', 'y', 't', 'h', 'o', 'n', ' ', '3', '.', '0')\n"
     ]
    }
   ],
   "source": [
    "#convert string to tuple\n",
    "string = \"python 3.0\"\n",
    "str_to_tuple = tuple(string)\n",
    "print(str_to_tuple)"
   ]
  },
  {
   "cell_type": "code",
   "execution_count": 12,
   "id": "2a0d61ae",
   "metadata": {},
   "outputs": [
    {
     "name": "stdout",
     "output_type": "stream",
     "text": [
      "{0: 10, 1: 20, 2: 30}\n"
     ]
    }
   ],
   "source": [
    "#Add a given key and value to a dictionary\n",
    "dictionary = {0:10, 1:20}\n",
    "dictionary[2] = 30\n",
    "print(dictionary)"
   ]
  },
  {
   "cell_type": "code",
   "execution_count": 16,
   "id": "42a4dd07",
   "metadata": {},
   "outputs": [
    {
     "name": "stdout",
     "output_type": "stream",
     "text": [
      "dict_keys([0, 1, 2])\n",
      "0\n",
      "1\n",
      "2\n",
      "dict_values([10, 20, 30])\n",
      "10\n",
      "20\n",
      "30\n",
      "dict_items([(0, 10), (1, 20), (2, 30)])\n",
      "(0, 10)\n",
      "(1, 20)\n",
      "(2, 30)\n"
     ]
    }
   ],
   "source": [
    "#Get the key, value and item from the dictionary\n",
    "#Keys\n",
    "print(dictionary.keys())\n",
    "for key in dictionary: #the key are the iterables when the dictionary variable is called\n",
    "    print(key)\n",
    "#Values\n",
    "print(dictionary.values())\n",
    "for value in dictionary.values():\n",
    "    print(value)\n",
    "#Items\n",
    "print(dictionary.items())\n",
    "for item in dictionary.items():\n",
    "    print(item)"
   ]
  },
  {
   "cell_type": "code",
   "execution_count": 20,
   "id": "8ad55fd5",
   "metadata": {},
   "outputs": [
    {
     "ename": "KeyError",
     "evalue": "None",
     "output_type": "error",
     "traceback": [
      "\u001b[1;31m---------------------------------------------------------------------------\u001b[0m",
      "\u001b[1;31mKeyError\u001b[0m                                  Traceback (most recent call last)",
      "\u001b[1;32m<ipython-input-20-af81009637f4>\u001b[0m in \u001b[0;36m<module>\u001b[1;34m\u001b[0m\n\u001b[0;32m      4\u001b[0m     \u001b[1;32mfor\u001b[0m \u001b[0mvalue\u001b[0m \u001b[1;32min\u001b[0m \u001b[0mdictiona\u001b[0m\u001b[1;33m.\u001b[0m\u001b[0mvalues\u001b[0m\u001b[1;33m(\u001b[0m\u001b[1;33m)\u001b[0m\u001b[1;33m:\u001b[0m\u001b[1;33m\u001b[0m\u001b[1;33m\u001b[0m\u001b[0m\n\u001b[0;32m      5\u001b[0m         \u001b[1;32mif\u001b[0m \u001b[0mvalue\u001b[0m \u001b[1;33m==\u001b[0m \u001b[1;32mNone\u001b[0m\u001b[1;33m:\u001b[0m\u001b[1;33m\u001b[0m\u001b[1;33m\u001b[0m\u001b[0m\n\u001b[1;32m----> 6\u001b[1;33m             \u001b[1;32mdel\u001b[0m\u001b[1;33m[\u001b[0m\u001b[0mdictiona\u001b[0m\u001b[1;33m[\u001b[0m\u001b[0mvalue\u001b[0m\u001b[1;33m]\u001b[0m\u001b[1;33m]\u001b[0m\u001b[1;33m\u001b[0m\u001b[1;33m\u001b[0m\u001b[0m\n\u001b[0m\u001b[0;32m      7\u001b[0m \u001b[0mprint\u001b[0m\u001b[1;33m(\u001b[0m\u001b[0mdictiona\u001b[0m\u001b[1;33m)\u001b[0m\u001b[1;33m\u001b[0m\u001b[1;33m\u001b[0m\u001b[0m\n",
      "\u001b[1;31mKeyError\u001b[0m: None"
     ]
    }
   ],
   "source": [
    "#Drop item where value is None\n",
    "dictiona = {'c1':'Red', 'c2': 'Green', 'c3': None}\n",
    "for key in dictiona.keys():\n",
    "    for value in dictiona.values():\n",
    "        if value == None:\n",
    "            del[dictiona[value]]\n",
    "print(dictiona)"
   ]
  },
  {
   "cell_type": "code",
   "execution_count": null,
   "id": "22dd922f",
   "metadata": {},
   "outputs": [],
   "source": [
    "#"
   ]
  },
  {
   "cell_type": "code",
   "execution_count": null,
   "id": "7c6b359d",
   "metadata": {},
   "outputs": [],
   "source": [
    "set."
   ]
  },
  {
   "cell_type": "code",
   "execution_count": null,
   "id": "312ec077",
   "metadata": {},
   "outputs": [],
   "source": []
  },
  {
   "cell_type": "code",
   "execution_count": null,
   "id": "f81e478c",
   "metadata": {},
   "outputs": [],
   "source": []
  }
 ],
 "metadata": {
  "kernelspec": {
   "display_name": "Python 3",
   "language": "python",
   "name": "python3"
  },
  "language_info": {
   "codemirror_mode": {
    "name": "ipython",
    "version": 3
   },
   "file_extension": ".py",
   "mimetype": "text/x-python",
   "name": "python",
   "nbconvert_exporter": "python",
   "pygments_lexer": "ipython3",
   "version": "3.7.9"
  }
 },
 "nbformat": 4,
 "nbformat_minor": 5
}
