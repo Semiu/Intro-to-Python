{
 "cells": [
  {
   "cell_type": "markdown",
   "id": "3ad97025",
   "metadata": {},
   "source": [
    "File IO"
   ]
  },
  {
   "cell_type": "code",
   "execution_count": 2,
   "id": "fe072b69",
   "metadata": {},
   "outputs": [
    {
     "name": "stdout",
     "output_type": "stream",
     "text": [
      "['File IO\\n', '1)\\tWrite a Python program to read a file line by line and store it into a list.\\n', '2)\\tWrite a Python program to count the frequency of words in a file. \\n', 'Note: Some words can be separated by a comma with no space. \\n', '3)\\tWrite a Python program to get the file size of a plain file.\\n', '4)\\tWrite a Python program to combine each line from first file with the corresponding line in second file.\\n', '\\n', 'Regular Expression\\n', \"1)\\t Write a Python program that matches a word containing 'z', not at the start or end of the word.\\t\\n\", '2)\\tWrite a Python program to remove the parenthesis area in a string. \\n', 'I/P: [\"example (.com)\", \"summitworks\", \"github (.com)\", \"stackoverflow (.com)\"]\\n', 'O/P:\\n', 'example\\n', 'summitworks\\n', 'github\\n', 'stackoverflow\\n', '3)\\tWrite a Python program to split a string with multiple delimiters.\\n', 'Note: A delimiter is a sequence of one or more characters used to specify the boundary between separate, independent regions in plain text or other data streams. An example of a delimiter is the comma character, which acts as a field delimiter in a sequence of comma-separated values.\\n', '4)\\t Write a Python program to find urls in a string. \\n']\n"
     ]
    }
   ],
   "source": [
    "#1 Read a file line by line into a list\n",
    "\n",
    "line_to_list = [line_by_line for line_by_line in open(\"Assignment_IO_RE.txt\").readlines()]\n",
    "\n",
    "print(line_to_list)"
   ]
  },
  {
   "cell_type": "code",
   "execution_count": 17,
   "id": "a9122e6f",
   "metadata": {},
   "outputs": [
    {
     "name": "stdout",
     "output_type": "stream",
     "text": [
      "{'File': 1, 'IO': 1, '1)Write': 1, 'a': 21, 'Python': 8, 'program': 8, 'to': 8, 'read': 1, 'file': 3, 'line': 4, 'by': 2, 'and': 1, 'store': 1, 'it': 1, 'into': 1, 'list.': 1, '2)Write': 2, 'count': 1, 'the': 8, 'frequency': 1, 'of': 6, 'words': 2, 'in': 6, 'file.': 3, '': 5, 'Note:': 2, 'Some': 1, 'can': 1, 'be': 1, 'separated': 1, 'comma': 2, 'with': 3, 'no': 1, 'space.': 1, '3)Write': 2, 'get': 1, 'size': 1, 'plain': 2, '4)Write': 1, 'combine': 1, 'each': 1, 'from': 1, 'first': 1, 'corresponding': 1, 'second': 1, 'Regular': 1, 'Expression': 1, '1)': 1, 'Write': 2, 'that': 1, 'matches': 1, 'word': 1, 'containing': 1, \"'z',\": 1, 'not': 1, 'at': 1, 'start': 1, 'or': 3, 'end': 1, 'word.': 1, 'remove': 1, 'parenthesis': 1, 'area': 1, 'string.': 2, 'I/P:': 1, '[\"example': 1, '(.com)\",': 2, '\"summitworks\",': 1, '\"github': 1, '\"stackoverflow': 1, '(.com)\"]': 1, 'O/P:': 1, 'example': 2, 'summitworks': 1, 'github': 1, 'stackoverflow': 1, 'split': 1, 'string': 1, 'multiple': 1, 'delimiters.': 1, 'A': 1, 'delimiter': 3, 'is': 2, 'sequence': 2, 'one': 1, 'more': 1, 'characters': 1, 'used': 1, 'specify': 1, 'boundary': 1, 'between': 1, 'separate,': 1, 'independent': 1, 'regions': 1, 'text': 1, 'other': 1, 'data': 1, 'streams.': 1, 'An': 1, 'character,': 1, 'which': 1, 'acts': 1, 'as': 1, 'field': 1, 'comma-separated': 1, 'values.': 1, '4)': 1, 'find': 1, 'urls': 1}\n"
     ]
    }
   ],
   "source": [
    "#2 Count the frequency of words in a file\n",
    "words = {}\n",
    "with open(\"Assignment_IO_RE.txt\") as lines_in_file:\n",
    "    for lines in lines_in_file.readlines():\n",
    "        for word in lines.split(\" \"):\n",
    "            word = word.replace('\\n','').replace('\\t','')\n",
    "            \n",
    "            words[word] = words.get(word, 0)+1\n",
    "\n",
    "print(words)"
   ]
  },
  {
   "cell_type": "code",
   "execution_count": 18,
   "id": "766159c5",
   "metadata": {},
   "outputs": [
    {
     "name": "stdout",
     "output_type": "stream",
     "text": [
      "The file size is : 1136 bytes\n"
     ]
    }
   ],
   "source": [
    "#3 Program to get file size\n",
    "\n",
    "import os\n",
    "\n",
    "file_size = os.path.getsize(\"Assignment_IO_RE.txt\")\n",
    "print(\"The file size is :\", file_size, \"bytes\")\n"
   ]
  },
  {
   "cell_type": "code",
   "execution_count": 34,
   "id": "50b758b9",
   "metadata": {},
   "outputs": [
    {
     "name": "stdout",
     "output_type": "stream",
     "text": [
      "File IOFile IO\n",
      "1)\tWrite a Python program to read a file line by line and store it into a list.1)\tWrite a Python program to read a file line by line and store it into a list.\n",
      "2)\tWrite a Python program to count the frequency of words in a file.2)\tWrite a Python program to count the frequency of words in a file.\n",
      "Note: Some words can be separated by a comma with no space.Note: Some words can be separated by a comma with no space.\n",
      "3)\tWrite a Python program to get the file size of a plain file.3)\tWrite a Python program to get the file size of a plain file.\n",
      "4)\tWrite a Python program to combine each line from first file with the corresponding line in second file.4)\tWrite a Python program to combine each line from first file with the corresponding line in second file.\n",
      "\n",
      "Regular ExpressionRegular Expression\n",
      "1)\t Write a Python program that matches a word containing 'z', not at the start or end of the word.1)\t Write a Python program that matches a word containing 'z', not at the start or end of the word.\n",
      "2)\tWrite a Python program to remove the parenthesis area in a string.2)\tWrite a Python program to remove the parenthesis area in a string.\n",
      "I/P: [\"example (.com)\", \"summitworks\", \"github (.com)\", \"stackoverflow (.com)\"]I/P: [\"example (.com)\", \"summitworks\", \"github (.com)\", \"stackoverflow (.com)\"]\n",
      "O/P:O/P:\n",
      "exampleexample\n",
      "summitworkssummitworks\n",
      "githubgithub\n",
      "stackoverflowstackoverflow\n",
      "3)\tWrite a Python program to split a string with multiple delimiters.3)\tWrite a Python program to split a string with multiple delimiters.\n",
      "Note: A delimiter is a sequence of one or more characters used to specify the boundary between separate, independent regions in plain text or other data streams. An example of a delimiter is the comma character, which acts as a field delimiter in a sequence of comma-separated values.Note: A delimiter is a sequence of one or more characters used to specify the boundary between separate, independent regions in plain text or other data streams. An example of a delimiter is the comma character, which acts as a field delimiter in a sequence of comma-separated values.\n",
      "4)\t Write a Python program to find urls in a string.4)\t Write a Python program to find urls in a string.\n"
     ]
    }
   ],
   "source": [
    "#4 Combine by line in two text files\n",
    "with open('Assignment_IO_RE.txt') as file_1, open('Assignment_IO_RE_2.txt') as file_2:\n",
    "    for line_1, line_2 in zip(file_1, file_2):\n",
    "        line_1 = line_1.strip()\n",
    "        line_2 = line_2.strip()\n",
    "        \n",
    "        print(line_1 + line_2)    "
   ]
  },
  {
   "cell_type": "markdown",
   "id": "3d774cfb",
   "metadata": {},
   "source": [
    "Regular Expression"
   ]
  },
  {
   "cell_type": "code",
   "execution_count": 36,
   "id": "c3a845c5",
   "metadata": {},
   "outputs": [],
   "source": [
    "import re"
   ]
  },
  {
   "cell_type": "code",
   "execution_count": 44,
   "id": "38f4ce63",
   "metadata": {},
   "outputs": [
    {
     "name": "stdout",
     "output_type": "stream",
     "text": [
      "Found a match!\n",
      "Not matched!\n"
     ]
    }
   ],
   "source": [
    "#1 Match a word containing 'z'\n",
    "def word_match(text):\n",
    "        pattern = '\\Bz\\B'\n",
    "        if re.search(pattern,  text):\n",
    "                return 'Found a match!'\n",
    "        else:\n",
    "                return('Not matched!')\n",
    "\n",
    "print(word_match(\"The quick brown fox jumps over the lazy dog.\"))\n",
    "print(word_match(\"Python Exercises.\"))"
   ]
  },
  {
   "cell_type": "code",
   "execution_count": 43,
   "id": "a8547944",
   "metadata": {},
   "outputs": [
    {
     "name": "stdout",
     "output_type": "stream",
     "text": [
      "example\n",
      "summitworks\n",
      "github\n",
      "stackoverflow\n"
     ]
    }
   ],
   "source": [
    "#2 Remove paretheses\n",
    "def remove_parathesis(list_para):\n",
    "    pattern = \" ?\\([^)]+\\)\"\n",
    "    for ele in list_para:\n",
    "        pare_removed = re.sub(pattern, \"\", ele)\n",
    "        print(pare_removed)\n",
    "        \n",
    "list_para = [\"example (.com)\", \"summitworks\", \"github (.com)\", \"stackoverflow (.com)\"]\n",
    "\n",
    "remove_parathesis(list_para) "
   ]
  },
  {
   "cell_type": "code",
   "execution_count": 38,
   "id": "bd0a9492",
   "metadata": {},
   "outputs": [
    {
     "name": "stdout",
     "output_type": "stream",
     "text": [
      "['Beautiful', 'is', 'better', 'than', 'ugly']\n"
     ]
    }
   ],
   "source": [
    "#3 Program to split a string to multiple delimiters\n",
    "\n",
    "def split_bydelimiters(string):\n",
    "    splited = re.split('; |, |\\*|\\n', string)\n",
    "    return splited\n",
    "\n",
    "a = 'Beautiful, is; better*than\\nugly'\n",
    "print(split_bydelimiters(a))\n"
   ]
  },
  {
   "cell_type": "code",
   "execution_count": 37,
   "id": "f9538f0c",
   "metadata": {},
   "outputs": [
    {
     "name": "stdout",
     "output_type": "stream",
     "text": [
      "['https://w3resource.com', 'http://github.com']\n"
     ]
    }
   ],
   "source": [
    "#4 Find URL in string\n",
    "def find_urls(string):\n",
    "    urls = re.findall('http[s]?://(?:[a-zA-Z]|[0-9]|[$-_@.&+]|[!*\\(\\),]|(?:%[0-9a-fA-F][0-9a-fA-F]))+', string)\n",
    "    return urls\n",
    "\n",
    "string = '<p>Contents :</p><a href=\"https://w3resource.com\">Python Examples</a><a href=\"http://github.com\">Even More Examples</a>'\n",
    "print (find_urls(string))"
   ]
  }
 ],
 "metadata": {
  "kernelspec": {
   "display_name": "Python 3 (ipykernel)",
   "language": "python",
   "name": "python3"
  },
  "language_info": {
   "codemirror_mode": {
    "name": "ipython",
    "version": 3
   },
   "file_extension": ".py",
   "mimetype": "text/x-python",
   "name": "python",
   "nbconvert_exporter": "python",
   "pygments_lexer": "ipython3",
   "version": "3.10.5"
  }
 },
 "nbformat": 4,
 "nbformat_minor": 5
}
