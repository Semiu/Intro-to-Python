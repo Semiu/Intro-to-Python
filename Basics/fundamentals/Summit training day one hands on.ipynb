{
 "cells": [
  {
   "cell_type": "code",
   "execution_count": 13,
   "id": "1ad3df9e",
   "metadata": {},
   "outputs": [
    {
     "name": "stdout",
     "output_type": "stream",
     "text": [
      "Enter a string value: ayo\n",
      "The reversed input is oya\n"
     ]
    }
   ],
   "source": [
    "#1 take user input and reverse it\n",
    "user_input = input(\"Enter a string value: \")\n",
    "print(\"The reversed input is \" + user_input[::-1])"
   ]
  },
  {
   "cell_type": "code",
   "execution_count": 6,
   "id": "e266c240",
   "metadata": {},
   "outputs": [
    {
     "name": "stdout",
     "output_type": "stream",
     "text": [
      "4 5\n"
     ]
    }
   ],
   "source": [
    "#2 Count the number of even and odd numbers\n",
    "numbers = [1,2,3,4,5,6,7,8,9]\n",
    "count_even = 0\n",
    "count_odd = 0\n",
    "for number in numbers:\n",
    "    if number%2 == 0:\n",
    "        count_even +=1\n",
    "    elif number%2 == 1:\n",
    "        count_odd +=1\n",
    "print(count_even, count_odd)"
   ]
  },
  {
   "cell_type": "code",
   "execution_count": 10,
   "id": "57b03eff",
   "metadata": {},
   "outputs": [
    {
     "name": "stdout",
     "output_type": "stream",
     "text": [
      "0\n",
      "1\n",
      "2\n",
      "4\n",
      "5\n"
     ]
    }
   ],
   "source": [
    "#3 Print all number from 0 to 6, except 3 and 6\n",
    "for num in range(0,7):\n",
    "    if num == 3 or num == 6:\n",
    "        continue\n",
    "    print (num)"
   ]
  },
  {
   "cell_type": "code",
   "execution_count": 11,
   "id": "d1c3d2e3",
   "metadata": {},
   "outputs": [
    {
     "name": "stdout",
     "output_type": "stream",
     "text": [
      "Enter an alphabet: k\n",
      "This is consonant\n"
     ]
    }
   ],
   "source": [
    "#4 Check if it is vowel or consonant\n",
    "alpha = input(\"Enter an alphabet: \")\n",
    "vowels_starts = ['a', 'e', 'i', 'o', 'u']\n",
    "if alpha not in vowels_starts:\n",
    "    print(\"This is consonant\")\n",
    "else:\n",
    "    print(\"This is vowel\")"
   ]
  },
  {
   "cell_type": "code",
   "execution_count": 12,
   "id": "1b18c510",
   "metadata": {},
   "outputs": [
    {
     "name": "stdout",
     "output_type": "stream",
     "text": [
      "[1505, 1540, 1575, 1610, 1645, 1680, 1715, 1750, 1785, 1820, 1855, 1890, 1925, 1960, 1995, 2030, 2065, 2100, 2135, 2170, 2205, 2240, 2275, 2310, 2345, 2380, 2415, 2450, 2485, 2520, 2555, 2590, 2625, 2660, 2695]\n"
     ]
    }
   ],
   "source": [
    "#Num5 bers divisible by 7 and multiples of 5 between 1500 and 2700(both included)\n",
    "numbers_of_7_and_5 = []\n",
    "for num in range (1500, 2700+1):\n",
    "    if num%7 == 0 and num%5 == 0:\n",
    "        numbers_of_7_and_5.append(num)\n",
    "print(numbers_of_7_and_5)"
   ]
  },
  {
   "cell_type": "code",
   "execution_count": null,
   "id": "e9f52781",
   "metadata": {},
   "outputs": [],
   "source": []
  },
  {
   "cell_type": "code",
   "execution_count": null,
   "id": "5f1597b7",
   "metadata": {},
   "outputs": [],
   "source": []
  },
  {
   "cell_type": "code",
   "execution_count": null,
   "id": "4dc47f84",
   "metadata": {},
   "outputs": [],
   "source": []
  },
  {
   "cell_type": "code",
   "execution_count": null,
   "id": "174048e4",
   "metadata": {},
   "outputs": [],
   "source": []
  },
  {
   "cell_type": "code",
   "execution_count": null,
   "id": "399f4681",
   "metadata": {},
   "outputs": [],
   "source": []
  },
  {
   "cell_type": "code",
   "execution_count": null,
   "id": "9939def9",
   "metadata": {},
   "outputs": [],
   "source": []
  }
 ],
 "metadata": {
  "kernelspec": {
   "display_name": "Python 3",
   "language": "python",
   "name": "python3"
  },
  "language_info": {
   "codemirror_mode": {
    "name": "ipython",
    "version": 3
   },
   "file_extension": ".py",
   "mimetype": "text/x-python",
   "name": "python",
   "nbconvert_exporter": "python",
   "pygments_lexer": "ipython3",
   "version": "3.7.9"
  }
 },
 "nbformat": 4,
 "nbformat_minor": 5
}
