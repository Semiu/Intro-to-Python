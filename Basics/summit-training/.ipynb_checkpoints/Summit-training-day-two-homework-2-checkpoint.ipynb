{
 "cells": [
  {
   "cell_type": "code",
   "execution_count": 3,
   "id": "b2cf9794",
   "metadata": {},
   "outputs": [
    {
     "name": "stdout",
     "output_type": "stream",
     "text": [
      "[6, 12, 18, 4, 12, 20, 28]\n"
     ]
    }
   ],
   "source": [
    "#1 Create third list from two given lists by picking odd-index element from first list and even index elements from second\n",
    "\n",
    "def pick_odd_even(list1, list2):\n",
    "    odd_even = []\n",
    "    for idx1, val1 in enumerate(list1):\n",
    "        if idx1 % 2 == 1:\n",
    "            odd_even.append(val1)\n",
    "    for idx2, val2 in enumerate(list2):\n",
    "        if idx2 % 2 == 0:\n",
    "            odd_even.append(val2)\n",
    "    return odd_even\n",
    "\n",
    "print(pick_odd_even([3, 6, 9, 12, 15, 18, 21], [4, 8, 12, 16, 20, 24, 28]))"
   ]
  },
  {
   "cell_type": "code",
   "execution_count": 36,
   "id": "ad20127f",
   "metadata": {},
   "outputs": [
    {
     "name": "stdout",
     "output_type": "stream",
     "text": [
      "[8, 45, 11]\n",
      "[12, 14, 23]\n",
      "[89, 45, 78]\n"
     ]
    }
   ],
   "source": [
    "#2 Given a list divisible by 3, slice to 3 equal chunks and reverse each list\n",
    "\n",
    "def slice_list(sampleList):\n",
    "   #Initialize empty list\n",
    "    chunk_list = []\n",
    "     #Check if it is divisible by 3\n",
    "    if len(sampleList) % 3 == 0:\n",
    "        \n",
    "        chunk1 = sampleList[:int(len(sampleList)/3)]\n",
    "        chunk1.reverse()\n",
    "        chunk2 = sampleList[int(len(sampleList)/3):int(len(sampleList)/3)+3]\n",
    "        chunk2.reverse()\n",
    "        chunk3 = sampleList[int(len(sampleList)/3)+3:]\n",
    "        chunk3.reverse()\n",
    "       \n",
    "        \n",
    "        chunk_list.append(chunk1)\n",
    "        chunk_list.append(chunk2)\n",
    "        chunk_list.append(chunk3)\n",
    "        \n",
    "        for chunk in chunk_list:\n",
    "            print (chunk)\n",
    "    \n",
    "    else:\n",
    "        print(\"Length of list is not divisible by 3\") \n",
    "        \n",
    "\n",
    "slice_list([11, 45, 8, 23, 14, 12, 78, 45, 89])"
   ]
  },
  {
   "cell_type": "code",
   "execution_count": 37,
   "id": "89e4dfc2",
   "metadata": {},
   "outputs": [
    {
     "name": "stdout",
     "output_type": "stream",
     "text": [
      "{11: 2, 45: 3, 8: 1, 23: 2, 89: 1}\n"
     ]
    }
   ],
   "source": [
    "#3 Given a list, count the occurence of each element and create a dictiionary to show count of each element\n",
    "\n",
    "list_ele = [11, 45, 8, 11, 23, 45, 23, 45, 89]\n",
    "\n",
    "ele_dict = {}\n",
    "\n",
    "for ele in list_ele:\n",
    "    ele_dict[ele] = ele_dict.get(ele, 0)+1\n",
    "\n",
    "print(ele_dict)"
   ]
  },
  {
   "cell_type": "code",
   "execution_count": 6,
   "id": "4a1516b3",
   "metadata": {},
   "outputs": [
    {
     "name": "stdout",
     "output_type": "stream",
     "text": [
      "{(7, 49), (2, 4), (4, 16), (8, 64), (6, 36), (3, 9), (5, 25)}\n"
     ]
    }
   ],
   "source": [
    "#4 Given two lists of equal size, create a set with elements pairing from both lists\n",
    "\n",
    "def pair_list(listOne, listTwo):\n",
    "    \n",
    "    #This creates elements pairing from both lists\n",
    "    joined_list = zip(listOne, listTwo)\n",
    "    \n",
    "    #This create the set of the paired elements created\n",
    "    joined_list_set = set(joined_list)\n",
    "    \n",
    "    return joined_list_set\n",
    "\n",
    "print(pair_list([2, 3, 4, 5, 6, 7, 8], [4, 9, 16, 25, 36, 49, 64]))"
   ]
  },
  {
   "cell_type": "code",
   "execution_count": 37,
   "id": "933e0450",
   "metadata": {},
   "outputs": [
    {
     "data": {
      "text/plain": [
       "[47, 69, 76, 97]"
      ]
     },
     "execution_count": 37,
     "metadata": {},
     "output_type": "execute_result"
    }
   ],
   "source": [
    "#5 Iterate a given list to check if element exists in a dictinary as a key's value, if not, delete it from the list\n",
    "\n",
    "def if_value_exist(the_list, the_dict):\n",
    "    dict_values = [dict_v for dict_v in the_dict.values()]\n",
    "    \n",
    "    new_list = []\n",
    " \n",
    "    for val in dict_values:\n",
    "        if val in the_list:\n",
    "            #print(value)\n",
    "            new_list.append(val)\n",
    "            \n",
    "    return new_list\n",
    "\n",
    "if_value_exist([47, 64, 69, 37, 76, 83, 95, 97], {'Jhon':47, 'Emma':69, 'Kelly':76, 'Jason':97})"
   ]
  },
  {
   "cell_type": "code",
   "execution_count": 42,
   "id": "269e11a3",
   "metadata": {},
   "outputs": [
    {
     "data": {
      "text/plain": [
       "[44, 47, 52, 53, 54]"
      ]
     },
     "execution_count": 42,
     "metadata": {},
     "output_type": "execute_result"
    }
   ],
   "source": [
    "#6 Get values of the dictionary to a list with a duplicate\n",
    "\n",
    "def add_without_duplicate(the_dict):\n",
    "    remove_duplicates = set()\n",
    "    new_list = []\n",
    "    for val in the_dict.values():\n",
    "        remove_duplicates.add(val)\n",
    "    for vall in remove_duplicates:\n",
    "        new_list.append(vall)\n",
    "    return new_list\n",
    "     \n",
    "add_without_duplicate({'jan':47, 'feb':52, 'march':47, 'April':44, 'May':52, 'June':53, 'july':54, 'Aug':44, 'Sept':54})"
   ]
  },
  {
   "cell_type": "code",
   "execution_count": 44,
   "id": "1bbcaec4",
   "metadata": {},
   "outputs": [
    {
     "name": "stdout",
     "output_type": "stream",
     "text": [
      "Tuple  (65, 99, 41, 45, 87, 94)\n",
      "Maximum  99\n",
      "Minimum  41\n"
     ]
    }
   ],
   "source": [
    "#7 Remove duplicate, create tuple and find the max and min\n",
    "sample_list = [87, 45, 41, 65, 94, 41, 99, 94]\n",
    "rem_dupli_list = set(sample_list)\n",
    "tuple_list = tuple(rem_dupli_list)\n",
    "max_ele = max(tuple_list)\n",
    "min_ele = min(tuple_list)\n",
    "\n",
    "print(\"Tuple \", tuple_list)\n",
    "print(\"Maximum \", max_ele)\n",
    "print(\"Minimum \", min_ele)"
   ]
  },
  {
   "cell_type": "code",
   "execution_count": 45,
   "id": "54522ce0",
   "metadata": {},
   "outputs": [
    {
     "data": {
      "text/plain": [
       "['fizz', 22, 14, 'buzz', 97, 'fizz']"
      ]
     },
     "execution_count": 45,
     "metadata": {},
     "output_type": "execute_result"
    }
   ],
   "source": [
    "#8 Replace divisible by 3 with \"fizz\", divisble by 5 with \"buzz\", and divisible by 5 and 3 with \"fizzbuzz\"\n",
    "\n",
    "def replace_it(the_list):\n",
    "    for idx, val in enumerate(the_list):\n",
    "        if val % 3 == 0:\n",
    "            the_list[idx] = \"fizz\"\n",
    "        elif val % 5 == 0:\n",
    "            the_list[idx] = \"buzz\"\n",
    "        elif val % 3 == 0 and val % 5 == 0:\n",
    "            the_list[idx] = \"fizzbuzz\"\n",
    "    return the_list\n",
    "    \n",
    "replace_it([45, 22, 14, 65, 97, 72])"
   ]
  },
  {
   "cell_type": "code",
   "execution_count": 46,
   "id": "6173834c",
   "metadata": {},
   "outputs": [
    {
     "name": "stdout",
     "output_type": "stream",
     "text": [
      "[{'type': 'elephant', 'name': 'Devon', 'age': 3}, {'type': 'puma', 'name': 'Moe', 'age': 5}, {'type': 'penguin', 'name': 'Stephanie', 'age': 8}]\n"
     ]
    }
   ],
   "source": [
    "#9 Sort list of dictionary by a value of the dictionary\n",
    "\n",
    "list_to_be_sorted = [ {'type': 'penguin', 'name': 'Stephanie', 'age': 8},{'type': 'elephant', 'name': 'Devon', 'age': 3},\n",
    "                     {'type': 'puma', 'name': 'Moe', 'age': 5} ]\n",
    "\n",
    "#sort by age\n",
    "new_list_of_dict = sorted(list_to_be_sorted, key=lambda d: d['age']) \n",
    "\n",
    "print(new_list_of_dict)"
   ]
  },
  {
   "cell_type": "code",
   "execution_count": 49,
   "id": "ac5e4481",
   "metadata": {},
   "outputs": [
    {
     "data": {
      "text/plain": [
       "{'all', 'in', 'the', 'words', 'world'}"
      ]
     },
     "execution_count": 49,
     "metadata": {},
     "output_type": "execute_result"
    }
   ],
   "source": [
    "#9 Having been given get_random_word that returns a random word from the \"all words\" given\n",
    "\n",
    "import random\n",
    "\n",
    "all_words = \"all the words in the world\".split()\n",
    "\n",
    "def get_random_word():\n",
    "    return random.choice(all_words)\n",
    "\n",
    "def get_unique_words():\n",
    "    \n",
    "    unique_words = set()\n",
    "    \n",
    "    i = 0\n",
    "    while i < 1000:\n",
    "        random_word = get_random_word()\n",
    "        unique_words.add(random_word)\n",
    "        i += 1\n",
    "    return unique_words\n",
    "\n",
    "get_unique_words()"
   ]
  },
  {
   "cell_type": "code",
   "execution_count": null,
   "id": "f1ced155",
   "metadata": {},
   "outputs": [],
   "source": [
    "#10"
   ]
  },
  {
   "cell_type": "code",
   "execution_count": null,
   "id": "205f67d1",
   "metadata": {},
   "outputs": [],
   "source": [
    "#11"
   ]
  },
  {
   "cell_type": "code",
   "execution_count": null,
   "id": "335dd1da",
   "metadata": {},
   "outputs": [],
   "source": [
    "#12 and 13 were already solved in Summit-training-day-two-homework-1"
   ]
  }
 ],
 "metadata": {
  "kernelspec": {
   "display_name": "Python 3 (ipykernel)",
   "language": "python",
   "name": "python3"
  },
  "language_info": {
   "codemirror_mode": {
    "name": "ipython",
    "version": 3
   },
   "file_extension": ".py",
   "mimetype": "text/x-python",
   "name": "python",
   "nbconvert_exporter": "python",
   "pygments_lexer": "ipython3",
   "version": "3.10.5"
  }
 },
 "nbformat": 4,
 "nbformat_minor": 5
}
