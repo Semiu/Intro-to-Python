{
 "cells": [
  {
   "cell_type": "code",
   "execution_count": 3,
   "id": "b2cf9794",
   "metadata": {},
   "outputs": [
    {
     "name": "stdout",
     "output_type": "stream",
     "text": [
      "[6, 12, 18, 4, 12, 20, 28]\n"
     ]
    }
   ],
   "source": [
    "#1 Create third list from two given lists by picking odd-index element from first list and even index elements from second\n",
    "\n",
    "def pick_odd_even(list1, list2):\n",
    "    odd_even = []\n",
    "    for idx1, val1 in enumerate(list1):\n",
    "        if idx1 % 2 == 1:\n",
    "            odd_even.append(val1)\n",
    "    for idx2, val2 in enumerate(list2):\n",
    "        if idx2 % 2 == 0:\n",
    "            odd_even.append(val2)\n",
    "    return odd_even\n",
    "\n",
    "print(pick_odd_even([3, 6, 9, 12, 15, 18, 21], [4, 8, 12, 16, 20, 24, 28]))"
   ]
  },
  {
   "cell_type": "code",
   "execution_count": 36,
   "id": "ad20127f",
   "metadata": {},
   "outputs": [
    {
     "name": "stdout",
     "output_type": "stream",
     "text": [
      "[8, 45, 11]\n",
      "[12, 14, 23]\n",
      "[89, 45, 78]\n"
     ]
    }
   ],
   "source": [
    "#2 Given a list divisible by 3, slice to 3 equal chunks and reverse each list\n",
    "\n",
    "def slice_list(sampleList):\n",
    "    #Check if it is divisible by 3\n",
    "    chunk_list = []\n",
    "    \n",
    "    if len(sampleList) % 3 == 0:\n",
    "        \n",
    "        chunk1 = sampleList[:int(len(sampleList)/3)]\n",
    "        chunk1.reverse()\n",
    "        chunk2 = sampleList[int(len(sampleList)/3):int(len(sampleList)/3)+3]\n",
    "        chunk2.reverse()\n",
    "        chunk3 = sampleList[int(len(sampleList)/3)+3:]\n",
    "        chunk3.reverse()\n",
    "       \n",
    "        \n",
    "        chunk_list.append(chunk1)\n",
    "        chunk_list.append(chunk2)\n",
    "        chunk_list.append(chunk3)\n",
    "        \n",
    "        for chunk in chunk_list:\n",
    "            print (chunk)\n",
    "    \n",
    "    else:\n",
    "        print(\"Length of list is not divisible by 3\") \n",
    "        \n",
    "\n",
    "slice_list([11, 45, 8, 23, 14, 12, 78, 45, 89])"
   ]
  },
  {
   "cell_type": "code",
   "execution_count": 37,
   "id": "89e4dfc2",
   "metadata": {},
   "outputs": [
    {
     "name": "stdout",
     "output_type": "stream",
     "text": [
      "{11: 2, 45: 3, 8: 1, 23: 2, 89: 1}\n"
     ]
    }
   ],
   "source": [
    "#3 Given a list, count the occurence of each element and create a dictiionary to show count of each element\n",
    "\n",
    "list_ele = [11, 45, 8, 11, 23, 45, 23, 45, 89]\n",
    "\n",
    "ele_dict = {}\n",
    "\n",
    "for ele in list_ele:\n",
    "    ele_dict[ele] = ele_dict.get(ele, 0)+1\n",
    "\n",
    "print(ele_dict)"
   ]
  },
  {
   "cell_type": "code",
   "execution_count": null,
   "id": "4a1516b3",
   "metadata": {},
   "outputs": [],
   "source": [
    "#4 Given two lists of equal size, create a set with elements pairing from both lists\n"
   ]
  },
  {
   "cell_type": "code",
   "execution_count": null,
   "id": "933e0450",
   "metadata": {},
   "outputs": [],
   "source": [
    "#5 Iterate a given list to check if element exists in a dictinary as a key's value, if not delete it from the list"
   ]
  },
  {
   "cell_type": "code",
   "execution_count": null,
   "id": "269e11a3",
   "metadata": {},
   "outputs": [],
   "source": [
    "#6"
   ]
  },
  {
   "cell_type": "code",
   "execution_count": null,
   "id": "1bbcaec4",
   "metadata": {},
   "outputs": [],
   "source": [
    "#7"
   ]
  },
  {
   "cell_type": "code",
   "execution_count": null,
   "id": "54522ce0",
   "metadata": {},
   "outputs": [],
   "source": [
    "#8"
   ]
  },
  {
   "cell_type": "code",
   "execution_count": null,
   "id": "6173834c",
   "metadata": {},
   "outputs": [],
   "source": [
    "#9"
   ]
  },
  {
   "cell_type": "code",
   "execution_count": null,
   "id": "ac5e4481",
   "metadata": {},
   "outputs": [],
   "source": [
    "#9"
   ]
  },
  {
   "cell_type": "code",
   "execution_count": null,
   "id": "f1ced155",
   "metadata": {},
   "outputs": [],
   "source": [
    "#10"
   ]
  },
  {
   "cell_type": "code",
   "execution_count": null,
   "id": "205f67d1",
   "metadata": {},
   "outputs": [],
   "source": [
    "#11"
   ]
  },
  {
   "cell_type": "code",
   "execution_count": null,
   "id": "335dd1da",
   "metadata": {},
   "outputs": [],
   "source": [
    "#12 and 13 were already solved in Summit-training-day-two-homework-1"
   ]
  }
 ],
 "metadata": {
  "kernelspec": {
   "display_name": "Python 3 (ipykernel)",
   "language": "python",
   "name": "python3"
  },
  "language_info": {
   "codemirror_mode": {
    "name": "ipython",
    "version": 3
   },
   "file_extension": ".py",
   "mimetype": "text/x-python",
   "name": "python",
   "nbconvert_exporter": "python",
   "pygments_lexer": "ipython3",
   "version": "3.10.5"
  }
 },
 "nbformat": 4,
 "nbformat_minor": 5
}
