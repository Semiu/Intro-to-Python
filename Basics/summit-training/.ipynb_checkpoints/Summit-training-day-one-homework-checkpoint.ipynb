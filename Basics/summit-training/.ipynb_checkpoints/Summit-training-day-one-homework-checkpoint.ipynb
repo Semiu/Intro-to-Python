{
 "cells": [
  {
   "cell_type": "code",
   "execution_count": 4,
   "id": "7019f0b2",
   "metadata": {
    "collapsed": true
   },
   "outputs": [],
   "source": [
    "#2 Floor and Ceil functions\n",
    "def floor (a,b): #where a > b\n",
    "    print (a//b)\n",
    "\n",
    "def ceil (a,b): #a > b\n",
    "    print (-(-a//b))"
   ]
  },
  {
   "cell_type": "code",
   "execution_count": 5,
   "id": "5ab8bc6e",
   "metadata": {},
   "outputs": [
    {
     "name": "stdout",
     "output_type": "stream",
     "text": [
      "1\n"
     ]
    }
   ],
   "source": [
    "floor (3,2)"
   ]
  },
  {
   "cell_type": "code",
   "execution_count": 6,
   "id": "79b2099f",
   "metadata": {},
   "outputs": [
    {
     "name": "stdout",
     "output_type": "stream",
     "text": [
      "2\n"
     ]
    }
   ],
   "source": [
    "ceil(3,2)"
   ]
  },
  {
   "cell_type": "code",
   "execution_count": 17,
   "id": "4354c8bf",
   "metadata": {},
   "outputs": [
    {
     "data": {
      "text/plain": [
       "'21'"
      ]
     },
     "execution_count": 17,
     "metadata": {},
     "output_type": "execute_result"
    }
   ],
   "source": [
    "# 3 Swap two integers\n",
    "j,k = 1,2\n",
    "j = str(j) + str(k)\n",
    "\n",
    "j[len(str(k))] + j[0:len(str(j)) - len(str(k))]"
   ]
  },
  {
   "cell_type": "code",
   "execution_count": 22,
   "id": "92c15456",
   "metadata": {},
   "outputs": [
    {
     "name": "stdout",
     "output_type": "stream",
     "text": [
      "Enter your name: John Cheese\n",
      "You are awesome!\n"
     ]
    }
   ],
   "source": [
    "#4 Using Ternary operator\n",
    "your_name = input (\"Enter your name: \")\n",
    "print(\"That is a nice name\" if your_name == \"Semiu\" else \"You are awesome!\" if your_name == \"John Cheese\" \n",
    "      or your_name == \"Michael Palin\" else \"You have a nice name.\")"
   ]
  },
  {
   "cell_type": "code",
   "execution_count": 5,
   "id": "8b97bfbe",
   "metadata": {},
   "outputs": [
    {
     "name": "stdout",
     "output_type": "stream",
     "text": [
      "+---------------------+----------------------+------------------------+\n",
      "| Original Price in $ | Discount amount in $ | Discounted Prices in $ |\n",
      "+---------------------+----------------------+------------------------+\n",
      "|         4.95        |         2.97         |          1.98          |\n",
      "|         9.95        |         5.97         |          3.98          |\n",
      "|        14.95        |         8.97         |          5.98          |\n",
      "|        19.95        |        11.97         |          7.98          |\n",
      "|        24.95        |        14.97         |          9.98          |\n",
      "+---------------------+----------------------+------------------------+\n"
     ]
    }
   ],
   "source": [
    "#5 Discount table\n",
    "from prettytable import PrettyTable\n",
    "\n",
    "discount = 0.6 #60%\n",
    "\n",
    "original_price_list = [4.95, 9.95, 14.95, 19.95, 24.95]\n",
    "\n",
    "def discount_amt (original_price):\n",
    "    return original_price * discount\n",
    "\n",
    "def discounted_price (original_price):\n",
    "    return original_price - (original_price * discount)\n",
    "    \n",
    "# Specify the Column Names while initializing the Table\n",
    "price_table = PrettyTable([\"Original Price in $\", \"Discount amount in $\", \"Discounted Prices in $\"])\n",
    "\n",
    "for original_price in original_price_list:\n",
    "    price_table.add_row([original_price, round(discount_amt(original_price),2), round(discounted_price (original_price),2)])\n",
    "    \n",
    "print(price_table)"
   ]
  },
  {
   "cell_type": "code",
   "execution_count": 1,
   "id": "4ff53eb2",
   "metadata": {},
   "outputs": [],
   "source": [
    "#6 Table to show number pattern"
   ]
  },
  {
   "cell_type": "code",
   "execution_count": 33,
   "id": "8cac4d43",
   "metadata": {},
   "outputs": [
    {
     "name": "stdout",
     "output_type": "stream",
     "text": [
      "Enter the three-digit lucky number: 778\n",
      "['7', '7', '8'] ['8', '1', '4'] 814\n",
      "You won $1,000\n"
     ]
    }
   ],
   "source": [
    "#7 Game Lottery\n",
    "import random as rand\n",
    "\n",
    "#The number would always be three digits due to the interval provided\n",
    "lottery_num = str(rand.randint(100, 999))\n",
    "splited_lottery_num = list(lottery_num)\n",
    "\n",
    "gambler_input = input(\"Enter the three-digit lucky number: \")\n",
    "splited_gambler_input = list(gambler_input)\n",
    "\n",
    "if gambler_input == lottery_num:\n",
    "    print(\"You won $10,000\")\n",
    "\n",
    "elif splited_lottery_num == splited_gambler_input:\n",
    "    print (\"You won $3,000\")\n",
    "for num in splited_lottery_num:\n",
    "    if num in splited_gambler_input:\n",
    "        print(\"You won $1,000\")"
   ]
  },
  {
   "cell_type": "code",
   "execution_count": 47,
   "id": "8bf2a49c",
   "metadata": {},
   "outputs": [
    {
     "name": "stdout",
     "output_type": "stream",
     "text": [
      "Enter an integer: 1\n",
      "Enter an integer: 5\n",
      "Enter an integer: 8\n",
      "Enter an integer: 6\n",
      "Enter an integer: 5\n",
      "Enter an integer: 5\n",
      "Enter an integer: 5\n",
      "Enter an integer: 0\n",
      "The most occured number is:  5\n"
     ]
    }
   ],
   "source": [
    "# 8 Occurence of max number\n",
    "\n",
    "#List to take the input\n",
    "num_list = []\n",
    "#initialize the loop termination\n",
    "i = 2\n",
    "#0 will terminate because it \n",
    "while i > 1 or i == 1:\n",
    "    user_input = int(input(\"Enter an integer: \"))\n",
    "    num_list.append(user_input)\n",
    "    i = user_input\n",
    "\n",
    "print(\"The most occured number is: \", max(set(num_list), key = num_list.count)     \n",
    "                                             )"
   ]
  },
  {
   "cell_type": "code",
   "execution_count": 2,
   "id": "43884859",
   "metadata": {},
   "outputs": [
    {
     "name": "stdout",
     "output_type": "stream",
     "text": [
      "    * \r\n",
      "   * * \r\n",
      "  * * * \r\n",
      " * * * * \r\n",
      "* * * * * \r\n"
     ]
    }
   ],
   "source": [
    "#9 Star pattern\n",
    "def star_pattern(n):\n",
    "    \n",
    "    #number of spaces\n",
    "    k = n - 1\n",
    "    \n",
    "    # outer loop to handle number of rows\n",
    "    for i in range(0, n):\n",
    "        \n",
    "        # inner loop to handle number spaces\n",
    "        for j in range(0, k):\n",
    "            print(end=\" \")\n",
    "        \n",
    "        # decrementing k after each loop\n",
    "        k = k - 1\n",
    "        \n",
    "        # inner loop to handle number of columns values changing acc. to outer loop\n",
    "        for j in range(0, i+1):\n",
    "            \n",
    "            # printing stars\n",
    "            print(\"* \", end=\"\")\n",
    "            \n",
    "            # ending line after each row\n",
    "        print(\"\\r\")\n",
    "\n",
    "# Call the function\n",
    "n = 5\n",
    "star_pattern(n)"
   ]
  },
  {
   "cell_type": "code",
   "execution_count": 3,
   "id": "63e31ab0",
   "metadata": {},
   "outputs": [
    {
     "name": "stdout",
     "output_type": "stream",
     "text": [
      "1 1 1 1 1 1 \r\n",
      "2 2 2 2 2 \r\n",
      "3 3 3 3 \r\n",
      "4 4 4 \r\n",
      "5 5 \r\n",
      "6 \r\n",
      "\r\n"
     ]
    }
   ],
   "source": [
    "#10 Number pattern - still working on it\n",
    "\n",
    "def number_pattern(n):\n",
    "    for i in range(1,n+1):\n",
    "        for j in range (n - i):\n",
    "            print(i, end=\" \")\n",
    "        print(\"\\r\")\n",
    "\n",
    "# Call the function\n",
    "n = 7\n",
    "number_pattern(n)"
   ]
  },
  {
   "cell_type": "code",
   "execution_count": 73,
   "id": "621e406b",
   "metadata": {},
   "outputs": [
    {
     "name": "stdout",
     "output_type": "stream",
     "text": [
      "Enter a telephone number in the format of 1-800-Flowers: 1-500-Florine\n",
      "1-500-3567463\n"
     ]
    }
   ],
   "source": [
    "#11 Telephone number mapping\n",
    "#user input is asked, it is alphamueric, in this format 1-800-flowers \n",
    "#Assume that this format must always be the input\n",
    "\n",
    "#Dictionary to map the keys with the values\n",
    "number_mapping = {1: ['A'], 2:['B', 'C'] , 3: ['D', 'E', 'F'], 4: ['G', 'H', 'I'], 5: ['J', 'K', 'L'] , 6: ['M', 'N', 'O'], \n",
    "                  7: ['P', 'Q', 'R', 'S'], 8: ['T', 'U', 'V'], 9: ['W', 'X', 'Y', 'Z']}\n",
    "\n",
    "#Get the user's input\n",
    "user_input = input(\"Enter a telephone number in the format of 1-800-Flowers: \")\n",
    "\n",
    "#Turn it upper case, and split it by the -. This gives a list of three elements\n",
    "user_input_refined = [ch for ch in user_input.upper().split('-')]\n",
    "\n",
    "#Get the third element to be decoded\n",
    "alpha_ch = list(user_input_refined[2])\n",
    "\n",
    "#Decode program\n",
    "decoded_alphabets = []\n",
    "for ch in alpha_ch:\n",
    "    for idx, (key, value) in enumerate(number_mapping.items()):\n",
    "        if ch in value:\n",
    "            decoded_alphabets.append(str(key))\n",
    "            \n",
    "#Decoded alphas to numbers are joined\n",
    "to_replace = \"\".join(decoded_alphabets)\n",
    "#Then replace the third element decoded earlier\n",
    "user_input_refined[2] = to_replace\n",
    "\n",
    "#All these elements are then joined back with the -\n",
    "decoded_number = '-'.join(user_input_refined)\n",
    "print(decoded_number)"
   ]
  },
  {
   "cell_type": "code",
   "execution_count": null,
   "id": "838023b0",
   "metadata": {},
   "outputs": [],
   "source": []
  }
 ],
 "metadata": {
  "kernelspec": {
   "display_name": "Python 3 (ipykernel)",
   "language": "python",
   "name": "python3"
  },
  "language_info": {
   "codemirror_mode": {
    "name": "ipython",
    "version": 3
   },
   "file_extension": ".py",
   "mimetype": "text/x-python",
   "name": "python",
   "nbconvert_exporter": "python",
   "pygments_lexer": "ipython3",
   "version": "3.10.5"
  }
 },
 "nbformat": 4,
 "nbformat_minor": 5
}
