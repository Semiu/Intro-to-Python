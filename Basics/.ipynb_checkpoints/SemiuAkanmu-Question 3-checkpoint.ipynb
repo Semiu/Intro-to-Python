{
 "cells": [
  {
   "cell_type": "code",
   "execution_count": null,
   "id": "7583480d",
   "metadata": {},
   "outputs": [],
   "source": [
    "request = (x,y)\n",
    "#x = first day, y = last day\n",
    "\n",
    "#Maximize the request to be served by prioritizing based on the minimum days of rent"
   ]
  },
  {
   "cell_type": "code",
   "execution_count": null,
   "id": "1e982d73",
   "metadata": {},
   "outputs": [],
   "source": [
    "# Information - input\n",
    "\n",
    "num_of_requests = 10 #total requests \n",
    "\n",
    "start_dates = [1, 10, 5, 12, 13, 14, 30, 20, 17, 19] #The start date signifed by the requests\n",
    "end_dates = [23, 12, 10, 29, 25, 66, 35, 33, 100, 65]"
   ]
  },
  {
   "cell_type": "code",
   "execution_count": null,
   "id": "f3c2024f",
   "metadata": {},
   "outputs": [],
   "source": [
    "#Find the length of the rent (in days): end_date - start_date\n",
    "\n",
    "#Initialoi\n",
    "length_of_rent = []\n",
    "\n",
    "#Calculate the length of the rent\n",
    "for s_date in start_dates:\n",
    "    for e_date in end_dates:\n",
    "        rent = e_date - s_date\n",
    "        length_of_rent.append(rent)\n",
    "        \n",
    "#Sort by the lenght of rent\n",
    "\n",
    "\n",
    "#Serve the best ones, least lenghts\n",
    "        "
   ]
  },
  {
   "cell_type": "code",
   "execution_count": null,
   "id": "0241a1bd",
   "metadata": {},
   "outputs": [],
   "source": []
  },
  {
   "cell_type": "code",
   "execution_count": null,
   "id": "4fe59f41",
   "metadata": {},
   "outputs": [],
   "source": []
  },
  {
   "cell_type": "code",
   "execution_count": null,
   "id": "60faf16b",
   "metadata": {},
   "outputs": [],
   "source": []
  },
  {
   "cell_type": "markdown",
   "id": "7103f3da",
   "metadata": {},
   "source": [
    "I am assuming we have a list of "
   ]
  },
  {
   "cell_type": "code",
   "execution_count": 9,
   "id": "844cf5ea",
   "metadata": {},
   "outputs": [
    {
     "name": "stdout",
     "output_type": "stream",
     "text": [
      "Enter the number of requests 9\n"
     ]
    }
   ],
   "source": [
    "import random\n",
    "\n",
    "the_number_of_requests = int(input(\"Enter the number of requests \"))\n",
    "\n",
    "start_date_list = []\n",
    "end_date_list = []\n",
    "\n",
    "perm = 0\n",
    "\n",
    "while perm < the_number_of_requests:\n",
    "    \n",
    "    start_date = random.randint(1,365)\n",
    "    start_date_list.append(start_date)\n",
    "    \n",
    "    end_date = random.randint(1,365)\n",
    "    end_date_list.append(end_date)\n",
    "    \n",
    "    perm += 1\n",
    "\n",
    "start_date_list.sort()\n",
    "end_date_list.sort()\n",
    "\n",
    "combination = list(zip(start_date_list, end_date_list))"
   ]
  },
  {
   "cell_type": "code",
   "execution_count": 10,
   "id": "c7b570ef",
   "metadata": {},
   "outputs": [
    {
     "name": "stdout",
     "output_type": "stream",
     "text": [
      "[(64, 82), (71, 99), (107, 150), (118, 220), (154, 228), (272, 254), (275, 288), (340, 311), (358, 320)]\n"
     ]
    }
   ],
   "source": [
    "print(combination)"
   ]
  }
 ],
 "metadata": {
  "kernelspec": {
   "display_name": "Python 3 (ipykernel)",
   "language": "python",
   "name": "python3"
  },
  "language_info": {
   "codemirror_mode": {
    "name": "ipython",
    "version": 3
   },
   "file_extension": ".py",
   "mimetype": "text/x-python",
   "name": "python",
   "nbconvert_exporter": "python",
   "pygments_lexer": "ipython3",
   "version": "3.10.5"
  }
 },
 "nbformat": 4,
 "nbformat_minor": 5
}
