{
 "cells": [
  {
   "cell_type": "markdown",
   "id": "96a699e6",
   "metadata": {},
   "source": [
    "Continous Optimization Problem - The Himmelblau Function"
   ]
  },
  {
   "cell_type": "markdown",
   "id": "d0c9a611",
   "metadata": {},
   "source": [
    "The Himmelblau Function\n",
    "\n",
    "$z=(x^2 + y - 11)^2 + (x + y^2 - 7)^2$\n",
    "\n",
    "where $x$ and $y$ lie between $-6$ and $6$\n",
    "\n",
    "Minimized $z = 0.0000$\n",
    "\n",
    "Completely random, but the optimization problem is minimizing this function. Since it is a minimization problem, the question set to be answered is: \n",
    "\n",
    "what is the values of x and y to give the minimized value of z, which is 0.0000?|"
   ]
  },
  {
   "cell_type": "code",
   "execution_count": null,
   "id": "9d6167ee",
   "metadata": {},
   "outputs": [],
   "source": [
    "import numpy as np"
   ]
  },
  {
   "cell_type": "code",
   "execution_count": null,
   "id": "4c3bc78f",
   "metadata": {},
   "outputs": [],
   "source": []
  },
  {
   "cell_type": "code",
   "execution_count": null,
   "id": "e9fea9b6",
   "metadata": {},
   "outputs": [],
   "source": [
    "chromosome_test = np.array([1,1,0,1, #y variable\n",
    "                           0,1,1,0]) #x variable \n",
    "\n",
    "# decoding for x = "
   ]
  },
  {
   "cell_type": "code",
   "execution_count": null,
   "id": "cc330602",
   "metadata": {},
   "outputs": [],
   "source": []
  },
  {
   "cell_type": "code",
   "execution_count": null,
   "id": "7c6aaf44",
   "metadata": {},
   "outputs": [],
   "source": []
  },
  {
   "cell_type": "code",
   "execution_count": null,
   "id": "edd4ac9d",
   "metadata": {},
   "outputs": [],
   "source": []
  },
  {
   "cell_type": "code",
   "execution_count": null,
   "id": "1c739072",
   "metadata": {},
   "outputs": [],
   "source": []
  },
  {
   "cell_type": "code",
   "execution_count": null,
   "id": "6c220894",
   "metadata": {},
   "outputs": [],
   "source": []
  },
  {
   "cell_type": "code",
   "execution_count": null,
   "id": "d1b90752",
   "metadata": {},
   "outputs": [],
   "source": []
  },
  {
   "cell_type": "code",
   "execution_count": null,
   "id": "3a4d943b",
   "metadata": {},
   "outputs": [],
   "source": []
  },
  {
   "cell_type": "code",
   "execution_count": null,
   "id": "05b0c78f",
   "metadata": {},
   "outputs": [],
   "source": []
  },
  {
   "cell_type": "code",
   "execution_count": null,
   "id": "c8833acb",
   "metadata": {},
   "outputs": [],
   "source": []
  },
  {
   "cell_type": "code",
   "execution_count": null,
   "id": "e21f76e4",
   "metadata": {},
   "outputs": [],
   "source": []
  }
 ],
 "metadata": {
  "kernelspec": {
   "display_name": "Python 3",
   "language": "python",
   "name": "python3"
  },
  "language_info": {
   "codemirror_mode": {
    "name": "ipython",
    "version": 3
   },
   "file_extension": ".py",
   "mimetype": "text/x-python",
   "name": "python",
   "nbconvert_exporter": "python",
   "pygments_lexer": "ipython3",
   "version": "3.7.9"
  }
 },
 "nbformat": 4,
 "nbformat_minor": 5
}
