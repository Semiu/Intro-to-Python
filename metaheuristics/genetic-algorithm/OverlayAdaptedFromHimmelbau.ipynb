{
 "cells": [
  {
   "cell_type": "code",
   "execution_count": null,
   "id": "5045a92b",
   "metadata": {},
   "outputs": [],
   "source": [
    "import numpy as np"
   ]
  },
  {
   "cell_type": "code",
   "execution_count": null,
   "id": "2e777f53",
   "metadata": {},
   "outputs": [],
   "source": [
    "# calculate fitness value for the chromosome of 0s and 1s\n",
    "def objective_value(chromosome):  \n",
    "    \n",
    "    lb_x = -6 # lower bound for chromosome x\n",
    "    ub_x = 6 # upper bound for chromosome x\n",
    "    len_x = (len(chromosome)//2) # length of chromosome x\n",
    "    lb_y = -6 # lower bound for chromosome y\n",
    "    ub_y = 6 # upper bound for chromosome y\n",
    "    len_y = (len(chromosome)//2) # length of chromosome y\n",
    "    \n",
    "    precision_x = (ub_x-lb_x)/((2**len_x)-1) # precision for decoding x\n",
    "    precision_y = (ub_y-lb_y)/((2**len_y)-1) # precision for decoding y\n",
    "    \n",
    "    z = 0 # because we start at 2^0, in the formula\n",
    "    t = 1 # because we start at the very last element of the vector [index -1]\n",
    "    x_bit_sum = 0 # initiation (sum(bit)*2^i is 0 at first)\n",
    "    for i in range(len(chromosome)//2):\n",
    "        x_bit = chromosome[-t]*(2**z)\n",
    "        x_bit_sum = x_bit_sum + x_bit\n",
    "        t = t+1\n",
    "        z = z+1   \n",
    "    \n",
    "    z = 0 # because we start at 2^0, in the formula\n",
    "    t = 1 + (len(chromosome)//2) # [6,8,3,9] (first 2 are y, so index will be 1+2 = -3)\n",
    "    y_bit_sum = 0 # initiation (sum(bit)*2^i is 0 at first)\n",
    "    for j in range(len(chromosome)//2):\n",
    "        y_bit = chromosome[-t]*(2**z)\n",
    "        y_bit_sum = y_bit_sum + y_bit\n",
    "        t = t+1\n",
    "        z = z+1\n",
    "    \n",
    "    # the formulas to decode the chromosome of 0s and 1s to an actual number, the value of x or y\n",
    "    decoded_x = (x_bit_sum*precision_x)+lb_x\n",
    "    decoded_y = (y_bit_sum*precision_y)+lb_y\n",
    "    \n",
    "    # the himmelblau function\n",
    "    # min ((x**2)+y-11)**2+(x+(y**2)-7)**2\n",
    "    # objective function value for the decoded x and decoded y\n",
    "    obj_function_value = ((decoded_x**2)+decoded_y-11)**2+(decoded_x+(decoded_y**2)-7)**2\n",
    "    \n",
    "    return decoded_x,decoded_y,obj_function_value # the defined function will return 3 values\n"
   ]
  },
  {
   "cell_type": "code",
   "execution_count": null,
   "id": "b6d558bd",
   "metadata": {},
   "outputs": [],
   "source": [
    "# finding 2 parents from the pool of solutions\n",
    "# using the tournament selection method \n",
    "def find_parents_ts(all_solutions):\n",
    "    \n",
    "    # make an empty array to place the selected parents\n",
    "    parents = np.empty((0,np.size(all_solutions,1)))\n",
    "    \n",
    "    for i in range(2): # do the process twice to get 2 parents\n",
    "        \n",
    "        # select 3 random parents from the pool of solutions you have\n",
    "        \n",
    "        # get 3 random integers\n",
    "        indices_list = np.random.choice(len(all_solutions),3,replace=False)\n",
    "        \n",
    "        # get the 3 possible parents for selection\n",
    "        posb_parent_1 = all_solutions[indices_list[0]]\n",
    "        posb_parent_2 = all_solutions[indices_list[1]]\n",
    "        posb_parent_3 = all_solutions[indices_list[2]]\n",
    "        \n",
    "        # get objective function value (fitness) for each possible parent\n",
    "        # index no.2 because the objective_value function gives the fitness value at index no.2\n",
    "        obj_func_parent_1 = objective_value(posb_parent_1)[2] # possible parent 1\n",
    "        obj_func_parent_2 = objective_value(posb_parent_2)[2] # possible parent 2\n",
    "        obj_func_parent_3 = objective_value(posb_parent_3)[2] # possible parent 3\n",
    "        \n",
    "        # find which parent is the best\n",
    "        min_obj_func = min(obj_func_parent_1,obj_func_parent_2,obj_func_parent_3)\n",
    "        \n",
    "        if min_obj_func == obj_func_parent_1:\n",
    "            selected_parent = posb_parent_1\n",
    "        elif min_obj_func == obj_func_parent_2:\n",
    "            selected_parent = posb_parent_2\n",
    "        else:\n",
    "            selected_parent = posb_parent_3\n",
    "        \n",
    "        # put the selected parent in the empty array we created above\n",
    "        parents = np.vstack((parents,selected_parent))\n",
    "        \n",
    "    parent_1 = parents[0,:] # parent_1, first element in the array\n",
    "    parent_2 = parents[1,:] # parent_2, second element in the array\n",
    "    \n",
    "    return parent_1,parent_2 # the defined function will return 2 arrays"
   ]
  },
  {
   "cell_type": "code",
   "execution_count": null,
   "id": "f74cc7d8",
   "metadata": {},
   "outputs": [],
   "source": []
  },
  {
   "cell_type": "code",
   "execution_count": null,
   "id": "f6b20c46",
   "metadata": {},
   "outputs": [],
   "source": []
  },
  {
   "cell_type": "code",
   "execution_count": null,
   "id": "8215337e",
   "metadata": {},
   "outputs": [],
   "source": []
  },
  {
   "cell_type": "code",
   "execution_count": null,
   "id": "1b5aaeb6",
   "metadata": {},
   "outputs": [],
   "source": []
  },
  {
   "cell_type": "code",
   "execution_count": null,
   "id": "1df6b8c3",
   "metadata": {},
   "outputs": [],
   "source": []
  },
  {
   "cell_type": "code",
   "execution_count": null,
   "id": "141c83c4",
   "metadata": {},
   "outputs": [],
   "source": []
  },
  {
   "cell_type": "code",
   "execution_count": null,
   "id": "5f964b85",
   "metadata": {},
   "outputs": [],
   "source": []
  },
  {
   "cell_type": "code",
   "execution_count": null,
   "id": "f9109acb",
   "metadata": {},
   "outputs": [],
   "source": []
  },
  {
   "cell_type": "code",
   "execution_count": null,
   "id": "7b970d22",
   "metadata": {},
   "outputs": [],
   "source": []
  },
  {
   "cell_type": "code",
   "execution_count": null,
   "id": "8c6fcedf",
   "metadata": {},
   "outputs": [],
   "source": []
  },
  {
   "cell_type": "code",
   "execution_count": null,
   "id": "36b271ab",
   "metadata": {},
   "outputs": [],
   "source": []
  },
  {
   "cell_type": "code",
   "execution_count": 29,
   "id": "3a1072c3",
   "metadata": {},
   "outputs": [],
   "source": [
    "#Libraries\n",
    "import numpy as np\n",
    "import random as rd\n",
    "import matplotlib.pyplot as plt\n",
    "#import GA_Functions_Continuous as genf\n",
    "import time"
   ]
  },
  {
   "cell_type": "code",
   "execution_count": 30,
   "id": "97efa892",
   "metadata": {},
   "outputs": [],
   "source": [
    "#Step 1 - Define the hyperparameters (user inputted parameters)\n",
    "\n",
    "prob_crsvr = 1 # probablity of crossover, crossover rate\n",
    "prob_mutation = 0.3 # probablity of mutation, mutation rate\n",
    "population = 120 # population number, size\n",
    "generations = 80 # generation number, max iterations"
   ]
  },
  {
   "cell_type": "code",
   "execution_count": 58,
   "id": "1bd2e079",
   "metadata": {},
   "outputs": [],
   "source": [
    "#Variables initialized - Step 1 contd\n",
    "\n",
    "\n",
    "# x and y decision variables' encoding\n",
    "# 13 genes for x and 13 genes for y (arbitrary number)\n",
    "x_y_string = np.array([0,1,0,0,0,1,0,0,1,0,1,1,1,\n",
    "                       0,1,1,1,0,0,1,0,1,1,0,1,1]) # initial solution\n",
    "\n",
    "# create an empty array to put initial population\n",
    "pool_of_solutions = np.empty((0,len(x_y_string)))\n",
    "\n",
    "# create an empty array to store a solution from each generation\n",
    "# for each generation, we want to save the best solution in that generation\n",
    "# for plotting the convergence of the algorithm\n",
    "best_of_a_generation = np.empty((0,len(x_y_string)+1))"
   ]
  },
  {
   "cell_type": "code",
   "execution_count": 67,
   "id": "0b20f418",
   "metadata": {},
   "outputs": [],
   "source": [
    "#Parameters\n",
    "popSize = 100 #population size\n",
    "chromLength = 300 #Length of the Chromosome - the number of the cost value in the initial solutions\n",
    "iteration_max = 1000   #Maximum iteration\n",
    "crossover_rate = 0.7  #Initialized value for the cross over rate\n",
    "mutation_rate = 0.001 #Initialized value for the mutation rate\n",
    "\n",
    "fitness = np.empty([popSize])  #An empty array to put the desired pool of fitness calculated                             \n",
    "costVector = np.empty([chromLength]) #An empty array to hold the associated cost for every\n",
    "intial_population = np.empty([popSize])#An empty array for the randomly generated n chromosomes"
   ]
  },
  {
   "cell_type": "code",
   "execution_count": 36,
   "id": "20122c23",
   "metadata": {},
   "outputs": [],
   "source": [
    "#loadNetwork function - this loads the cost of two linked nodes, as provided in the network.txt file.\n",
    "#Returns the initial solutions\n",
    "def loadNetwork():\n",
    "    fname = \"network.txt\"\n",
    "    input = np.loadtxt(fname)\n",
    "    for i in range(0,chromLength):\n",
    "        costVector[i]=input[i][2]"
   ]
  },
  {
   "cell_type": "code",
   "execution_count": null,
   "id": "66eab5a7",
   "metadata": {},
   "outputs": [],
   "source": []
  },
  {
   "cell_type": "code",
   "execution_count": null,
   "id": "a0e0497f",
   "metadata": {},
   "outputs": [],
   "source": [
    "#Step 2 - Define fitness function measuring performance for individual chromosome \n",
    "#An imported library is used here"
   ]
  },
  {
   "cell_type": "code",
   "execution_count": 75,
   "id": "18c2e530",
   "metadata": {},
   "outputs": [],
   "source": [
    "\n"
   ]
  },
  {
   "cell_type": "code",
   "execution_count": 76,
   "id": "12c12bc0",
   "metadata": {},
   "outputs": [],
   "source": []
  },
  {
   "cell_type": "code",
   "execution_count": 77,
   "id": "8d46b9de",
   "metadata": {},
   "outputs": [],
   "source": [
    "#Step 3 - Randomly generate an initial population of chromosome of size N\n",
    "\n"
   ]
  },
  {
   "cell_type": "code",
   "execution_count": 78,
   "id": "bc6df7d2",
   "metadata": {},
   "outputs": [
    {
     "data": {
      "text/plain": [
       "0.0"
      ]
     },
     "execution_count": 78,
     "metadata": {},
     "output_type": "execute_result"
    }
   ],
   "source": [
    "solutions[1,200]"
   ]
  },
  {
   "cell_type": "code",
   "execution_count": 40,
   "id": "4ba3e1f2",
   "metadata": {},
   "outputs": [
    {
     "data": {
      "text/plain": [
       "240"
      ]
     },
     "execution_count": 40,
     "metadata": {},
     "output_type": "execute_result"
    }
   ],
   "source": [
    "len(pool_of_solutions)"
   ]
  },
  {
   "cell_type": "code",
   "execution_count": 25,
   "id": "83a636f7",
   "metadata": {},
   "outputs": [],
   "source": [
    "fitness = np.empty([120])"
   ]
  },
  {
   "cell_type": "code",
   "execution_count": 53,
   "id": "abb4b9f6",
   "metadata": {},
   "outputs": [
    {
     "data": {
      "text/plain": [
       "1.0"
      ]
     },
     "execution_count": 53,
     "metadata": {},
     "output_type": "execute_result"
    }
   ],
   "source": [
    "pool_of_solutions[0,0]"
   ]
  },
  {
   "cell_type": "code",
   "execution_count": null,
   "id": "f67dc24f",
   "metadata": {},
   "outputs": [],
   "source": []
  },
  {
   "cell_type": "code",
   "execution_count": 38,
   "id": "3f47a595",
   "metadata": {},
   "outputs": [],
   "source": [
    "#Evaluate fitness function (Cost maximization for the node in the overlay network)\n",
    "def evaluateFitness(chromosome,best):\n",
    "    costFullyConnectedNetwork=30098.059999999983\n",
    "    fitness_total=0.0;\n",
    "    fitness_average=0.0;\n",
    "    \n",
    "    for i in range(0,popSize):\n",
    "        fitness[i]=0\n",
    "\n",
    "    for i in range(0,popSize):\n",
    "        cost=0\n",
    "        for j in range(0,chromLength):        \n",
    "            if chromosome[i,j]==1:\n",
    "                cost=cost+costVector[j]\n",
    "        fitness[i]=1-(cost/costFullyConnectedNetwork)\n",
    "        fitness_total=fitness_total+fitness[i]\n",
    "    fitness_average=fitness_total/popSize\n",
    "\n",
    "    for i in range(0,popSize):\n",
    "        if fitness[i]>=best:\n",
    "            best = fitness[i]\n",
    "            \n",
    "    return best, fitness_average"
   ]
  },
  {
   "cell_type": "code",
   "execution_count": 79,
   "id": "1818337c",
   "metadata": {},
   "outputs": [
    {
     "data": {
      "text/plain": [
       "(1.0, 1.0)"
      ]
     },
     "execution_count": 79,
     "metadata": {},
     "output_type": "execute_result"
    }
   ],
   "source": [
    "evaluateFitness(solutions,best=0)"
   ]
  },
  {
   "cell_type": "code",
   "execution_count": null,
   "id": "492e17df",
   "metadata": {},
   "outputs": [],
   "source": []
  },
  {
   "cell_type": "code",
   "execution_count": null,
   "id": "d9bd7a3c",
   "metadata": {},
   "outputs": [],
   "source": []
  },
  {
   "cell_type": "code",
   "execution_count": 45,
   "id": "ed08fdef",
   "metadata": {},
   "outputs": [
    {
     "data": {
      "text/plain": [
       "1.0"
      ]
     },
     "execution_count": 45,
     "metadata": {},
     "output_type": "execute_result"
    }
   ],
   "source": [
    "pool_of_solutions[0][0]"
   ]
  },
  {
   "cell_type": "code",
   "execution_count": null,
   "id": "ecd8ba5c",
   "metadata": {},
   "outputs": [],
   "source": []
  },
  {
   "cell_type": "code",
   "execution_count": null,
   "id": "5eb135d1",
   "metadata": {},
   "outputs": [],
   "source": []
  },
  {
   "cell_type": "code",
   "execution_count": null,
   "id": "986d4991",
   "metadata": {},
   "outputs": [],
   "source": [
    "#Call the Step 3 function\n",
    "pool_of_solutions = generate_random_solution(population, x_y_string)"
   ]
  },
  {
   "cell_type": "code",
   "execution_count": null,
   "id": "bc3cb61e",
   "metadata": {},
   "outputs": [],
   "source": [
    "start_time = time.time() # start time (timing purposes)\n",
    "\n",
    "\n",
    "#Step 10 - termination criterion is set as the number of generation. Indicating the number of run to be made.\n",
    "\n",
    "gen = 1 # we start at generation no.1 (tracking purposes)\n",
    "\n",
    "for i in range(generations): # do it n (generation) times\n",
    "\n",
    "    # an empty array for saving the new generation\n",
    "    # at the beginning of each generation, the array should be empty\n",
    "    # so that you put all the solutions created in a certain generation - for Step 7\n",
    "    new_population = np.empty((0,len(x_y_string)))\n",
    "    \n",
    "    # an empty array for saving the new generation plus its obj func val\n",
    "    new_population_with_obj_val = np.empty((0,len(x_y_string)+1))\n",
    "    \n",
    "    # an empty array for saving the best solution (chromosome)\n",
    "    # for each generation\n",
    "    sorted_best_for_plotting = np.empty((0,len(x_y_string)+1))\n",
    "    \n",
    "    print()\n",
    "    print()\n",
    "    print(\"--> Generation: #\", gen) # tracking purposes\n",
    "    \n",
    "    \n",
    "    family = 1 # we start at family no.1 (tracking purposes)\n",
    "    \n",
    "    #Steps 4, 5, 6, and 7 Loop\n",
    "    \n",
    "    #Step 8 - Repeat steps 4 to 7 till new chromosome population becomes equal to the size of the initial population N\n",
    "    for j in range(int(population/2)): # population/2 because each gives 2 parents\n",
    "         \n",
    "        print()\n",
    "        print(\"--> Family: #\", family) # tracking purposes\n",
    "        \n",
    "        # selecting 2 parents using tournament selection\n",
    "        # \"genf.find_parents_ts\"[0] gives parent_1\n",
    "        # \"genf.find_parents_ts\"[1] gives parent_2 \n",
    "        \n",
    "        #Step 5 - Select a pair of chromosome for mating from the curent population based on the probability related to \n",
    "        #their fitness\n",
    "        \n",
    "        parent_1 = genf.find_parents_ts(pool_of_solutions)[0]\n",
    "        parent_2 = genf.find_parents_ts(pool_of_solutions)[1]\n",
    "        \n",
    "        #Step 6 - Create a pair of offspring chromosomes by applying crossover and mutation operators\n",
    "        \n",
    "        # crossover the 2 parents to get 2 children\n",
    "        # \"genf.crossover\"[0] gives child_1\n",
    "        # \"genf.crossover\"[1] gives child_2\n",
    "        child_1 = genf.crossover(parent_1,parent_2,prob_crsvr=prob_crsvr)[0]\n",
    "        child_2 = genf.crossover(parent_1,parent_2,prob_crsvr=prob_crsvr)[1]\n",
    "        \n",
    "        \n",
    "        # mutating the 2 children to get 2 mutated children\n",
    "        # \"genf.mutation\"[0] gives mutated_child_1\n",
    "        # \"genf.mutation\"[1] gives mutated_child_2\n",
    "        mutated_child_1 = genf.mutation(child_1,child_2, prob_mutation=prob_mutation)[0]  \n",
    "        mutated_child_2 = genf.mutation(child_1,child_2, prob_mutation=prob_mutation)[1] \n",
    "        \n",
    "        \n",
    "        #Step 4 - Calculate the fitness function which is defined in Step 2 (Here, it is a library function used)\n",
    "        \n",
    "        # getting the obj val (fitness value) for the 2 mutated children\n",
    "        # \"genf.objective_value\"[2] gives obj val for the mutated child\n",
    "        obj_val_mutated_child_1 = genf.objective_value(mutated_child_1)[2]\n",
    "        obj_val_mutated_child_2 = genf.objective_value(mutated_child_2)[2]\n",
    "        \n",
    "        \n",
    "        \n",
    "        # track each mutant child and its obj val\n",
    "        print()\n",
    "        print(\"Obj Val for Mutated Child #1 at Generation #{} : {}\".\n",
    "              format(gen,obj_val_mutated_child_1))\n",
    "        print(\"Obj Val for Mutated Child #2 at Generation #{} : {}\".\n",
    "              format(gen,obj_val_mutated_child_2))\n",
    "\n",
    "        \n",
    "        \n",
    "        # for each mutated child, put its obj val next to it\n",
    "        mutant_1_with_obj_val = np.hstack((obj_val_mutated_child_1,\n",
    "                                               mutated_child_1)) # lines 103 and 111\n",
    "        \n",
    "        mutant_2_with_obj_val = np.hstack((obj_val_mutated_child_2,\n",
    "                                               mutated_child_2)) # lines 105 and 112\n",
    "        \n",
    "        \n",
    "        # we need to create the new population for the next generation\n",
    "        # so for each family, we get 2 solutions\n",
    "        # we keep on adding them till we are done with all the families in one generation\n",
    "        # by the end of each generation, we should have the same number as the initial population\n",
    "        # so this keeps on growing and growing\n",
    "        # when it's a new generation, this array empties and we start the stacking process\n",
    "        # and so on\n",
    "        \n",
    "        #Step 7 - Place created offspring chromosomes in the new population\n",
    "        new_population = np.vstack((new_population,\n",
    "                                    mutated_child_1,\n",
    "                                    mutated_child_2))\n",
    "        \n",
    "        \n",
    "        # same explanation as above, but we include the obj val for each solution as well\n",
    "        new_population_with_obj_val = np.vstack((new_population_with_obj_val,\n",
    "                                                 mutant_1_with_obj_val,\n",
    "                                                 mutant_2_with_obj_val))\n",
    "        \n",
    "        \n",
    "        # after getting 2 mutated children (solutions), we get another 2, and so on\n",
    "        # until we have the same number of the intended population\n",
    "        # then we go to the next generation and start over\n",
    "        # since we ended up with 2 solutions, we move on to the next possible solutions\n",
    "        family = family+1\n",
    "    \n",
    "    # Step 9 - Replace initial parent chromosome with new offspring population\n",
    "    \n",
    "    # we replace the initial (before) population with the new one (current generation)\n",
    "    # this new pool of solutions becomes the starting population of the next generation\n",
    "    pool_of_solutions = new_population\n",
    "    \n",
    "    \n",
    "    # for each generation\n",
    "    # we want to find the best solution in that generation\n",
    "    # so we sort them based on index [0], which is the obj val\n",
    "    sorted_best_for_plotting = np.array(sorted(new_population_with_obj_val,\n",
    "                                               key=lambda x:x[0]))\n",
    "    \n",
    "    \n",
    "    # since we sorted them from best to worst\n",
    "    # the best in that generation would be the first solution in the array\n",
    "    # so index [0] of the \"sorted_best_for_plotting\" array\n",
    "    best_of_a_generation = np.vstack((best_of_a_generation,\n",
    "                                      sorted_best_for_plotting[0]))\n",
    "    \n",
    "    \n",
    "    # increase the counter of generations (tracking purposes)\n",
    "    gen = gen+1\n",
    "    \n",
    "end_time = time.time() # end time (timing purposes)"
   ]
  },
  {
   "cell_type": "code",
   "execution_count": null,
   "id": "526694cb",
   "metadata": {},
   "outputs": [],
   "source": [
    "print(\"The start time is \", start_time)\n",
    "print(\"The end time is \", end_time)"
   ]
  },
  {
   "cell_type": "code",
   "execution_count": null,
   "id": "bbffdf97",
   "metadata": {},
   "outputs": [],
   "source": [
    "#Performance Graph Plotting\n",
    "\n",
    "# for our very last generation, we have the last population\n",
    "# for this array of last population (convergence), there is a best solution\n",
    "# so we sort them from best to worst\n",
    "sorted_last_population = np.array(sorted(new_population_with_obj_val,key=lambda x:x[0]))\n",
    "\n",
    "sorted_best_of_a_generation = np.array(sorted(best_of_a_generation, key=lambda x:x[0]))\n",
    "\n",
    "\n",
    "# since we sorted them from best to worst\n",
    "# the best would be the first solution in the array\n",
    "# so index [0] of the \"sorted_last_population\" array\n",
    "best_string_convergence = sorted_last_population[0]\n",
    "\n",
    "best_string_overall = sorted_best_of_a_generation[0]\n",
    "\n",
    "\n",
    "print()\n",
    "print()\n",
    "print(\"------------------------------\")\n",
    "print()\n",
    "print(\"Execution Time in Seconds:\",end_time - start_time) # exec. time\n",
    "print()\n",
    "print(\"Final Solution (Convergence):\",best_string_convergence[1:]) # final solution entire chromosome\n",
    "print(\"Encoded X (Convergence):\",best_string_convergence[1:14]) # final solution x chromosome\n",
    "print(\"Encoded Y (Convergence):\",best_string_convergence[14:]) # final solution y chromosome\n",
    "print()\n",
    "print(\"Final Solution (Best):\",best_string_overall[1:]) # final solution entire chromosome\n",
    "print(\"Encoded X (Best):\",best_string_overall[1:14]) # final solution x chromosome\n",
    "print(\"Encoded Y (Best):\",best_string_overall[14:]) # final solution y chromosome\n",
    "\n",
    "# to decode the x and y chromosomes to their real values\n",
    "# the \"genf.objective_value\" function returns 3 things -->\n",
    "# [0] is the x value\n",
    "# [1] is the y value\n",
    "# [2] is the obj val for the chromosome\n",
    "# we use \"best_string[1:]\" because we don't want to include the first element [0]\n",
    "# because it's the obj val, which is not a part of the actual chromosome\n",
    "final_solution_convergence = genf.objective_value(best_string_convergence[1:])\n",
    "\n",
    "final_solution_overall = genf.objective_value(best_string_overall[1:])\n",
    "\n",
    "\n",
    "\n",
    "print()\n",
    "print(\"Decoded X (Convergence):\",round(final_solution_convergence[0],5)) # real value of x\n",
    "print(\"Decoded Y (Convergence):\",round(final_solution_convergence[1],5)) # real value of y\n",
    "print(\"Obj Value - Convergence:\",round(final_solution_convergence[2],5)) # obj val of final chromosome\n",
    "print()\n",
    "print(\"Decoded X (Best):\",round(final_solution_overall[0],5)) # real value of x\n",
    "print(\"Decoded Y (Best):\",round(final_solution_overall[1],5)) # real value of y\n",
    "print(\"Obj Value - Best in Generations:\",round(final_solution_overall[2],5)) # obj val of final chromosome\n",
    "print()\n",
    "print(\"------------------------------\")\n",
    "\n",
    "\n",
    "### FOR PLOTTING THE BEST SOLUTION FROM EACH GENERATION ###\n",
    "\n",
    "best_obj_val_convergence = (best_string_convergence[0]) # what the actual final answer is\n",
    "\n",
    "best_obj_val_overall = best_string_overall[0]\n",
    "\n",
    "\n",
    "plt.plot(best_of_a_generation[:,0]) # check line 176\n",
    "plt.axhline(y=best_obj_val_convergence,color='r',linestyle='--')\n",
    "\n",
    "plt.axhline(y=best_obj_val_overall,color='r',linestyle='--')\n",
    "\n",
    "plt.title(\"Z Reached Through Generations\",fontsize=20,fontweight='bold')\n",
    "plt.xlabel(\"Generation\",fontsize=18,fontweight='bold')\n",
    "plt.ylabel(\"Z\",fontsize=18,fontweight='bold')\n",
    "plt.xticks(fontweight='bold')\n",
    "plt.yticks(fontweight='bold')\n",
    "\n",
    "\n",
    "if sorted_best_of_a_generation[-1][0] > 2:\n",
    "    k = 0.8\n",
    "elif sorted_best_of_a_generation[-1][0] > 1:\n",
    "    k = 0.5\n",
    "elif sorted_best_of_a_generation[-1][0] > 0.5:\n",
    "    k = 0.3\n",
    "elif sorted_best_of_a_generation[-1][0] > 0.3:\n",
    "    k = 0.2\n",
    "else:\n",
    "    k = 0.1\n",
    "\n",
    "xyz1 = (generations/2.4,best_obj_val_convergence)\n",
    "xyzz1 = (generations/2.2,best_obj_val_convergence+k)\n",
    "\n",
    "plt.annotate(\"At Convergence: %0.5f\" % best_obj_val_convergence,xy=xyz1,xytext=xyzz1,\n",
    "             arrowprops=dict(facecolor='black',shrink=1,width=1,headwidth=5),\n",
    "             fontsize=12,fontweight='bold')\n",
    "\n",
    "\n",
    "xyz2 = (generations/6,best_obj_val_overall)\n",
    "xyzz2 = (generations/5.4,best_obj_val_overall+(k/2))\n",
    "\n",
    "plt.annotate(\"Minimum Overall: %0.5f\" % best_obj_val_overall,xy=xyz2,xytext=xyzz2,\n",
    "             arrowprops=dict(facecolor='black',shrink=1,width=1,headwidth=5),\n",
    "             fontsize=12,fontweight='bold')\n"
   ]
  },
  {
   "cell_type": "code",
   "execution_count": null,
   "id": "77e2818d",
   "metadata": {},
   "outputs": [],
   "source": [
    "#Show the plot\n",
    "plt.show()"
   ]
  },
  {
   "cell_type": "code",
   "execution_count": null,
   "id": "07908eaa",
   "metadata": {},
   "outputs": [],
   "source": []
  }
 ],
 "metadata": {
  "kernelspec": {
   "display_name": "Python 3",
   "language": "python",
   "name": "python3"
  },
  "language_info": {
   "codemirror_mode": {
    "name": "ipython",
    "version": 3
   },
   "file_extension": ".py",
   "mimetype": "text/x-python",
   "name": "python",
   "nbconvert_exporter": "python",
   "pygments_lexer": "ipython3",
   "version": "3.7.9"
  }
 },
 "nbformat": 4,
 "nbformat_minor": 5
}
