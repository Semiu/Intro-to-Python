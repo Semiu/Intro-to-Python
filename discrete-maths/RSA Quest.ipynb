{
 "cells": [
  {
   "cell_type": "raw",
   "metadata": {},
   "source": [
    "This notebook will walk you through the cryptographic quest we've created for you! \n",
    "\n",
    "You're going to solve a series of puzzles. First few of them will lead you to a secret link containing more puzzles and instructions, then you'll get another link, and so on. In the end, you will get the final answer. You'll be able to get points for the course for solving some parts of this quest. To do so, you will need to submit the information you get in this notebook to the next quiz called \"RSA Quest Quiz\".\n",
    "\n",
    "You won't need to do any programming or guesswork in this notebook. If you've solved some of the questions in the previous quiz, \"RSA Quiz\", you'll need to copy the code of your solutions to the corresponding functions in this notebook, launch the corresponding parts of the notebook and get the keys. You will be able to get some points even if you didn't solve all the questions of the \"RSA Quiz\"!"
   ]
  },
  {
   "cell_type": "raw",
   "metadata": {},
   "source": [
    "And the first puzzle is based on the question 2 of the \"RSA Quiz\". In the next part of the notebook, first go some utility functions, then goes the main function \"Decrypt\". Please copy the code of your correct implementation of the function Decrypt in that question so as to substitute our current implementation, then launch the corresponding parts of the notebook to get the first part of secret link."
   ]
  },
  {
   "cell_type": "code",
   "execution_count": null,
   "metadata": {},
   "outputs": [],
   "source": [
    "import sys, threading\n",
    "\n",
    "\n",
    "sys.setrecursionlimit(10**7)\n",
    "threading.stack_size(2**27)\n",
    "\n",
    "\n",
    "def ConvertToInt(message_str):\n",
    "  res = 0\n",
    "  for i in range(len(message_str)):\n",
    "    res = res * 256 + ord(message_str[i])\n",
    "  return res\n",
    "\n",
    "def ConvertToStr(n):\n",
    "    res = \"\"\n",
    "    while n > 0:\n",
    "        res += chr(n % 256)\n",
    "        n //= 256\n",
    "    return res[::-1]\n",
    "\n",
    "def PowMod(a, n, mod):\n",
    "    if n == 0:\n",
    "        return 1 % mod\n",
    "    elif n == 1:\n",
    "        return a % mod\n",
    "    else:\n",
    "        b = PowMod(a, n // 2, mod)\n",
    "        b = b * b % mod\n",
    "        if n % 2 == 0:\n",
    "          return b\n",
    "        else:\n",
    "          return b * a % mod\n",
    "\n",
    "def ExtendedEuclid(a, b):\n",
    "    if b == 0:\n",
    "        return (1, 0)\n",
    "    (x, y) = ExtendedEuclid(b, a % b)\n",
    "    k = a // b\n",
    "    return (y, x - k * y)\n",
    "\n",
    "def InvertModulo(a, n):\n",
    "    (b, x) = ExtendedEuclid(a, n)\n",
    "    if b < 0:\n",
    "        b = (b % n + n) % n\n",
    "    return b\n",
    "\n",
    "def Decrypt(ciphertext, p, q, exponent):\n",
    "  # Substitute this implementation with your code from question 2 of the \"RSA Quiz\".\n",
    "  return ConvertToStr(PowMod(ciphertext, exponent, p * q))\n",
    "\n",
    "p = 779849711281\n",
    "q = 748173698927\n",
    "e = 1018651\n",
    "ciphertext = 148784435264686331994392\n",
    "decrypt_first_puzzle = Decrypt(ciphertext, p, q, e)\n",
    "print(decrypt_first_puzzle)"
   ]
  },
  {
   "cell_type": "raw",
   "metadata": {},
   "source": [
    "The second puzzle is based on the questions 1 and 3 of the \"RSA Quiz\". Here, you need to substitute our implementation of the function \"Encrypt\" with your implementation from question 1 and substitute our implementation of the function \"DecipherSimple\" with your implementation from the question 3 of the \"RSA Quiz\" to get the second part of the secret link."
   ]
  },
  {
   "cell_type": "code",
   "execution_count": null,
   "metadata": {},
   "outputs": [],
   "source": [
    "def Encrypt(message, modulo, exponent):\n",
    "  # Substitute this implementation with your code from question 1 of the \"RSA Quiz\".\n",
    "  return PowMod(ConvertToInt(message), 2, 4)\n",
    "\n",
    "def DecipherSimple(ciphertext, modulo, exponent, potential_messages):\n",
    "  # Substitute this implementation with your code from question 3 of the \"RSA Quiz\".\n",
    "  if ciphertext == Encrypt(potential_messages[0], modulo, exponent):\n",
    "    return potential_messages[0]\n",
    "  return \"don't know\"\n",
    "\n",
    "ciphertext = 336184023047118677086739\n",
    "modulo = 1110014195838866450995043\n",
    "exponent = 767549\n",
    "potential_messages = [\"http://goo.gl/\", \"http://tinyurl.com/\", \"http://bit.ly/\", \"http://t.co/\", \"http://ow.ly/\", \"https://is.gd/\", \"https://buff.ly/\", \"http://adf.ly/\", \"http://bit.do/\"]\n",
    "decrypt_second_puzzle = DecipherSimple(ciphertext, modulo, exponent, potential_messages)\n",
    "print decrypt_second_puzzle"
   ]
  },
  {
   "cell_type": "raw",
   "metadata": {},
   "source": [
    "Now you're ready to construct the secret link. Just run the next part of the notebook to get it. Then follow the link to get more instructions. Also, if you follow the correct link, you will already get the answer to the first question of the following \"RSA Quest Quiz\"!"
   ]
  },
  {
   "cell_type": "code",
   "execution_count": null,
   "metadata": {},
   "outputs": [],
   "source": [
    "secret_link = decrypt_second_puzzle + decrypt_first_puzzle\n",
    "print(secret_link)"
   ]
  },
  {
   "cell_type": "raw",
   "metadata": {},
   "source": [
    "Substitute the implementation of the function \"DecipherSmallPrime\" below with your implementation from \"RSA Quiz\", question 4. Also, insert the values for the ciphertext, modulo and exponent from the secret document. Then launch to get the first part of the next secret link."
   ]
  },
  {
   "cell_type": "code",
   "execution_count": null,
   "metadata": {},
   "outputs": [],
   "source": [
    "def DecipherSmallPrime(ciphertext, modulo, exponent):  \n",
    "  # Substitute this implementation with your code from question 4 of the \"RSA Quiz\".\n",
    "  return ConvertToStr(PowMod(ciphertext, exponent, p * q))\n",
    "\n",
    "\n",
    "ciphertext = 1\n",
    "modulo = 100000000000000000\n",
    "exponent = 1\n",
    "decrypt_third_puzzle = DecipherSmallPrime(ciphertext, modulo, exponent)\n",
    "print(decrypt_third_puzzle)"
   ]
  },
  {
   "cell_type": "raw",
   "metadata": {},
   "source": [
    "Substitute the implementation of the function \"DecipherSmallDiff\" below with your implementation from \"RSA Quiz\", question 5. Also, insert the values for the ciphertext, modulo and exponent from the secret document. Then launch to get the second part of the next secret link."
   ]
  },
  {
   "cell_type": "code",
   "execution_count": null,
   "metadata": {},
   "outputs": [],
   "source": [
    "def IntSqrt(n):\n",
    "  low = 1\n",
    "  high = n\n",
    "  iterations = 0\n",
    "  while low < high and iterations < 5000:\n",
    "    iterations += 1\n",
    "    mid = (low + high + 1) // 2\n",
    "    if mid * mid <= n:\n",
    "      low = mid\n",
    "    else:\n",
    "      high = mid - 1\n",
    "  return low\n",
    "\n",
    "def DecipherSmallDiff(ciphertext, modulo, exponent):  \n",
    "  # Substitute this implementation with your code from question 5 of the \"RSA Quiz\".\n",
    "  small_prime = IntSqrt(modulo)\n",
    "  big_prime = modulo // small_prime\n",
    "  return Decrypt(ciphertext, small_prime, big_prime, exponent)\n",
    "    \n",
    "ciphertext = 1\n",
    "modulo = 10000000000000000000\n",
    "exponent = 1\n",
    "decrypt_fourth_puzzle = DecipherSmallDiff(ciphertext, modulo, exponent)\n",
    "print(decrypt_fourth_puzzle)"
   ]
  },
  {
   "cell_type": "raw",
   "metadata": {},
   "source": [
    "Now you have both parts of the second link. To get the link, just launch the next part of the notebook. Then follow the link to get more instructions. Also, if you follow the correct link, you will get the answer to the second question of the following \"RSA Quest Quiz\"!"
   ]
  },
  {
   "cell_type": "code",
   "execution_count": null,
   "metadata": {},
   "outputs": [],
   "source": [
    "second_secret_link = decrypt_third_puzzle + decrypt_fourth_puzzle\n",
    "print(second_secret_link)"
   ]
  },
  {
   "cell_type": "raw",
   "metadata": {},
   "source": [
    "Substitute the implementation of the function \"DecipherCommonDivisor\" below with your implementation from \"RSA Quiz\", question 6. Also, insert the corresponding values for the ciphertexts, modulos and exponents from the second secret document. Then launch to get the first and the second parts of the final answer."
   ]
  },
  {
   "cell_type": "code",
   "execution_count": null,
   "metadata": {},
   "outputs": [],
   "source": [
    "def GCD(a, b):\n",
    "  if b == 0:\n",
    "    return a\n",
    "  return GCD(b, a % b)\n",
    "\n",
    "def DecipherCommonDivisor(first_ciphertext, first_modulo, first_exponent, second_ciphertext, second_modulo, second_exponent):\n",
    "  # Substitute this implementation with your code from question 6 of the \"RSA Quiz\".  \n",
    "  for common_prime in range(2, 1000000):\n",
    "    if first_modulo % common_prime == 0 and second_modulo % common_prime == 0:\n",
    "      q1 = first_modulo // common_prime\n",
    "      q2 = second_modulo // common_prime\n",
    "      return (Decrypt(first_ciphertext, common_prime, q1, first_exponent), Decrypt(second_ciphertext, common_prime, q2, second_exponent))\n",
    "  return (\"unknown message 1\", \"unknown message 2\")\n",
    "\n",
    "first_ciphertext = 1\n",
    "first_modulo = 1000000000000000\n",
    "first_exponent = 1\n",
    "second_ciphertext = 1\n",
    "second_modulo = 9999999999999999\n",
    "second_exponent = 1\n",
    "\n",
    "decrypt_sixth_puzzle = DecipherCommonDivisor(first_ciphertext, first_modulo, first_exponent, second_ciphertext, second_modulo, second_exponent)\n",
    "print(decrypt_sixth_puzzle)"
   ]
  },
  {
   "cell_type": "raw",
   "metadata": {},
   "source": [
    "Substitute the implementation of the function \"DecipherHastad\" below with your implementation from \"RSA Quiz\", question 7. Also, insert the values for the ciphertexts and modulos from the second secret document. Then launch to get the third - and the last - part of the final answer."
   ]
  },
  {
   "cell_type": "code",
   "execution_count": null,
   "metadata": {},
   "outputs": [],
   "source": [
    "def ChineseRemainderTheorem(n1, r1, n2, r2):\n",
    "  (x, y) = ExtendedEuclid(n1, n2)\n",
    "  return ((r2 * x * n1 + r1 * y * n2) % (n1 * n2) + (n1 * n2)) % (n1 * n2)\n",
    "\n",
    "def DecipherHastad(first_ciphertext, first_modulo, second_ciphertext, second_modulo):\n",
    "  # Substitute this implementation with your code from question 7 of the \"RSA Quiz\".\n",
    "  r = ChineseRemainderTheorem(first_modulo, first_ciphertext, second_modulo, second_ciphertext)\n",
    "  return ConvertToStr(IntSqrt(first_ciphertext * second_ciphertext))\n",
    "\n",
    "first_ciphertext = 1\n",
    "first_modulo = 100000000000000\n",
    "second_ciphertext = 1\n",
    "second_modulo = 999999999999999\n",
    "\n",
    "decrypt_seventh_puzzle = DecipherHastad(first_ciphertext, first_modulo, second_ciphertext, second_modulo)\n",
    "print(decrypt_seventh_puzzle)"
   ]
  },
  {
   "cell_type": "raw",
   "metadata": {},
   "source": [
    "Now just launch the next part to get the final answer, then copy and paste to submit it as the answer to the question 3 of the \"RSA Quest Quiz\"!"
   ]
  },
  {
   "cell_type": "code",
   "execution_count": null,
   "metadata": {},
   "outputs": [],
   "source": [
    "final_answer = decrypt_sixth_puzzle[0] + decrypt_sixth_puzzle[1] + decrypt_seventh_puzzle\n",
    "print(final_answer)"
   ]
  }
 ],
 "metadata": {
  "kernelspec": {
   "display_name": "Python 3",
   "language": "python",
   "name": "python3"
  },
  "language_info": {
   "codemirror_mode": {
    "name": "ipython",
    "version": 3
   },
   "file_extension": ".py",
   "mimetype": "text/x-python",
   "name": "python",
   "nbconvert_exporter": "python",
   "pygments_lexer": "ipython3",
   "version": "3.7.0"
  }
 },
 "nbformat": 4,
 "nbformat_minor": 2
}
