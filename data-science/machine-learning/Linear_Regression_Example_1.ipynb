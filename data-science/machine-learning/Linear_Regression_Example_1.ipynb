{
 "cells": [
  {
   "cell_type": "markdown",
   "metadata": {},
   "source": [
    "# This is the linear regression example on the MLlib documentation page. "
   ]
  },
  {
   "cell_type": "markdown",
   "metadata": {},
   "source": [
    "## Required data file: sample_linear_regression_data.txt"
   ]
  },
  {
   "cell_type": "markdown",
   "metadata": {},
   "source": [
    "### Resource: \n",
    "\n",
    "### Spark MLlib classification and regression documentation\n",
    "### https://spark.apache.org/docs/latest/ml-classification-regression.html#linear-regression\n"
   ]
  },
  {
   "cell_type": "markdown",
   "metadata": {},
   "source": [
    "### Step 1: create a spark session"
   ]
  },
  {
   "cell_type": "code",
   "execution_count": 1,
   "metadata": {},
   "outputs": [],
   "source": [
    "from pyspark.sql import SparkSession"
   ]
  },
  {
   "cell_type": "code",
   "execution_count": 2,
   "metadata": {},
   "outputs": [],
   "source": [
    "spark = SparkSession.builder.appName('lrex').getOrCreate()\n",
    "from pyspark.ml.regression import LinearRegression"
   ]
  },
  {
   "cell_type": "markdown",
   "metadata": {},
   "source": [
    "### Step 2: read data"
   ]
  },
  {
   "cell_type": "code",
   "execution_count": 3,
   "metadata": {},
   "outputs": [],
   "source": [
    "all_data = spark.read.format('libsvm').option(\"numFeatures\",\"10\").load('sample_linear_regression_data.txt', header=True)"
   ]
  },
  {
   "cell_type": "markdown",
   "metadata": {},
   "source": [
    "### Step 3: split data into training set and test set"
   ]
  },
  {
   "cell_type": "code",
   "execution_count": 4,
   "metadata": {},
   "outputs": [],
   "source": [
    "train_data,test_data = all_data.randomSplit([0.7,0.3])"
   ]
  },
  {
   "cell_type": "code",
   "execution_count": 5,
   "metadata": {},
   "outputs": [
    {
     "name": "stdout",
     "output_type": "stream",
     "text": [
      "+-------+--------------------+\n",
      "|summary|               label|\n",
      "+-------+--------------------+\n",
      "|  count|                 330|\n",
      "|   mean|-0.19453058780512283|\n",
      "| stddev|  10.551928302622024|\n",
      "|    min| -28.571478869743427|\n",
      "|    max|   27.78383192005107|\n",
      "+-------+--------------------+\n",
      "\n"
     ]
    }
   ],
   "source": [
    "train_data.describe().show()"
   ]
  },
  {
   "cell_type": "code",
   "execution_count": 6,
   "metadata": {},
   "outputs": [
    {
     "name": "stdout",
     "output_type": "stream",
     "text": [
      "+-------+-------------------+\n",
      "|summary|              label|\n",
      "+-------+-------------------+\n",
      "|  count|                171|\n",
      "|   mean| 1.1280490871074889|\n",
      "| stddev|  9.822073891920821|\n",
      "|    min|-26.805483428483072|\n",
      "|    max|  23.52945433069272|\n",
      "+-------+-------------------+\n",
      "\n"
     ]
    }
   ],
   "source": [
    "test_data.describe().show()"
   ]
  },
  {
   "cell_type": "markdown",
   "metadata": {},
   "source": [
    "### Step 4: build a linear regression model"
   ]
  },
  {
   "cell_type": "code",
   "execution_count": 7,
   "metadata": {},
   "outputs": [],
   "source": [
    "lr = LinearRegression(featuresCol='features',labelCol='label',predictionCol='prediction')"
   ]
  },
  {
   "cell_type": "code",
   "execution_count": 8,
   "metadata": {},
   "outputs": [],
   "source": [
    "lrModel = lr.fit(train_data)"
   ]
  },
  {
   "cell_type": "code",
   "execution_count": 9,
   "metadata": {},
   "outputs": [
    {
     "data": {
      "text/plain": [
       "DenseVector([-0.7402, 1.2976, -2.1174, 3.3696, 1.2225, 0.5393, 0.4601, -0.2842, 0.1744, 0.9593])"
      ]
     },
     "execution_count": 9,
     "metadata": {},
     "output_type": "execute_result"
    }
   ],
   "source": [
    "lrModel.coefficients"
   ]
  },
  {
   "cell_type": "code",
   "execution_count": 10,
   "metadata": {},
   "outputs": [
    {
     "data": {
      "text/plain": [
       "-0.37270194004255297"
      ]
     },
     "execution_count": 10,
     "metadata": {},
     "output_type": "execute_result"
    }
   ],
   "source": [
    "lrModel.intercept"
   ]
  },
  {
   "cell_type": "markdown",
   "metadata": {},
   "source": [
    "### Step 5: evaluate the model"
   ]
  },
  {
   "cell_type": "code",
   "execution_count": 13,
   "metadata": {},
   "outputs": [
    {
     "name": "stdout",
     "output_type": "stream",
     "text": [
      "RMSE: 10.246268\n"
     ]
    }
   ],
   "source": [
    "training_summary = lrModel.summary\n",
    "print('RMSE: %f' % training_summary.rootMeanSquaredError)"
   ]
  },
  {
   "cell_type": "code",
   "execution_count": 14,
   "metadata": {},
   "outputs": [
    {
     "name": "stdout",
     "output_type": "stream",
     "text": [
      "r2: 0.054229\n"
     ]
    }
   ],
   "source": [
    "print(\"r2: %f\" % training_summary.r2)"
   ]
  },
  {
   "cell_type": "code",
   "execution_count": 15,
   "metadata": {},
   "outputs": [],
   "source": [
    "test_results = lrModel.evaluate(test_data)"
   ]
  },
  {
   "cell_type": "code",
   "execution_count": 16,
   "metadata": {},
   "outputs": [
    {
     "name": "stdout",
     "output_type": "stream",
     "text": [
      "+-------------------+\n",
      "|          residuals|\n",
      "+-------------------+\n",
      "| -28.21880330062654|\n",
      "|-26.598478233001604|\n",
      "| -20.91064935067119|\n",
      "| -19.18710416164714|\n",
      "|-16.154615011657647|\n",
      "|-12.824004300906523|\n",
      "|-19.718944831957206|\n",
      "| -17.28007992664985|\n",
      "|-13.242860228769123|\n",
      "|-18.743278801108758|\n",
      "| -18.20144719909078|\n",
      "| -11.16875661565154|\n",
      "| -9.600630873112701|\n",
      "| -11.14183898259143|\n",
      "|-17.568243490384546|\n",
      "|-14.354398291968206|\n",
      "|-13.014125302376993|\n",
      "|-13.913541023263381|\n",
      "|-13.507689426773645|\n",
      "|-11.514351824782237|\n",
      "+-------------------+\n",
      "only showing top 20 rows\n",
      "\n"
     ]
    }
   ],
   "source": [
    "test_results.residuals.show()"
   ]
  },
  {
   "cell_type": "markdown",
   "metadata": {},
   "source": [
    "### Step 6: test the model"
   ]
  },
  {
   "cell_type": "code",
   "execution_count": 17,
   "metadata": {},
   "outputs": [],
   "source": [
    "unlabeled_data = test_data.select('features')"
   ]
  },
  {
   "cell_type": "code",
   "execution_count": 18,
   "metadata": {},
   "outputs": [],
   "source": [
    "predictions = lrModel.transform(unlabeled_data)"
   ]
  },
  {
   "cell_type": "code",
   "execution_count": 18,
   "metadata": {},
   "outputs": [
    {
     "name": "stdout",
     "output_type": "stream",
     "text": [
      "+--------------------+--------------------+\n",
      "|            features|          prediction|\n",
      "+--------------------+--------------------+\n",
      "|(10,[0,1,2,3,4,5,...|  -2.994373361212311|\n",
      "|(10,[0,1,2,3,4,5,...| -0.6266407791305711|\n",
      "|(10,[0,1,2,3,4,5,...| -0.9599992242663343|\n",
      "|(10,[0,1,2,3,4,5,...|  1.3386662681665213|\n",
      "|(10,[0,1,2,3,4,5,...| -1.0626058597096455|\n",
      "|(10,[0,1,2,3,4,5,...|   1.942706685103939|\n",
      "|(10,[0,1,2,3,4,5,...|-0.07351608698263443|\n",
      "|(10,[0,1,2,3,4,5,...|   2.584602412893303|\n",
      "|(10,[0,1,2,3,4,5,...|  1.2730637825886497|\n",
      "|(10,[0,1,2,3,4,5,...| -0.3193704495364642|\n",
      "|(10,[0,1,2,3,4,5,...|  -2.302411537437591|\n",
      "|(10,[0,1,2,3,4,5,...| -1.6313114020407997|\n",
      "|(10,[0,1,2,3,4,5,...|  0.5813510767132104|\n",
      "|(10,[0,1,2,3,4,5,...|  -3.132419285303051|\n",
      "|(10,[0,1,2,3,4,5,...|  1.5763353678621195|\n",
      "|(10,[0,1,2,3,4,5,...|0.003621351125055...|\n",
      "|(10,[0,1,2,3,4,5,...| 0.06266634034898606|\n",
      "|(10,[0,1,2,3,4,5,...| -2.2479716905876805|\n",
      "|(10,[0,1,2,3,4,5,...|  1.5895776283074603|\n",
      "|(10,[0,1,2,3,4,5,...| 0.47558395971870265|\n",
      "+--------------------+--------------------+\n",
      "only showing top 20 rows\n",
      "\n"
     ]
    }
   ],
   "source": [
    "predictions.show()"
   ]
  },
  {
   "cell_type": "code",
   "execution_count": null,
   "metadata": {},
   "outputs": [],
   "source": []
  }
 ],
 "metadata": {
  "kernelspec": {
   "display_name": "PySpark",
   "language": "python",
   "name": "pyspark"
  },
  "language_info": {
   "codemirror_mode": {
    "name": "ipython",
    "version": 3
   },
   "file_extension": ".py",
   "mimetype": "text/x-python",
   "name": "python",
   "nbconvert_exporter": "python",
   "pygments_lexer": "ipython3",
   "version": "3.8.0"
  }
 },
 "nbformat": 4,
 "nbformat_minor": 4
}
