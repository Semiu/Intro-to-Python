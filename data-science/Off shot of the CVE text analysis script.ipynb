{
 "cells": [
  {
   "cell_type": "code",
   "execution_count": null,
   "id": "positive-shareware",
   "metadata": {},
   "outputs": [],
   "source": [
    "#Import the libraries\n",
    "from sklearn.feature_extraction.text import TfidfVectorizer\n",
    "from sklearn.cluster import KMeans\n",
    "from sklearn import metrics\n",
    "\n",
    "import spacy\n",
    "import re\n",
    "\n",
    "import string\n"
   ]
  },
  {
   "cell_type": "code",
   "execution_count": null,
   "id": "mental-milton",
   "metadata": {},
   "outputs": [],
   "source": [
    "# Load Spacy.io's pre-trained model for English tokenizer, tagger, parser and NER\n",
    "nlp = spacy.load(\"en_core_web_lg\")\n",
    "\n",
    "# Process the pre-processed document\n",
    "text = (concatenate_concatenated_token(list_of_concatenated_tokens))\n",
    "doc = nlp(text)\n",
    "\n",
    "# Analyze syntax\n",
    "vulnerability_phrases = [chunk.text for chunk in doc.noun_chunks]"
   ]
  },
  {
   "cell_type": "code",
   "execution_count": null,
   "id": "aggressive-placement",
   "metadata": {},
   "outputs": [],
   "source": [
    "#Convert the vulnerabilities phrases/entities to data frame\n",
    "vul_phrases_df = pd.DataFrame(vulnerability_phrases,columns=[\"vulnerability_phrases\"])"
   ]
  },
  {
   "cell_type": "code",
   "execution_count": null,
   "id": "minimal-riding",
   "metadata": {},
   "outputs": [],
   "source": [
    "#Function to concantenate the concatenated tokens to a string - to work with Spacy pre-trained model for name entity recognition\n",
    "def concatenate_concatenated_token(list_of_concatenated_tokens):\n",
    "    concatenated_phrases = \" \"\n",
    "    for phrase in list_of_phrases:\n",
    "        concatenated_phrases += \" \" +phrase.strip()\n",
    "    return concatenated_phrases"
   ]
  },
  {
   "cell_type": "code",
   "execution_count": null,
   "id": "cathedral-sequence",
   "metadata": {},
   "outputs": [],
   "source": [
    "def concatenate_tokens(list_of_tokens):\n",
    "    new_sentence = []\n",
    "    eliminate_words = [',',\"'\",'.','(','(','{','}','e.g', 'JDK', 'SDK']\n",
    "    for token_list in list_of_tokens:\n",
    "        concatenate_token = \" \"\n",
    "        for token in token_list:\n",
    "            if token not in eliminate_words:\n",
    "                concatenate_token += \" \" +token\n",
    "                new_sentence.append(concatenate_token)\n",
    "    return new_sentence"
   ]
  },
  {
   "cell_type": "code",
   "execution_count": null,
   "id": "arranged-museum",
   "metadata": {},
   "outputs": [],
   "source": []
  },
  {
   "cell_type": "code",
   "execution_count": null,
   "id": "rocky-source",
   "metadata": {},
   "outputs": [],
   "source": []
  },
  {
   "cell_type": "code",
   "execution_count": null,
   "id": "russian-grade",
   "metadata": {},
   "outputs": [],
   "source": []
  },
  {
   "cell_type": "code",
   "execution_count": null,
   "id": "african-metallic",
   "metadata": {},
   "outputs": [],
   "source": []
  },
  {
   "cell_type": "code",
   "execution_count": null,
   "id": "removed-novelty",
   "metadata": {},
   "outputs": [],
   "source": []
  }
 ],
 "metadata": {
  "kernelspec": {
   "display_name": "Python 3",
   "language": "python",
   "name": "python3"
  },
  "language_info": {
   "codemirror_mode": {
    "name": "ipython",
    "version": 3
   },
   "file_extension": ".py",
   "mimetype": "text/x-python",
   "name": "python",
   "nbconvert_exporter": "python",
   "pygments_lexer": "ipython3",
   "version": "3.7.9"
  }
 },
 "nbformat": 4,
 "nbformat_minor": 5
}
