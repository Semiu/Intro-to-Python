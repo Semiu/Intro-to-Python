{
 "cells": [
  {
   "cell_type": "markdown",
   "metadata": {},
   "source": [
    "# Use the Shirt Class\n",
    "\n",
    "You've seen what a class looks like and how to instantiate an object. Now it's your turn to write code that insantiates a shirt object.\n",
    "\n",
    "# Explanation of the Code\n",
    "This exercise using Jupyter notebook includes three files:\n",
    "- shirt_exercise.ipynb, which is the file you are currently looking at\n",
    "- answer.py containing answers to the exercise\n",
    "- tests.py, tests for checking your code - you can run these tests using the last code cell at the bottom of this notebook\n",
    "\n",
    "# Your Task\n",
    "The shirt_exercise.ipynb file, which you are currently looking at if you are reading this, has an exercise to help guide you through coding with an object in Python.\n",
    "\n",
    "Fill out the TODOs in each section of the Jupyter notebook. You can find a solution in the answer.py file.\n",
    "\n",
    "First, run this code cell below to load the Shirt class."
   ]
  },
  {
   "cell_type": "code",
   "execution_count": 1,
   "metadata": {},
   "outputs": [],
   "source": [
    "class Shirt:\n",
    "\n",
    "    def __init__(self, shirt_color, shirt_size, shirt_style, shirt_price):\n",
    "        self.color = shirt_color\n",
    "        self.size = shirt_size\n",
    "        self.style = shirt_style\n",
    "        self.price = shirt_price\n",
    "    \n",
    "    def change_price(self, new_price):\n",
    "    \n",
    "        self.price = new_price\n",
    "        \n",
    "    def discount(self, discount):\n",
    "\n",
    "        return self.price * (1 - discount)"
   ]
  },
  {
   "cell_type": "code",
   "execution_count": 12,
   "metadata": {},
   "outputs": [],
   "source": [
    "### TODO:\n",
    "#    - insantiate a shirt object with the following characteristics:\n",
    "#        - color red, size S, style long-sleeve, and price 25\n",
    "#    - store the object in a variable called shirt_one\n",
    "###\n",
    "\n",
    "shirt_one = Shirt(\"red\", \"S\", \"long-sleeve\", 25)"
   ]
  },
  {
   "cell_type": "code",
   "execution_count": 13,
   "metadata": {},
   "outputs": [
    {
     "name": "stdout",
     "output_type": "stream",
     "text": [
      "The shirt_one's price is  25\n",
      "The shirt_one's new price is  10\n"
     ]
    }
   ],
   "source": [
    "### TODO:\n",
    "#     - print the price of the shirt using the price attribute\n",
    "#     - use the change_price method to change the price of the shirt to 10\n",
    "#     - print the price of the shirt using the price attribute\n",
    "#     - use the discount method to print the price of the shirt with a 12% discount\n",
    "###\n",
    "\n",
    "shirt_one_price = shirt_one.price\n",
    "#print(\"The shirt_one's price is \", shirt_one_price)\n",
    "\n",
    "shirt_one.change_price(10)\n",
    "shirt_one_new_price = shirt_one.price\n",
    "#print(\"The shirt_one's new price is \", shirt_one_new_price)"
   ]
  },
  {
   "cell_type": "code",
   "execution_count": 14,
   "metadata": {},
   "outputs": [
    {
     "name": "stdout",
     "output_type": "stream",
     "text": [
      "The shirt_one's price after discount is  8.8\n"
     ]
    }
   ],
   "source": [
    "shirt_one_price_afterdiscount = shirt_one.discount(.12)\n",
    "#print(\"The shirt_one's price after discount is \", shirt_one_price_afterdiscount)"
   ]
  },
  {
   "cell_type": "code",
   "execution_count": 15,
   "metadata": {},
   "outputs": [],
   "source": [
    "### TODO:\n",
    "#    - instantiate another object with the following characteristics:\n",
    "# .       - color orange, size L, style short-sleeve, and price 10\n",
    "#    - store the object in a variable called shirt_two\n",
    "###\n",
    "shirt_two = Shirt(\"orange\", \"L\", \"short-sleeve\", 10)"
   ]
  },
  {
   "cell_type": "code",
   "execution_count": 16,
   "metadata": {},
   "outputs": [
    {
     "name": "stdout",
     "output_type": "stream",
     "text": [
      "The total of the shirts is  20\n"
     ]
    }
   ],
   "source": [
    "### TODO:\n",
    "#    - calculate the total cost of shirt_one and shirt_two\n",
    "#    - store the results in a variable called total\n",
    "###\n",
    "total = shirt_one.price + shirt_two.price\n",
    "#print(\"The total of the shirts is \", total)"
   ]
  },
  {
   "cell_type": "code",
   "execution_count": 20,
   "metadata": {},
   "outputs": [],
   "source": [
    "### TODO:\n",
    "#    - use the shirt discount method to calculate the total cost if\n",
    "#       shirt_one has a discount of 14% and shirt_two has a discount\n",
    "#       of 6%\n",
    "#    - store the results in a variable called total_discount\n",
    "###\n",
    "\n",
    "total_discount = shirt_one.discount(0.14) + shirt_two.discount(0.06)\n",
    "#print(\"The total discount is \", total_discount)"
   ]
  },
  {
   "cell_type": "markdown",
   "metadata": {},
   "source": [
    "# Test your Code\n",
    "\n",
    "\n",
    "The following code cell tests your code. \n",
    "\n",
    "There is a file called tests.py containing a function called run_tests(). The run_tests() function executes a handful of assert statements to check your work. You can see this file if you go to the Jupyter Notebook menu and click on \"File->Open\" and then open the tests.py file.\n",
    "\n",
    "Execute the next code cell. The code will produce an error if your answers in this exercise are not what was expected. Keep working on your code until all tests are passing.\n",
    "\n",
    "If you run the code cell and there is no output, then you passed all the tests!\n",
    "\n",
    "As mentioned previously, there's also a file with a solution. To find the solution, click on the Jupyter logo at the top of the workspace, and then enter the folder titled 1.OOP_syntax_shirt_practice"
   ]
  },
  {
   "cell_type": "code",
   "execution_count": 21,
   "metadata": {},
   "outputs": [
    {
     "ename": "SyntaxError",
     "evalue": "unterminated string literal (detected at line 16) (tests.py, line 16)",
     "output_type": "error",
     "traceback": [
      "Traceback \u001b[1;36m(most recent call last)\u001b[0m:\n",
      "  File \u001b[0;32m\"C:\\Users\\Admin\\AppData\\Local\\Packages\\PythonSoftwareFoundation.Python.3.10_qbz5n2kfra8p0\\LocalCache\\local-packages\\Python310\\site-packages\\IPython\\core\\interactiveshell.py\"\u001b[0m, line \u001b[0;32m3553\u001b[0m, in \u001b[0;35mrun_code\u001b[0m\n    exec(code_obj, self.user_global_ns, self.user_ns)\n",
      "\u001b[1;36m  File \u001b[1;32m\"C:\\Users\\Admin\\AppData\\Local\\Temp\\ipykernel_6352\\1166073992.py\"\u001b[1;36m, line \u001b[1;32m2\u001b[1;36m, in \u001b[1;35m<cell line: 2>\u001b[1;36m\u001b[0m\n\u001b[1;33m    from tests import run_tests\u001b[0m\n",
      "\u001b[1;36m  File \u001b[1;32m\"C:\\Users\\Admin\\Documents\\Intro-to-Python\\OOP\\tests.py\"\u001b[1;36m, line \u001b[1;32m16\u001b[0m\n\u001b[1;33m    assert round(total_discount) == 18, 'total_discount should be 18.0\u001b[0m\n\u001b[1;37m                                        ^\u001b[0m\n\u001b[1;31mSyntaxError\u001b[0m\u001b[1;31m:\u001b[0m unterminated string literal (detected at line 16)\n"
     ]
    }
   ],
   "source": [
    "# Unit tests to check your solution\n",
    "from tests import run_tests\n",
    "\n",
    "run_tests(shirt_one, shirt_two, total, total_discount)"
   ]
  },
  {
   "cell_type": "code",
   "execution_count": null,
   "metadata": {},
   "outputs": [],
   "source": []
  }
 ],
 "metadata": {
  "kernelspec": {
   "display_name": "Python 3 (ipykernel)",
   "language": "python",
   "name": "python3"
  },
  "language_info": {
   "codemirror_mode": {
    "name": "ipython",
    "version": 3
   },
   "file_extension": ".py",
   "mimetype": "text/x-python",
   "name": "python",
   "nbconvert_exporter": "python",
   "pygments_lexer": "ipython3",
   "version": "3.10.5"
  }
 },
 "nbformat": 4,
 "nbformat_minor": 2
}
