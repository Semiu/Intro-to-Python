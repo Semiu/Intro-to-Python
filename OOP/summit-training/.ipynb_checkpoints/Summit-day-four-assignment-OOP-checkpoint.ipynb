{
 "cells": [
  {
   "cell_type": "code",
   "execution_count": 12,
   "id": "ab055c1b",
   "metadata": {},
   "outputs": [],
   "source": [
    "#1 Generator methods to get all items of a dictinary\n",
    "data = {\n",
    "    'Person': ['a', 'b'],\n",
    "    'Student': ['c', 'd', 'e'],\n",
    "    'Faculty': ['f', 'g'],\n",
    "    'Staff': ['h', 'k'],\n",
    "    'Employee': ['l', 'm', 'n', 'o', 'p']}\n",
    "\n",
    "def generate_data (data):\n",
    "    for idx, (key, vals) in enumerate(data.items()):\n",
    "        vals = [val for val in vals]\n",
    "        print(vals)\n",
    "    ite_vals = iter(vals)\n",
    "    return next(ite_vals)\n",
    "         "
   ]
  },
  {
   "cell_type": "code",
   "execution_count": 13,
   "id": "4d0c7438",
   "metadata": {},
   "outputs": [
    {
     "name": "stdout",
     "output_type": "stream",
     "text": [
      "['a', 'b']\n",
      "['c', 'd', 'e']\n",
      "['f', 'g']\n",
      "['h', 'k']\n",
      "['l', 'm', 'n', 'o', 'p']\n"
     ]
    },
    {
     "data": {
      "text/plain": [
       "'l'"
      ]
     },
     "execution_count": 13,
     "metadata": {},
     "output_type": "execute_result"
    }
   ],
   "source": [
    "generate_data(data)"
   ]
  },
  {
   "cell_type": "code",
   "execution_count": 22,
   "id": "1293ae4a",
   "metadata": {},
   "outputs": [
    {
     "name": "stdout",
     "output_type": "stream",
     "text": [
      "Enter the highest value: 87\n",
      "Enter the smallest value: 54\n"
     ]
    }
   ],
   "source": [
    "#2 A Generator that yields \"n\" random numbers between a low and high number (user inputs)\n",
    "# Use the random library\n",
    "import random\n",
    "\n",
    "highest_num = int(input(\"Enter the highest value: \"))\n",
    "smallest_num = int(input(\"Enter the smallest value: \"))\n",
    "\n",
    "n = random.randint(smallest_num, highest_num)"
   ]
  },
  {
   "cell_type": "code",
   "execution_count": 23,
   "id": "877cf972",
   "metadata": {},
   "outputs": [],
   "source": [
    "def yield_num (n):\n",
    "    \n",
    "    for i in range(n):\n",
    "        yield i\n",
    "        i += 1"
   ]
  },
  {
   "cell_type": "code",
   "execution_count": 26,
   "id": "c2d1d97c",
   "metadata": {},
   "outputs": [
    {
     "data": {
      "text/plain": [
       "0"
      ]
     },
     "execution_count": 26,
     "metadata": {},
     "output_type": "execute_result"
    }
   ],
   "source": [
    "next(yield_num (n))"
   ]
  },
  {
   "cell_type": "code",
   "execution_count": 25,
   "id": "4ab68b75",
   "metadata": {},
   "outputs": [],
   "source": [
    "#3 2 Seperare python programs to display prime numbers from n1 to n2 using iterators and generators"
   ]
  },
  {
   "cell_type": "code",
   "execution_count": 61,
   "id": "c027ce67",
   "metadata": {},
   "outputs": [],
   "source": [
    "#4 Inheritance and Polymorphism\n",
    "# (The Person, Student, Employee, Faculty, and Staff classes) \n",
    "# Design a class named Person and its two subclasses named Student and Employee. Make Faculty and Staff subclasses of Employee. \n",
    "# A person has a name, address, phone number, and email address. \n",
    "# A student has a class status (freshman, sophomore, junior, or senior). Define the status as a constant. \n",
    "# An employee has an office, salary, and date hired.\n",
    "# A faculty member has office hours and a rank. \n",
    "# A staff member has a title. \n",
    "# Override the repr() function in each class to display the class name and the person’s name.\n",
    "# Write a test code that creates a Person, Student, Employee, Faculty, and Staff.\n",
    "\n",
    "class Person:\n",
    "    def __init__(self, name, address, phone_number, email):\n",
    "        self.name = name\n",
    "        self.address = address\n",
    "        self.phone_number = phone_number\n",
    "        self.email = email\n",
    "    \n",
    "    def __repr__(self):\n",
    "        return (f\"name = {self.name}\",\n",
    "               f\"address = {self.address}\",\n",
    "               f\"phone_number = {self.name}\",\n",
    "               f\"email = {self.email}\")\n",
    "\n",
    "\n",
    "class Student(Person):\n",
    "    def __init__(self, name, address, phone_number, email, STATUS):\n",
    "        super().__init__(name, address, phone_number, email)\n",
    "        #self.STATUS = STATUS = [\"freshman\", \"sophomore\", \"junior\", \"senior\"]\n",
    "        self.STATUS = STATUS\n",
    "    \n",
    "    def __repr__(self):\n",
    "        return (f\"name = {self.name}\",\n",
    "               f\"address = {self.address}\",\n",
    "               f\"phone_number = {self.name}\",\n",
    "               f\"email = {self.email}\",\n",
    "               f\"STATUS = {self.STATUS}\")\n",
    "\n",
    "\n",
    "class Employee(Person):\n",
    "    def __init__(self, name, address, phone_number, email, STATUS, office, salary, date_hired):\n",
    "        super().__init__(name, address, phone_number, email, STATUS)\n",
    "        self.office = office\n",
    "        self.salary = salary\n",
    "        self.date_hired = date_hired\n",
    "    \n",
    "    def __repr__(self):\n",
    "        return (f\"name = {self.name}\",\n",
    "               f\"address = {self.address}\",\n",
    "               f\"phone_number = {self.name}\",\n",
    "               f\"email = {self.email}\",\n",
    "               f\"STATUS = {self.STATUS}\",\n",
    "               f\"office = {self.office}\",\n",
    "               f\"salary = {self.salary}\",\n",
    "               f\"date_hired = {self.date_hired}\")\n",
    "\n",
    "\n",
    "class Faculty(Employee):\n",
    "    def __init__(self, name, address, phone_number, email, STATUS, office, salary, date_hired, hrs, rank):\n",
    "        super().__init__(name, address, phone_number, email, STATUS, office, salary, date_hired)\n",
    "        self.hrs = hrs\n",
    "        self.rank = rank\n",
    "        \n",
    "        \n",
    "    def __repr__(self):\n",
    "        return (f\"name = {self.name}\",\n",
    "               f\"address = {self.address}\",\n",
    "               f\"phone_number = {self.name}\",\n",
    "               f\"email = {self.email}\",\n",
    "               f\"STATUS = {self.STATUS}\",\n",
    "               f\"office = {self.office}\",\n",
    "               f\"salary = {self.salary}\",\n",
    "               f\"date_hired = {self.date_hired}\",\n",
    "               f\"hrs = {self.hrs}\",\n",
    "               f\"salary = {self.rank}\")\n",
    "\n",
    "class Staff(Employee):\n",
    "    def __init__(self, name, address, phone_number, email, STATUS, office, salary, date_hired, title):\n",
    "        super().__init__(name, address, phone_number, email, STATUS, office, salary, date_hired, title)\n",
    "        self.title = title\n",
    "        \n",
    "        \n",
    "    def __repr__(self):\n",
    "        return (f\"name = {self.name}\",\n",
    "               f\"address = {self.address}\",\n",
    "               f\"phone_number = {self.name}\",\n",
    "               f\"email = {self.email}\",\n",
    "               f\"STATUS = {self.STATUS}\",\n",
    "               f\"office = {self.office}\",\n",
    "               f\"salary = {self.salary}\",\n",
    "               f\"date_hired = {self.date_hired}\",\n",
    "               f\"title = {self.title}\")"
   ]
  },
  {
   "cell_type": "code",
   "execution_count": 64,
   "id": "41c3172a",
   "metadata": {},
   "outputs": [],
   "source": [
    "#Test code for Question 4\n",
    "\n",
    "person = Person(\"James Ibori\", \"Delta\", \"999-999-000\", \"ole@yahoo.com\")\n",
    "\n",
    "#student = Student(\"Bello Cute\", \"Ibadan\", \"000-2334-222\", \"omowe@books.com\", \"junior\")\n",
    "\n",
    "#employee = Employee()\n",
    "\n",
    "#faculty = Faculty()\n",
    "\n",
    "#staff = Staff()"
   ]
  },
  {
   "cell_type": "code",
   "execution_count": 65,
   "id": "857215f8",
   "metadata": {},
   "outputs": [
    {
     "ename": "TypeError",
     "evalue": "__str__ returned non-string (type tuple)",
     "output_type": "error",
     "traceback": [
      "\u001b[1;31m---------------------------------------------------------------------------\u001b[0m",
      "\u001b[1;31mTypeError\u001b[0m                                 Traceback (most recent call last)",
      "\u001b[1;32m~\\AppData\\Local\\Temp\\ipykernel_12388\\4147899475.py\u001b[0m in \u001b[0;36m<cell line: 1>\u001b[1;34m()\u001b[0m\n\u001b[1;32m----> 1\u001b[1;33m \u001b[0mprint\u001b[0m\u001b[1;33m(\u001b[0m\u001b[0mperson\u001b[0m\u001b[1;33m)\u001b[0m\u001b[1;33m\u001b[0m\u001b[1;33m\u001b[0m\u001b[0m\n\u001b[0m",
      "\u001b[1;31mTypeError\u001b[0m: __str__ returned non-string (type tuple)"
     ]
    }
   ],
   "source": [
    "print(person)"
   ]
  },
  {
   "cell_type": "code",
   "execution_count": null,
   "id": "cb3c2faa",
   "metadata": {},
   "outputs": [],
   "source": []
  }
 ],
 "metadata": {
  "kernelspec": {
   "display_name": "Python 3 (ipykernel)",
   "language": "python",
   "name": "python3"
  },
  "language_info": {
   "codemirror_mode": {
    "name": "ipython",
    "version": 3
   },
   "file_extension": ".py",
   "mimetype": "text/x-python",
   "name": "python",
   "nbconvert_exporter": "python",
   "pygments_lexer": "ipython3",
   "version": "3.10.5"
  }
 },
 "nbformat": 4,
 "nbformat_minor": 5
}
