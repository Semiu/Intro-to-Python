{
 "cells": [
  {
   "cell_type": "markdown",
   "metadata": {},
   "source": [
    "This script is to scrape Java code files, identified by `.java` extension, from GitHub."
   ]
  },
  {
   "cell_type": "markdown",
   "metadata": {},
   "source": [
    "The repos scraped in this script are randomly picked\n"
   ]
  },
  {
   "cell_type": "markdown",
   "metadata": {},
   "source": [
    "Import the PyGitHub, operating system, and base64 (to decode base64 encoded files) libraries/modules"
   ]
  },
  {
   "cell_type": "markdown",
   "metadata": {},
   "source": [
    "GitHub login credentials and target directory for the files.\n",
    "Specifiying the number of iteration to control the rate of the scraping"
   ]
  },
  {
   "cell_type": "code",
   "execution_count": 1,
   "metadata": {},
   "outputs": [
    {
     "name": "stdout",
     "output_type": "stream",
     "text": [
      "CS-Notes\n",
      "elasticsearch\n",
      "advanced-java\n",
      "RxJava\n",
      "spring-framework\n"
     ]
    }
   ],
   "source": [
    "import os\n",
    "from github import Github\n",
    "import base64\n",
    "\n",
    "username = \"ayobami.sm@gmail.com\"\n",
    "password = \"AYObami@1984\"\n",
    "target_dir = \"F:\\\\Dataset\\\\Javafiles\"\n",
    "g = Github(username, password)\n",
    "repositories = g.search_repositories(query='language:java')\n",
    "#print(list(repositories))\n",
    "n=5 #end\n",
    "i=0 #start\n",
    "\n",
    "#Looping through the repositories to find those that match our criteria\n",
    "for repo in repositories:\n",
    "    repo_name = repo.name\n",
    "    target_dir_of_repo = target_dir + \"\\\\\" + repo_name\n",
    "    print(repo_name)\n",
    "    try:\n",
    "        os.mkdir(target_dir_of_repo)\n",
    "        i += 1\n",
    "        contents = repo.get_contents(\"\")\n",
    "        \n",
    "        while len(contents) > 1:\n",
    "            file_content = contents.pop(0)\n",
    "            if file_content.type == \"dir\":\n",
    "                contents.extend(repo.get_contents(file_content.path))\n",
    "            else:\n",
    "                st = str(file_content)\n",
    "                file_name = st.split('\"')[1].split('\"')[0]\n",
    "                extension = filename.split(\".\")[-1]\n",
    "                if extension == \"java\":\n",
    "                    file_contents = repo.get_contents(file_content.path)\n",
    "                    file_data = base64.b64decode(file_contents.content)\n",
    "                    filename = filename.split(\"/\")[-1]\n",
    "                    file_out = open(target_dir_of_repo + \"/\" + filename, \"wb\")\n",
    "                    file_out.write(file_data)\n",
    "                \n",
    "    except:\n",
    "        pass\n",
    "    if i == n:\n",
    "        break"
   ]
  },
  {
   "cell_type": "markdown",
   "metadata": {},
   "source": []
  },
  {
   "cell_type": "code",
   "execution_count": null,
   "metadata": {},
   "outputs": [],
   "source": [
    "#Get the language of the file using its extension\n",
    "def get_language(text):\n",
    "    if extension.get('.'+text.lower()) is None:\n",
    "        return False\n",
    "    else:\n",
    "        return extension.get('.'+text.lower())\n"
   ]
  },
  {
   "cell_type": "code",
   "execution_count": null,
   "metadata": {},
   "outputs": [],
   "source": [
    "#Writing each commit info to CSV\n",
    "def writeCommit_to_csv(info,filename):\n",
    "    with open(COMMIT_PATH+filename, 'a') as f:\n",
    "        for i in range(len(info['sha'])):\n",
    "            string = str(info['sha'][i])\n",
    "            string+= ','+str(info['message'][i])+'\\n'\n",
    "            f.write(string)"
   ]
  },
  {
   "cell_type": "code",
   "execution_count": null,
   "metadata": {},
   "outputs": [],
   "source": [
    "#Give the file name headings - sha and message\n",
    "path = COMMIT_PATH+filename\n",
    "f = open(path,'w')\n",
    "f.write('sha,message\\n')\n",
    "f.close()"
   ]
  },
  {
   "cell_type": "code",
   "execution_count": null,
   "metadata": {},
   "outputs": [],
   "source": [
    "#Function wrapper - This function wraps other functions\n",
    "def function_wrapper():\n",
    "    raw_commits = open(COMMIT_PATH+'java_raw_commits.txt', encoding='utf-8', errors='ignore').readlines()\n",
    "    commits = parseCommit(raw_commits)\n",
    "    info = get_information(commits)\n",
    "    writeCommit_to_csv(info,filename)"
   ]
  },
  {
   "cell_type": "code",
   "execution_count": null,
   "metadata": {},
   "outputs": [],
   "source": [
    "#Calling the function_wrapper function\n",
    "function_wrapper()"
   ]
  }
 ],
 "metadata": {
  "kernelspec": {
   "display_name": "Python 3",
   "language": "python",
   "name": "python3"
  },
  "language_info": {
   "codemirror_mode": {
    "name": "ipython",
    "version": 3
   },
   "file_extension": ".py",
   "mimetype": "text/x-python",
   "name": "python",
   "nbconvert_exporter": "python",
   "pygments_lexer": "ipython3",
   "version": "3.7.9"
  }
 },
 "nbformat": 4,
 "nbformat_minor": 4
}
